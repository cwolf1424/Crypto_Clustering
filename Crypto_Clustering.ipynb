{
 "cells": [
  {
   "cell_type": "code",
   "execution_count": 67,
   "metadata": {},
   "outputs": [],
   "source": [
    "# Import required libraries and dependencies\n",
    "import pandas as pd\n",
    "import hvplot.pandas\n",
    "from sklearn.cluster import KMeans\n",
    "from sklearn.decomposition import PCA\n",
    "from sklearn.preprocessing import StandardScaler"
   ]
  },
  {
   "cell_type": "code",
   "execution_count": 68,
   "metadata": {},
   "outputs": [
    {
     "data": {
      "text/html": [
       "<div>\n",
       "<style scoped>\n",
       "    .dataframe tbody tr th:only-of-type {\n",
       "        vertical-align: middle;\n",
       "    }\n",
       "\n",
       "    .dataframe tbody tr th {\n",
       "        vertical-align: top;\n",
       "    }\n",
       "\n",
       "    .dataframe thead th {\n",
       "        text-align: right;\n",
       "    }\n",
       "</style>\n",
       "<table border=\"1\" class=\"dataframe\">\n",
       "  <thead>\n",
       "    <tr style=\"text-align: right;\">\n",
       "      <th></th>\n",
       "      <th>price_change_percentage_24h</th>\n",
       "      <th>price_change_percentage_7d</th>\n",
       "      <th>price_change_percentage_14d</th>\n",
       "      <th>price_change_percentage_30d</th>\n",
       "      <th>price_change_percentage_60d</th>\n",
       "      <th>price_change_percentage_200d</th>\n",
       "      <th>price_change_percentage_1y</th>\n",
       "    </tr>\n",
       "    <tr>\n",
       "      <th>coin_id</th>\n",
       "      <th></th>\n",
       "      <th></th>\n",
       "      <th></th>\n",
       "      <th></th>\n",
       "      <th></th>\n",
       "      <th></th>\n",
       "      <th></th>\n",
       "    </tr>\n",
       "  </thead>\n",
       "  <tbody>\n",
       "    <tr>\n",
       "      <th>bitcoin</th>\n",
       "      <td>1.08388</td>\n",
       "      <td>7.60278</td>\n",
       "      <td>6.57509</td>\n",
       "      <td>7.67258</td>\n",
       "      <td>-3.25185</td>\n",
       "      <td>83.51840</td>\n",
       "      <td>37.51761</td>\n",
       "    </tr>\n",
       "    <tr>\n",
       "      <th>ethereum</th>\n",
       "      <td>0.22392</td>\n",
       "      <td>10.38134</td>\n",
       "      <td>4.80849</td>\n",
       "      <td>0.13169</td>\n",
       "      <td>-12.88890</td>\n",
       "      <td>186.77418</td>\n",
       "      <td>101.96023</td>\n",
       "    </tr>\n",
       "    <tr>\n",
       "      <th>tether</th>\n",
       "      <td>-0.21173</td>\n",
       "      <td>0.04935</td>\n",
       "      <td>0.00640</td>\n",
       "      <td>-0.04237</td>\n",
       "      <td>0.28037</td>\n",
       "      <td>-0.00542</td>\n",
       "      <td>0.01954</td>\n",
       "    </tr>\n",
       "    <tr>\n",
       "      <th>ripple</th>\n",
       "      <td>-0.37819</td>\n",
       "      <td>-0.60926</td>\n",
       "      <td>2.24984</td>\n",
       "      <td>0.23455</td>\n",
       "      <td>-17.55245</td>\n",
       "      <td>39.53888</td>\n",
       "      <td>-16.60193</td>\n",
       "    </tr>\n",
       "    <tr>\n",
       "      <th>bitcoin-cash</th>\n",
       "      <td>2.90585</td>\n",
       "      <td>17.09717</td>\n",
       "      <td>14.75334</td>\n",
       "      <td>15.74903</td>\n",
       "      <td>-13.71793</td>\n",
       "      <td>21.66042</td>\n",
       "      <td>14.49384</td>\n",
       "    </tr>\n",
       "    <tr>\n",
       "      <th>binancecoin</th>\n",
       "      <td>2.10423</td>\n",
       "      <td>12.85511</td>\n",
       "      <td>6.80688</td>\n",
       "      <td>0.05865</td>\n",
       "      <td>36.33486</td>\n",
       "      <td>155.61937</td>\n",
       "      <td>69.69195</td>\n",
       "    </tr>\n",
       "    <tr>\n",
       "      <th>chainlink</th>\n",
       "      <td>-0.23935</td>\n",
       "      <td>20.69459</td>\n",
       "      <td>9.30098</td>\n",
       "      <td>-11.21747</td>\n",
       "      <td>-43.69522</td>\n",
       "      <td>403.22917</td>\n",
       "      <td>325.13186</td>\n",
       "    </tr>\n",
       "    <tr>\n",
       "      <th>cardano</th>\n",
       "      <td>0.00322</td>\n",
       "      <td>13.99302</td>\n",
       "      <td>5.55476</td>\n",
       "      <td>10.10553</td>\n",
       "      <td>-22.84776</td>\n",
       "      <td>264.51418</td>\n",
       "      <td>156.09756</td>\n",
       "    </tr>\n",
       "    <tr>\n",
       "      <th>litecoin</th>\n",
       "      <td>-0.06341</td>\n",
       "      <td>6.60221</td>\n",
       "      <td>7.28931</td>\n",
       "      <td>1.21662</td>\n",
       "      <td>-17.23960</td>\n",
       "      <td>27.49919</td>\n",
       "      <td>-12.66408</td>\n",
       "    </tr>\n",
       "    <tr>\n",
       "      <th>bitcoin-cash-sv</th>\n",
       "      <td>0.92530</td>\n",
       "      <td>3.29641</td>\n",
       "      <td>-1.86656</td>\n",
       "      <td>2.88926</td>\n",
       "      <td>-24.87434</td>\n",
       "      <td>7.42562</td>\n",
       "      <td>93.73082</td>\n",
       "    </tr>\n",
       "  </tbody>\n",
       "</table>\n",
       "</div>"
      ],
      "text/plain": [
       "                 price_change_percentage_24h  price_change_percentage_7d  \\\n",
       "coin_id                                                                    \n",
       "bitcoin                              1.08388                     7.60278   \n",
       "ethereum                             0.22392                    10.38134   \n",
       "tether                              -0.21173                     0.04935   \n",
       "ripple                              -0.37819                    -0.60926   \n",
       "bitcoin-cash                         2.90585                    17.09717   \n",
       "binancecoin                          2.10423                    12.85511   \n",
       "chainlink                           -0.23935                    20.69459   \n",
       "cardano                              0.00322                    13.99302   \n",
       "litecoin                            -0.06341                     6.60221   \n",
       "bitcoin-cash-sv                      0.92530                     3.29641   \n",
       "\n",
       "                 price_change_percentage_14d  price_change_percentage_30d  \\\n",
       "coin_id                                                                     \n",
       "bitcoin                              6.57509                      7.67258   \n",
       "ethereum                             4.80849                      0.13169   \n",
       "tether                               0.00640                     -0.04237   \n",
       "ripple                               2.24984                      0.23455   \n",
       "bitcoin-cash                        14.75334                     15.74903   \n",
       "binancecoin                          6.80688                      0.05865   \n",
       "chainlink                            9.30098                    -11.21747   \n",
       "cardano                              5.55476                     10.10553   \n",
       "litecoin                             7.28931                      1.21662   \n",
       "bitcoin-cash-sv                     -1.86656                      2.88926   \n",
       "\n",
       "                 price_change_percentage_60d  price_change_percentage_200d  \\\n",
       "coin_id                                                                      \n",
       "bitcoin                             -3.25185                      83.51840   \n",
       "ethereum                           -12.88890                     186.77418   \n",
       "tether                               0.28037                      -0.00542   \n",
       "ripple                             -17.55245                      39.53888   \n",
       "bitcoin-cash                       -13.71793                      21.66042   \n",
       "binancecoin                         36.33486                     155.61937   \n",
       "chainlink                          -43.69522                     403.22917   \n",
       "cardano                            -22.84776                     264.51418   \n",
       "litecoin                           -17.23960                      27.49919   \n",
       "bitcoin-cash-sv                    -24.87434                       7.42562   \n",
       "\n",
       "                 price_change_percentage_1y  \n",
       "coin_id                                      \n",
       "bitcoin                            37.51761  \n",
       "ethereum                          101.96023  \n",
       "tether                              0.01954  \n",
       "ripple                            -16.60193  \n",
       "bitcoin-cash                       14.49384  \n",
       "binancecoin                        69.69195  \n",
       "chainlink                         325.13186  \n",
       "cardano                           156.09756  \n",
       "litecoin                          -12.66408  \n",
       "bitcoin-cash-sv                    93.73082  "
      ]
     },
     "execution_count": 68,
     "metadata": {},
     "output_type": "execute_result"
    }
   ],
   "source": [
    "# Load the data into a Pandas DataFrame\n",
    "df_market_data = pd.read_csv(\n",
    "    \"Resources/crypto_market_data.csv\",\n",
    "    index_col=\"coin_id\")\n",
    "\n",
    "# Display sample data\n",
    "df_market_data.head(10)"
   ]
  },
  {
   "cell_type": "code",
   "execution_count": 69,
   "metadata": {},
   "outputs": [
    {
     "data": {
      "text/html": [
       "<div>\n",
       "<style scoped>\n",
       "    .dataframe tbody tr th:only-of-type {\n",
       "        vertical-align: middle;\n",
       "    }\n",
       "\n",
       "    .dataframe tbody tr th {\n",
       "        vertical-align: top;\n",
       "    }\n",
       "\n",
       "    .dataframe thead th {\n",
       "        text-align: right;\n",
       "    }\n",
       "</style>\n",
       "<table border=\"1\" class=\"dataframe\">\n",
       "  <thead>\n",
       "    <tr style=\"text-align: right;\">\n",
       "      <th></th>\n",
       "      <th>price_change_percentage_24h</th>\n",
       "      <th>price_change_percentage_7d</th>\n",
       "      <th>price_change_percentage_14d</th>\n",
       "      <th>price_change_percentage_30d</th>\n",
       "      <th>price_change_percentage_60d</th>\n",
       "      <th>price_change_percentage_200d</th>\n",
       "      <th>price_change_percentage_1y</th>\n",
       "    </tr>\n",
       "  </thead>\n",
       "  <tbody>\n",
       "    <tr>\n",
       "      <th>count</th>\n",
       "      <td>41.000000</td>\n",
       "      <td>41.000000</td>\n",
       "      <td>41.000000</td>\n",
       "      <td>41.000000</td>\n",
       "      <td>41.000000</td>\n",
       "      <td>41.000000</td>\n",
       "      <td>41.000000</td>\n",
       "    </tr>\n",
       "    <tr>\n",
       "      <th>mean</th>\n",
       "      <td>-0.269686</td>\n",
       "      <td>4.497147</td>\n",
       "      <td>0.185787</td>\n",
       "      <td>1.545693</td>\n",
       "      <td>-0.094119</td>\n",
       "      <td>236.537432</td>\n",
       "      <td>347.667956</td>\n",
       "    </tr>\n",
       "    <tr>\n",
       "      <th>std</th>\n",
       "      <td>2.694793</td>\n",
       "      <td>6.375218</td>\n",
       "      <td>8.376939</td>\n",
       "      <td>26.344218</td>\n",
       "      <td>47.365803</td>\n",
       "      <td>435.225304</td>\n",
       "      <td>1247.842884</td>\n",
       "    </tr>\n",
       "    <tr>\n",
       "      <th>min</th>\n",
       "      <td>-13.527860</td>\n",
       "      <td>-6.094560</td>\n",
       "      <td>-18.158900</td>\n",
       "      <td>-34.705480</td>\n",
       "      <td>-44.822480</td>\n",
       "      <td>-0.392100</td>\n",
       "      <td>-17.567530</td>\n",
       "    </tr>\n",
       "    <tr>\n",
       "      <th>25%</th>\n",
       "      <td>-0.608970</td>\n",
       "      <td>0.047260</td>\n",
       "      <td>-5.026620</td>\n",
       "      <td>-10.438470</td>\n",
       "      <td>-25.907990</td>\n",
       "      <td>21.660420</td>\n",
       "      <td>0.406170</td>\n",
       "    </tr>\n",
       "    <tr>\n",
       "      <th>50%</th>\n",
       "      <td>-0.063410</td>\n",
       "      <td>3.296410</td>\n",
       "      <td>0.109740</td>\n",
       "      <td>-0.042370</td>\n",
       "      <td>-7.544550</td>\n",
       "      <td>83.905200</td>\n",
       "      <td>69.691950</td>\n",
       "    </tr>\n",
       "    <tr>\n",
       "      <th>75%</th>\n",
       "      <td>0.612090</td>\n",
       "      <td>7.602780</td>\n",
       "      <td>5.510740</td>\n",
       "      <td>4.578130</td>\n",
       "      <td>0.657260</td>\n",
       "      <td>216.177610</td>\n",
       "      <td>168.372510</td>\n",
       "    </tr>\n",
       "    <tr>\n",
       "      <th>max</th>\n",
       "      <td>4.840330</td>\n",
       "      <td>20.694590</td>\n",
       "      <td>24.239190</td>\n",
       "      <td>140.795700</td>\n",
       "      <td>223.064370</td>\n",
       "      <td>2227.927820</td>\n",
       "      <td>7852.089700</td>\n",
       "    </tr>\n",
       "  </tbody>\n",
       "</table>\n",
       "</div>"
      ],
      "text/plain": [
       "       price_change_percentage_24h  price_change_percentage_7d  \\\n",
       "count                    41.000000                   41.000000   \n",
       "mean                     -0.269686                    4.497147   \n",
       "std                       2.694793                    6.375218   \n",
       "min                     -13.527860                   -6.094560   \n",
       "25%                      -0.608970                    0.047260   \n",
       "50%                      -0.063410                    3.296410   \n",
       "75%                       0.612090                    7.602780   \n",
       "max                       4.840330                   20.694590   \n",
       "\n",
       "       price_change_percentage_14d  price_change_percentage_30d  \\\n",
       "count                    41.000000                    41.000000   \n",
       "mean                      0.185787                     1.545693   \n",
       "std                       8.376939                    26.344218   \n",
       "min                     -18.158900                   -34.705480   \n",
       "25%                      -5.026620                   -10.438470   \n",
       "50%                       0.109740                    -0.042370   \n",
       "75%                       5.510740                     4.578130   \n",
       "max                      24.239190                   140.795700   \n",
       "\n",
       "       price_change_percentage_60d  price_change_percentage_200d  \\\n",
       "count                    41.000000                     41.000000   \n",
       "mean                     -0.094119                    236.537432   \n",
       "std                      47.365803                    435.225304   \n",
       "min                     -44.822480                     -0.392100   \n",
       "25%                     -25.907990                     21.660420   \n",
       "50%                      -7.544550                     83.905200   \n",
       "75%                       0.657260                    216.177610   \n",
       "max                     223.064370                   2227.927820   \n",
       "\n",
       "       price_change_percentage_1y  \n",
       "count                   41.000000  \n",
       "mean                   347.667956  \n",
       "std                   1247.842884  \n",
       "min                    -17.567530  \n",
       "25%                      0.406170  \n",
       "50%                     69.691950  \n",
       "75%                    168.372510  \n",
       "max                   7852.089700  "
      ]
     },
     "execution_count": 69,
     "metadata": {},
     "output_type": "execute_result"
    }
   ],
   "source": [
    "# Generate summary statistics\n",
    "df_market_data.describe()"
   ]
  },
  {
   "cell_type": "code",
   "execution_count": 70,
   "metadata": {},
   "outputs": [
    {
     "data": {},
     "metadata": {},
     "output_type": "display_data"
    },
    {
     "data": {
      "application/vnd.holoviews_exec.v0+json": "",
      "text/html": [
       "<div id='2276'>\n",
       "  <div class=\"bk-root\" id=\"dac0352c-3f76-4f03-a93b-36813815b13d\" data-root-id=\"2276\"></div>\n",
       "</div>\n",
       "<script type=\"application/javascript\">(function(root) {\n",
       "  function embed_document(root) {\n",
       "    var docs_json = {\"c94fc261-603a-4839-a1ce-375343b570ae\":{\"defs\":[{\"extends\":null,\"module\":null,\"name\":\"ReactiveHTML1\",\"overrides\":[],\"properties\":[]},{\"extends\":null,\"module\":null,\"name\":\"FlexBox1\",\"overrides\":[],\"properties\":[{\"default\":\"flex-start\",\"kind\":null,\"name\":\"align_content\"},{\"default\":\"flex-start\",\"kind\":null,\"name\":\"align_items\"},{\"default\":\"row\",\"kind\":null,\"name\":\"flex_direction\"},{\"default\":\"wrap\",\"kind\":null,\"name\":\"flex_wrap\"},{\"default\":\"flex-start\",\"kind\":null,\"name\":\"justify_content\"}]},{\"extends\":null,\"module\":null,\"name\":\"GridStack1\",\"overrides\":[],\"properties\":[{\"default\":\"warn\",\"kind\":null,\"name\":\"mode\"},{\"default\":null,\"kind\":null,\"name\":\"ncols\"},{\"default\":null,\"kind\":null,\"name\":\"nrows\"},{\"default\":true,\"kind\":null,\"name\":\"allow_resize\"},{\"default\":true,\"kind\":null,\"name\":\"allow_drag\"},{\"default\":[],\"kind\":null,\"name\":\"state\"}]},{\"extends\":null,\"module\":null,\"name\":\"click1\",\"overrides\":[],\"properties\":[{\"default\":\"\",\"kind\":null,\"name\":\"terminal_output\"},{\"default\":\"\",\"kind\":null,\"name\":\"debug_name\"},{\"default\":0,\"kind\":null,\"name\":\"clears\"}]},{\"extends\":null,\"module\":null,\"name\":\"NotificationAreaBase1\",\"overrides\":[],\"properties\":[{\"default\":\"bottom-right\",\"kind\":null,\"name\":\"position\"},{\"default\":0,\"kind\":null,\"name\":\"_clear\"}]},{\"extends\":null,\"module\":null,\"name\":\"NotificationArea1\",\"overrides\":[],\"properties\":[{\"default\":[],\"kind\":null,\"name\":\"notifications\"},{\"default\":\"bottom-right\",\"kind\":null,\"name\":\"position\"},{\"default\":0,\"kind\":null,\"name\":\"_clear\"},{\"default\":[{\"background\":\"#ffc107\",\"icon\":{\"className\":\"fas fa-exclamation-triangle\",\"color\":\"white\",\"tagName\":\"i\"},\"type\":\"warning\"},{\"background\":\"#007bff\",\"icon\":{\"className\":\"fas fa-info-circle\",\"color\":\"white\",\"tagName\":\"i\"},\"type\":\"info\"}],\"kind\":null,\"name\":\"types\"}]},{\"extends\":null,\"module\":null,\"name\":\"Notification\",\"overrides\":[],\"properties\":[{\"default\":null,\"kind\":null,\"name\":\"background\"},{\"default\":3000,\"kind\":null,\"name\":\"duration\"},{\"default\":null,\"kind\":null,\"name\":\"icon\"},{\"default\":\"\",\"kind\":null,\"name\":\"message\"},{\"default\":null,\"kind\":null,\"name\":\"notification_type\"},{\"default\":false,\"kind\":null,\"name\":\"_destroyed\"}]},{\"extends\":null,\"module\":null,\"name\":\"TemplateActions1\",\"overrides\":[],\"properties\":[{\"default\":0,\"kind\":null,\"name\":\"open_modal\"},{\"default\":0,\"kind\":null,\"name\":\"close_modal\"}]},{\"extends\":null,\"module\":null,\"name\":\"MaterialTemplateActions1\",\"overrides\":[],\"properties\":[{\"default\":0,\"kind\":null,\"name\":\"open_modal\"},{\"default\":0,\"kind\":null,\"name\":\"close_modal\"}]}],\"roots\":{\"references\":[{\"attributes\":{},\"id\":\"2467\",\"type\":\"UnionRenderers\"},{\"attributes\":{\"line_alpha\":0.1,\"line_color\":\"#30a2da\",\"line_width\":2,\"tags\":[\"apply_ranges\"],\"x\":{\"field\":\"coin_id\"},\"y\":{\"field\":\"value\"}},\"id\":\"2325\",\"type\":\"Line\"},{\"attributes\":{\"line_color\":\"#30a2da\",\"line_width\":2,\"tags\":[\"apply_ranges\"],\"x\":{\"field\":\"coin_id\"},\"y\":{\"field\":\"value\"}},\"id\":\"2324\",\"type\":\"Line\"},{\"attributes\":{\"axis_label\":\"coin_id\",\"coordinates\":null,\"formatter\":{\"id\":\"2316\"},\"group\":null,\"major_label_orientation\":1.5707963267948966,\"major_label_policy\":{\"id\":\"2317\"},\"ticker\":{\"id\":\"2296\"}},\"id\":\"2295\",\"type\":\"CategoricalAxis\"},{\"attributes\":{\"line_color\":\"#9467bd\",\"line_width\":2,\"tags\":[\"apply_ranges\"],\"x\":{\"field\":\"coin_id\"},\"y\":{\"field\":\"value\"}},\"id\":\"2503\",\"type\":\"Line\"},{\"attributes\":{\"label\":{\"value\":\"price_change_percentage_200d\"},\"renderers\":[{\"id\":\"2448\"}]},\"id\":\"2470\",\"type\":\"LegendItem\"},{\"attributes\":{\"coordinates\":null,\"group\":null,\"text_color\":\"black\",\"text_font_size\":\"12pt\"},\"id\":\"2287\",\"type\":\"Title\"},{\"attributes\":{\"axis\":{\"id\":\"2295\"},\"coordinates\":null,\"grid_line_color\":null,\"group\":null,\"ticker\":null},\"id\":\"2297\",\"type\":\"Grid\"},{\"attributes\":{\"line_alpha\":0.1,\"line_color\":\"#17becf\",\"line_width\":2,\"tags\":[\"apply_ranges\"],\"x\":{\"field\":\"coin_id\"},\"y\":{\"field\":\"value\"}},\"id\":\"2446\",\"type\":\"Line\"},{\"attributes\":{},\"id\":\"2383\",\"type\":\"UnionRenderers\"},{\"attributes\":{\"click_policy\":\"mute\",\"coordinates\":null,\"group\":null,\"items\":[{\"id\":\"2340\"},{\"id\":\"2362\"},{\"id\":\"2386\"},{\"id\":\"2412\"},{\"id\":\"2440\"},{\"id\":\"2470\"},{\"id\":\"2502\"}],\"location\":[0,0],\"title\":\"Variable\"},\"id\":\"2339\",\"type\":\"Legend\"},{\"attributes\":{},\"id\":\"2365\",\"type\":\"Selection\"},{\"attributes\":{\"line_color\":\"#17becf\",\"line_width\":2,\"tags\":[\"apply_ranges\"],\"x\":{\"field\":\"coin_id\"},\"y\":{\"field\":\"value\"}},\"id\":\"2471\",\"type\":\"Line\"},{\"attributes\":{},\"id\":\"2299\",\"type\":\"BasicTicker\"},{\"attributes\":{\"line_alpha\":0.1,\"line_color\":\"#8b8b8b\",\"line_width\":2,\"tags\":[\"apply_ranges\"],\"x\":{\"field\":\"coin_id\"},\"y\":{\"field\":\"value\"}},\"id\":\"2418\",\"type\":\"Line\"},{\"attributes\":{},\"id\":\"2296\",\"type\":\"CategoricalTicker\"},{\"attributes\":{},\"id\":\"2437\",\"type\":\"UnionRenderers\"},{\"attributes\":{},\"id\":\"2409\",\"type\":\"UnionRenderers\"},{\"attributes\":{\"line_color\":\"#8b8b8b\",\"line_width\":2,\"tags\":[\"apply_ranges\"],\"x\":{\"field\":\"coin_id\"},\"y\":{\"field\":\"value\"}},\"id\":\"2441\",\"type\":\"Line\"},{\"attributes\":{\"axis_label\":\"\",\"coordinates\":null,\"formatter\":{\"id\":\"2319\"},\"group\":null,\"major_label_policy\":{\"id\":\"2320\"},\"ticker\":{\"id\":\"2299\"}},\"id\":\"2298\",\"type\":\"LinearAxis\"},{\"attributes\":{\"label\":{\"value\":\"price_change_percentage_60d\"},\"renderers\":[{\"id\":\"2420\"}]},\"id\":\"2440\",\"type\":\"LegendItem\"},{\"attributes\":{\"axis\":{\"id\":\"2298\"},\"coordinates\":null,\"dimension\":1,\"grid_line_color\":null,\"group\":null,\"ticker\":null},\"id\":\"2301\",\"type\":\"Grid\"},{\"attributes\":{\"label\":{\"value\":\"price_change_percentage_30d\"},\"renderers\":[{\"id\":\"2394\"}]},\"id\":\"2412\",\"type\":\"LegendItem\"},{\"attributes\":{\"source\":{\"id\":\"2342\"}},\"id\":\"2349\",\"type\":\"CDSView\"},{\"attributes\":{\"label\":{\"value\":\"price_change_percentage_14d\"},\"renderers\":[{\"id\":\"2370\"}]},\"id\":\"2386\",\"type\":\"LegendItem\"},{\"attributes\":{\"line_alpha\":0.2,\"line_color\":\"#8b8b8b\",\"line_width\":2,\"tags\":[\"apply_ranges\"],\"x\":{\"field\":\"coin_id\"},\"y\":{\"field\":\"value\"}},\"id\":\"2419\",\"type\":\"Line\"},{\"attributes\":{\"source\":{\"id\":\"2472\"}},\"id\":\"2479\",\"type\":\"CDSView\"},{\"attributes\":{},\"id\":\"2359\",\"type\":\"UnionRenderers\"},{\"attributes\":{\"line_color\":\"#6d904f\",\"line_width\":2,\"tags\":[\"apply_ranges\"],\"x\":{\"field\":\"coin_id\"},\"y\":{\"field\":\"value\"}},\"id\":\"2413\",\"type\":\"Line\"},{\"attributes\":{\"data\":{\"Variable\":[\"price_change_percentage_14d\",\"price_change_percentage_14d\",\"price_change_percentage_14d\",\"price_change_percentage_14d\",\"price_change_percentage_14d\",\"price_change_percentage_14d\",\"price_change_percentage_14d\",\"price_change_percentage_14d\",\"price_change_percentage_14d\",\"price_change_percentage_14d\",\"price_change_percentage_14d\",\"price_change_percentage_14d\",\"price_change_percentage_14d\",\"price_change_percentage_14d\",\"price_change_percentage_14d\",\"price_change_percentage_14d\",\"price_change_percentage_14d\",\"price_change_percentage_14d\",\"price_change_percentage_14d\",\"price_change_percentage_14d\",\"price_change_percentage_14d\",\"price_change_percentage_14d\",\"price_change_percentage_14d\",\"price_change_percentage_14d\",\"price_change_percentage_14d\",\"price_change_percentage_14d\",\"price_change_percentage_14d\",\"price_change_percentage_14d\",\"price_change_percentage_14d\",\"price_change_percentage_14d\",\"price_change_percentage_14d\",\"price_change_percentage_14d\",\"price_change_percentage_14d\",\"price_change_percentage_14d\",\"price_change_percentage_14d\",\"price_change_percentage_14d\",\"price_change_percentage_14d\",\"price_change_percentage_14d\",\"price_change_percentage_14d\",\"price_change_percentage_14d\",\"price_change_percentage_14d\"],\"coin_id\":[\"bitcoin\",\"ethereum\",\"tether\",\"ripple\",\"bitcoin-cash\",\"binancecoin\",\"chainlink\",\"cardano\",\"litecoin\",\"bitcoin-cash-sv\",\"crypto-com-chain\",\"usd-coin\",\"eos\",\"monero\",\"tron\",\"tezos\",\"okb\",\"stellar\",\"cosmos\",\"cdai\",\"neo\",\"wrapped-bitcoin\",\"leo-token\",\"huobi-token\",\"nem\",\"binance-usd\",\"iota\",\"vechain\",\"zcash\",\"theta-token\",\"dash\",\"ethereum-classic\",\"ethlend\",\"maker\",\"havven\",\"omisego\",\"celsius-degree-token\",\"ontology\",\"ftx-token\",\"true-usd\",\"digibyte\"],\"value\":{\"__ndarray__\":\"zAaZZORMGkB5knTN5DsTQC1DHOviNno/c9wpHaz/AUCLic3HtYEtQJkvL8A+OhtAC4DxDBqaIkAOhGQBEzgWQICfceFAKB1AIFnABG7d/b8ysfm4NhQhwGpI3GPpQ3e/pfeNrz0z8j8bo3VUNWkyQBUA4xk0dPY/VIzzN6GQAkCWrfVFQhsUwKpla32RUPG/Qgkzbf8KFkDPg7uzdtvFP8MN+PwwsiPAYFlpUgo6GkB2+GuyRh0cwM2v5gDBHN0/j1iLTwEwBUDWrZ6T3jeuP7pOIy2VNw7Am1Wfq60oMsAJM23/yioXQJbK2xFOSxrAQE0tW+uL4D9NucK7XET0v0SLbOf7mSPA/pqsUQ/R978vaYzWUZUqwDtT6LzGbirAvodLjjs9OEByUMJM2x8lwJ30vvG1Z8q/ZCMQr+sXvD+7D0BqE0cdwA==\",\"dtype\":\"float64\",\"order\":\"little\",\"shape\":[41]}},\"selected\":{\"id\":\"2365\"},\"selection_policy\":{\"id\":\"2383\"}},\"id\":\"2364\",\"type\":\"ColumnDataSource\"},{\"attributes\":{\"label\":{\"value\":\"price_change_percentage_1y\"},\"renderers\":[{\"id\":\"2478\"}]},\"id\":\"2502\",\"type\":\"LegendItem\"},{\"attributes\":{\"children\":[{\"id\":\"2286\"}],\"height\":400,\"margin\":[0,0,0,0],\"name\":\"Row02445\",\"sizing_mode\":\"fixed\",\"tags\":[\"embedded\"],\"width\":800},\"id\":\"2276\",\"type\":\"Row\"},{\"attributes\":{\"line_color\":\"#e5ae38\",\"line_width\":2,\"tags\":[\"apply_ranges\"],\"x\":{\"field\":\"coin_id\"},\"y\":{\"field\":\"value\"}},\"id\":\"2387\",\"type\":\"Line\"},{\"attributes\":{\"line_alpha\":0.2,\"line_color\":\"#9467bd\",\"line_width\":2,\"tags\":[\"apply_ranges\"],\"x\":{\"field\":\"coin_id\"},\"y\":{\"field\":\"value\"}},\"id\":\"2477\",\"type\":\"Line\"},{\"attributes\":{\"line_alpha\":0.2,\"line_color\":\"#6d904f\",\"line_width\":2,\"tags\":[\"apply_ranges\"],\"x\":{\"field\":\"coin_id\"},\"y\":{\"field\":\"value\"}},\"id\":\"2393\",\"type\":\"Line\"},{\"attributes\":{\"label\":{\"value\":\"price_change_percentage_24h\"},\"renderers\":[{\"id\":\"2327\"}]},\"id\":\"2340\",\"type\":\"LegendItem\"},{\"attributes\":{\"data\":{\"Variable\":[\"price_change_percentage_1y\",\"price_change_percentage_1y\",\"price_change_percentage_1y\",\"price_change_percentage_1y\",\"price_change_percentage_1y\",\"price_change_percentage_1y\",\"price_change_percentage_1y\",\"price_change_percentage_1y\",\"price_change_percentage_1y\",\"price_change_percentage_1y\",\"price_change_percentage_1y\",\"price_change_percentage_1y\",\"price_change_percentage_1y\",\"price_change_percentage_1y\",\"price_change_percentage_1y\",\"price_change_percentage_1y\",\"price_change_percentage_1y\",\"price_change_percentage_1y\",\"price_change_percentage_1y\",\"price_change_percentage_1y\",\"price_change_percentage_1y\",\"price_change_percentage_1y\",\"price_change_percentage_1y\",\"price_change_percentage_1y\",\"price_change_percentage_1y\",\"price_change_percentage_1y\",\"price_change_percentage_1y\",\"price_change_percentage_1y\",\"price_change_percentage_1y\",\"price_change_percentage_1y\",\"price_change_percentage_1y\",\"price_change_percentage_1y\",\"price_change_percentage_1y\",\"price_change_percentage_1y\",\"price_change_percentage_1y\",\"price_change_percentage_1y\",\"price_change_percentage_1y\",\"price_change_percentage_1y\",\"price_change_percentage_1y\",\"price_change_percentage_1y\",\"price_change_percentage_1y\"],\"coin_id\":[\"bitcoin\",\"ethereum\",\"tether\",\"ripple\",\"bitcoin-cash\",\"binancecoin\",\"chainlink\",\"cardano\",\"litecoin\",\"bitcoin-cash-sv\",\"crypto-com-chain\",\"usd-coin\",\"eos\",\"monero\",\"tron\",\"tezos\",\"okb\",\"stellar\",\"cosmos\",\"cdai\",\"neo\",\"wrapped-bitcoin\",\"leo-token\",\"huobi-token\",\"nem\",\"binance-usd\",\"iota\",\"vechain\",\"zcash\",\"theta-token\",\"dash\",\"ethereum-classic\",\"ethlend\",\"maker\",\"havven\",\"omisego\",\"celsius-degree-token\",\"ontology\",\"ftx-token\",\"true-usd\",\"digibyte\"],\"value\":{\"__ndarray__\":\"kQpjC0HCQkDXqIdodH1ZQOD42jNLApQ/NXugFRiaMMDM6bKY2PwsQOcdp+hIbFFAaTo7GRxSdEC7LCY2H4NjQPnaM0sCVCnA0NA/wcVuV0CQvd798RBzQL4wmSoYlci/tn9lpUmRMcDpvMYuUaFhQELKT6p9nk1A6PaSxmiAYUBdUN8yp75hQMzuycNCnStAxLZFmQ2cVEAIsTOFzmvSvx/0bFZ9aWBAhxvw+WHEQkAN/RNcrAA1QN8Vwf9WkjhAS7A4nPkWaUAVUn5S7dPBPzYk7rH04Q/AIsMq3shbaUBf0hito7hUQPyMCwcC64VAzsKedvirA8Dwoq8gzTgmQHRGlPYWrL5Ayk+qfTpOJUDfiVkvRjaFQEfJq3MMC3RAnFCIgONmn0CsVib8Uk8pwNttF5rrC2VAyXGndLD+2T/YfFwbKgxnQA==\",\"dtype\":\"float64\",\"order\":\"little\",\"shape\":[41]}},\"selected\":{\"id\":\"2473\"},\"selection_policy\":{\"id\":\"2499\"}},\"id\":\"2472\",\"type\":\"ColumnDataSource\"},{\"attributes\":{\"line_color\":\"#8b8b8b\",\"line_width\":2,\"tags\":[\"apply_ranges\"],\"x\":{\"field\":\"coin_id\"},\"y\":{\"field\":\"value\"}},\"id\":\"2417\",\"type\":\"Line\"},{\"attributes\":{},\"id\":\"2320\",\"type\":\"AllLabels\"},{\"attributes\":{\"line_color\":\"#17becf\",\"line_width\":2,\"tags\":[\"apply_ranges\"],\"x\":{\"field\":\"coin_id\"},\"y\":{\"field\":\"value\"}},\"id\":\"2445\",\"type\":\"Line\"},{\"attributes\":{\"label\":{\"value\":\"price_change_percentage_7d\"},\"renderers\":[{\"id\":\"2348\"}]},\"id\":\"2362\",\"type\":\"LegendItem\"},{\"attributes\":{},\"id\":\"2473\",\"type\":\"Selection\"},{\"attributes\":{},\"id\":\"2343\",\"type\":\"Selection\"},{\"attributes\":{},\"id\":\"2302\",\"type\":\"SaveTool\"},{\"attributes\":{\"line_color\":\"#fc4f30\",\"line_width\":2,\"tags\":[\"apply_ranges\"],\"x\":{\"field\":\"coin_id\"},\"y\":{\"field\":\"value\"}},\"id\":\"2363\",\"type\":\"Line\"},{\"attributes\":{\"end\":8641.780918,\"reset_end\":8641.780918,\"reset_start\":-834.5136980000001,\"start\":-834.5136980000001,\"tags\":[[[\"value\",\"value\",null]]]},\"id\":\"2278\",\"type\":\"Range1d\"},{\"attributes\":{\"line_color\":\"#30a2da\",\"line_width\":2,\"tags\":[\"apply_ranges\"],\"x\":{\"field\":\"coin_id\"},\"y\":{\"field\":\"value\"}},\"id\":\"2341\",\"type\":\"Line\"},{\"attributes\":{\"line_color\":\"#9467bd\",\"line_width\":2,\"tags\":[\"apply_ranges\"],\"x\":{\"field\":\"coin_id\"},\"y\":{\"field\":\"value\"}},\"id\":\"2475\",\"type\":\"Line\"},{\"attributes\":{},\"id\":\"2303\",\"type\":\"PanTool\"},{\"attributes\":{},\"id\":\"2319\",\"type\":\"BasicTickFormatter\"},{\"attributes\":{},\"id\":\"2306\",\"type\":\"ResetTool\"},{\"attributes\":{},\"id\":\"2304\",\"type\":\"WheelZoomTool\"},{\"attributes\":{\"line_alpha\":0.2,\"line_color\":\"#fc4f30\",\"line_width\":2,\"tags\":[\"apply_ranges\"],\"x\":{\"field\":\"coin_id\"},\"y\":{\"field\":\"value\"}},\"id\":\"2347\",\"type\":\"Line\"},{\"attributes\":{},\"id\":\"2293\",\"type\":\"LinearScale\"},{\"attributes\":{\"line_alpha\":0.1,\"line_color\":\"#6d904f\",\"line_width\":2,\"tags\":[\"apply_ranges\"],\"x\":{\"field\":\"coin_id\"},\"y\":{\"field\":\"value\"}},\"id\":\"2392\",\"type\":\"Line\"},{\"attributes\":{\"line_color\":\"#fc4f30\",\"line_width\":2,\"tags\":[\"apply_ranges\"],\"x\":{\"field\":\"coin_id\"},\"y\":{\"field\":\"value\"}},\"id\":\"2345\",\"type\":\"Line\"},{\"attributes\":{\"overlay\":{\"id\":\"2307\"}},\"id\":\"2305\",\"type\":\"BoxZoomTool\"},{\"attributes\":{},\"id\":\"2443\",\"type\":\"Selection\"},{\"attributes\":{\"coordinates\":null,\"data_source\":{\"id\":\"2388\"},\"glyph\":{\"id\":\"2391\"},\"group\":null,\"hover_glyph\":null,\"muted_glyph\":{\"id\":\"2393\"},\"nonselection_glyph\":{\"id\":\"2392\"},\"selection_glyph\":{\"id\":\"2413\"},\"view\":{\"id\":\"2395\"}},\"id\":\"2394\",\"type\":\"GlyphRenderer\"},{\"attributes\":{\"line_alpha\":0.2,\"line_color\":\"#30a2da\",\"line_width\":2,\"tags\":[\"apply_ranges\"],\"x\":{\"field\":\"coin_id\"},\"y\":{\"field\":\"value\"}},\"id\":\"2326\",\"type\":\"Line\"},{\"attributes\":{\"line_alpha\":0.2,\"line_color\":\"#17becf\",\"line_width\":2,\"tags\":[\"apply_ranges\"],\"x\":{\"field\":\"coin_id\"},\"y\":{\"field\":\"value\"}},\"id\":\"2447\",\"type\":\"Line\"},{\"attributes\":{\"data\":{\"Variable\":[\"price_change_percentage_7d\",\"price_change_percentage_7d\",\"price_change_percentage_7d\",\"price_change_percentage_7d\",\"price_change_percentage_7d\",\"price_change_percentage_7d\",\"price_change_percentage_7d\",\"price_change_percentage_7d\",\"price_change_percentage_7d\",\"price_change_percentage_7d\",\"price_change_percentage_7d\",\"price_change_percentage_7d\",\"price_change_percentage_7d\",\"price_change_percentage_7d\",\"price_change_percentage_7d\",\"price_change_percentage_7d\",\"price_change_percentage_7d\",\"price_change_percentage_7d\",\"price_change_percentage_7d\",\"price_change_percentage_7d\",\"price_change_percentage_7d\",\"price_change_percentage_7d\",\"price_change_percentage_7d\",\"price_change_percentage_7d\",\"price_change_percentage_7d\",\"price_change_percentage_7d\",\"price_change_percentage_7d\",\"price_change_percentage_7d\",\"price_change_percentage_7d\",\"price_change_percentage_7d\",\"price_change_percentage_7d\",\"price_change_percentage_7d\",\"price_change_percentage_7d\",\"price_change_percentage_7d\",\"price_change_percentage_7d\",\"price_change_percentage_7d\",\"price_change_percentage_7d\",\"price_change_percentage_7d\",\"price_change_percentage_7d\",\"price_change_percentage_7d\",\"price_change_percentage_7d\"],\"coin_id\":[\"bitcoin\",\"ethereum\",\"tether\",\"ripple\",\"bitcoin-cash\",\"binancecoin\",\"chainlink\",\"cardano\",\"litecoin\",\"bitcoin-cash-sv\",\"crypto-com-chain\",\"usd-coin\",\"eos\",\"monero\",\"tron\",\"tezos\",\"okb\",\"stellar\",\"cosmos\",\"cdai\",\"neo\",\"wrapped-bitcoin\",\"leo-token\",\"huobi-token\",\"nem\",\"binance-usd\",\"iota\",\"vechain\",\"zcash\",\"theta-token\",\"dash\",\"ethereum-classic\",\"ethlend\",\"maker\",\"havven\",\"omisego\",\"celsius-degree-token\",\"ontology\",\"ftx-token\",\"true-usd\",\"digibyte\"],\"value\":{\"__ndarray__\":\"RbsKKT9pHkAzUBn/PsMkQL99HThnRKk/yVnY0w5/47//JhQi4BgxQBL3WPrQtSlA7iB2ptCxNEBAjBAebfwrQPFL/bypaBpArKjBNAxfCkByv0NRoK8WwPlJtU/HY76/lPsdigL99L+n6Egu/5EvQE1KQbeX9BBA0m9fB87pIUBlU67wLjcSwKftX1lpkgBAZwqd19gVMEBcIEHxY8ytP3wnZr0YigNAOh4zUBmfHUD3Hi457pT1vzNQGf8+4/k/kQ96Nqs+6781Y9F0djKoP2dEaW/wRRhAgXhdv2A3/L/8GHPXErIkQP4JLlbUYBjAVU0QdR9gFEDRlnMprmoIQGCrBIvD2RBAAiuHFtlOIECbG9MTllgRQKhXyjLEURtAqn06HjNQ4z+UvDrHgGzzvwltOZfiahxAsD2zJEBNxT8yj/zBwHPlPw==\",\"dtype\":\"float64\",\"order\":\"little\",\"shape\":[41]}},\"selected\":{\"id\":\"2343\"},\"selection_policy\":{\"id\":\"2359\"}},\"id\":\"2342\",\"type\":\"ColumnDataSource\"},{\"attributes\":{\"line_alpha\":0.1,\"line_color\":\"#9467bd\",\"line_width\":2,\"tags\":[\"apply_ranges\"],\"x\":{\"field\":\"coin_id\"},\"y\":{\"field\":\"value\"}},\"id\":\"2476\",\"type\":\"Line\"},{\"attributes\":{},\"id\":\"2317\",\"type\":\"AllLabels\"},{\"attributes\":{},\"id\":\"2336\",\"type\":\"UnionRenderers\"},{\"attributes\":{\"data\":{\"Variable\":[\"price_change_percentage_60d\",\"price_change_percentage_60d\",\"price_change_percentage_60d\",\"price_change_percentage_60d\",\"price_change_percentage_60d\",\"price_change_percentage_60d\",\"price_change_percentage_60d\",\"price_change_percentage_60d\",\"price_change_percentage_60d\",\"price_change_percentage_60d\",\"price_change_percentage_60d\",\"price_change_percentage_60d\",\"price_change_percentage_60d\",\"price_change_percentage_60d\",\"price_change_percentage_60d\",\"price_change_percentage_60d\",\"price_change_percentage_60d\",\"price_change_percentage_60d\",\"price_change_percentage_60d\",\"price_change_percentage_60d\",\"price_change_percentage_60d\",\"price_change_percentage_60d\",\"price_change_percentage_60d\",\"price_change_percentage_60d\",\"price_change_percentage_60d\",\"price_change_percentage_60d\",\"price_change_percentage_60d\",\"price_change_percentage_60d\",\"price_change_percentage_60d\",\"price_change_percentage_60d\",\"price_change_percentage_60d\",\"price_change_percentage_60d\",\"price_change_percentage_60d\",\"price_change_percentage_60d\",\"price_change_percentage_60d\",\"price_change_percentage_60d\",\"price_change_percentage_60d\",\"price_change_percentage_60d\",\"price_change_percentage_60d\",\"price_change_percentage_60d\",\"price_change_percentage_60d\"],\"coin_id\":[\"bitcoin\",\"ethereum\",\"tether\",\"ripple\",\"bitcoin-cash\",\"binancecoin\",\"chainlink\",\"cardano\",\"litecoin\",\"bitcoin-cash-sv\",\"crypto-com-chain\",\"usd-coin\",\"eos\",\"monero\",\"tron\",\"tezos\",\"okb\",\"stellar\",\"cosmos\",\"cdai\",\"neo\",\"wrapped-bitcoin\",\"leo-token\",\"huobi-token\",\"nem\",\"binance-usd\",\"iota\",\"vechain\",\"zcash\",\"theta-token\",\"dash\",\"ethereum-classic\",\"ethlend\",\"maker\",\"havven\",\"omisego\",\"celsius-degree-token\",\"ontology\",\"ftx-token\",\"true-usd\",\"digibyte\"],\"value\":{\"__ndarray__\":\"FvvL7skDCsAs1JrmHccpwKjjMQOV8dE/2qz6XG2NMcByol2FlG8rwIleRrHcKkJAN8MN+PzYRcBi26LMBtk2wCEf9GxWPTHAq5UJv9TfOMBg5dAi23kwwD2gbMoV3qU/lq31RUIrPsDNzMzMzNxEQJm7lpAPGhZAms5OBkdpRsBKe4MvTKYGwEwfuqC+zT7APL1SliHOHMC5AZ8fRgjlP9L7xteeCStAFaQZi6azDMCvJeSDni0ewDeOWItPQQvAXvQVpBm3VEDaOGItPgW4PwpLPKBsQkHAaw4QzNHPRcAJM23/yoo0wBmQvd79AVRAfa62Yn85OsBUGFsIcug5wLCsNCkFHQFA529CIQKeMsA0uoPYmbZDwPKwUGua0VNA/5qsUQ/ia0Ao8iTpmllAwFuxv+yenBdAmrFoOjsZ0D8s1JrmHRc/wA==\",\"dtype\":\"float64\",\"order\":\"little\",\"shape\":[41]}},\"selected\":{\"id\":\"2415\"},\"selection_policy\":{\"id\":\"2437\"}},\"id\":\"2414\",\"type\":\"ColumnDataSource\"},{\"attributes\":{},\"id\":\"2291\",\"type\":\"CategoricalScale\"},{\"attributes\":{\"active_drag\":{\"id\":\"2303\"},\"active_scroll\":{\"id\":\"2304\"},\"tools\":[{\"id\":\"2279\"},{\"id\":\"2302\"},{\"id\":\"2303\"},{\"id\":\"2304\"},{\"id\":\"2305\"},{\"id\":\"2306\"}]},\"id\":\"2308\",\"type\":\"Toolbar\"},{\"attributes\":{\"data\":{\"Variable\":[\"price_change_percentage_24h\",\"price_change_percentage_24h\",\"price_change_percentage_24h\",\"price_change_percentage_24h\",\"price_change_percentage_24h\",\"price_change_percentage_24h\",\"price_change_percentage_24h\",\"price_change_percentage_24h\",\"price_change_percentage_24h\",\"price_change_percentage_24h\",\"price_change_percentage_24h\",\"price_change_percentage_24h\",\"price_change_percentage_24h\",\"price_change_percentage_24h\",\"price_change_percentage_24h\",\"price_change_percentage_24h\",\"price_change_percentage_24h\",\"price_change_percentage_24h\",\"price_change_percentage_24h\",\"price_change_percentage_24h\",\"price_change_percentage_24h\",\"price_change_percentage_24h\",\"price_change_percentage_24h\",\"price_change_percentage_24h\",\"price_change_percentage_24h\",\"price_change_percentage_24h\",\"price_change_percentage_24h\",\"price_change_percentage_24h\",\"price_change_percentage_24h\",\"price_change_percentage_24h\",\"price_change_percentage_24h\",\"price_change_percentage_24h\",\"price_change_percentage_24h\",\"price_change_percentage_24h\",\"price_change_percentage_24h\",\"price_change_percentage_24h\",\"price_change_percentage_24h\",\"price_change_percentage_24h\",\"price_change_percentage_24h\",\"price_change_percentage_24h\",\"price_change_percentage_24h\"],\"coin_id\":[\"bitcoin\",\"ethereum\",\"tether\",\"ripple\",\"bitcoin-cash\",\"binancecoin\",\"chainlink\",\"cardano\",\"litecoin\",\"bitcoin-cash-sv\",\"crypto-com-chain\",\"usd-coin\",\"eos\",\"monero\",\"tron\",\"tezos\",\"okb\",\"stellar\",\"cosmos\",\"cdai\",\"neo\",\"wrapped-bitcoin\",\"leo-token\",\"huobi-token\",\"nem\",\"binance-usd\",\"iota\",\"vechain\",\"zcash\",\"theta-token\",\"dash\",\"ethereum-classic\",\"ethlend\",\"maker\",\"havven\",\"omisego\",\"celsius-degree-token\",\"ontology\",\"ftx-token\",\"true-usd\",\"digibyte\"],\"value\":{\"__ndarray__\":\"nZ0MjpJX8T8LzXUaaanMP5qByvj3Gcu/wCZr1EM02L8ep+hILj8HQL0Yyol21QBAwhcmUwWjzr//CS5W1GBqP7NGPUSjO7C/QKTfvg6c7T8trYbEPZbjPzeJQWDl0Ma/1pC4x9KHwj88NgLxun7bP94HILWJk7M/JzYf14aK5b83iUFg5dAFwG3i5H6HIvC/5Xlwd9Zu7r9j83FtqBjLP+eHEcKjjd8/NNyAzw+j8T/fGtgqweLAv+VmuAGfH9q/UdobfGEy678D7KNTVz67v8czaOif4No/teBFX0Ga9D8G2EenrnzjvyCduvJZPhLAoMN8eQH28L+cxCCwcmjdv667eapDDivAX5hMFYxK479EUaBP5EkQwAdkr3d/XBNA0JuKVBgbBEDqBDQRNrz1vxo09E9wseo/tY6qJoi6r79qMA3DR8QHQA==\",\"dtype\":\"float64\",\"order\":\"little\",\"shape\":[41]}},\"selected\":{\"id\":\"2322\"},\"selection_policy\":{\"id\":\"2336\"}},\"id\":\"2321\",\"type\":\"ColumnDataSource\"},{\"attributes\":{\"line_color\":\"#e5ae38\",\"line_width\":2,\"tags\":[\"apply_ranges\"],\"x\":{\"field\":\"coin_id\"},\"y\":{\"field\":\"value\"}},\"id\":\"2367\",\"type\":\"Line\"},{\"attributes\":{\"coordinates\":null,\"data_source\":{\"id\":\"2414\"},\"glyph\":{\"id\":\"2417\"},\"group\":null,\"hover_glyph\":null,\"muted_glyph\":{\"id\":\"2419\"},\"nonselection_glyph\":{\"id\":\"2418\"},\"selection_glyph\":{\"id\":\"2441\"},\"view\":{\"id\":\"2421\"}},\"id\":\"2420\",\"type\":\"GlyphRenderer\"},{\"attributes\":{\"source\":{\"id\":\"2321\"}},\"id\":\"2328\",\"type\":\"CDSView\"},{\"attributes\":{\"line_alpha\":0.2,\"line_color\":\"#e5ae38\",\"line_width\":2,\"tags\":[\"apply_ranges\"],\"x\":{\"field\":\"coin_id\"},\"y\":{\"field\":\"value\"}},\"id\":\"2369\",\"type\":\"Line\"},{\"attributes\":{\"source\":{\"id\":\"2388\"}},\"id\":\"2395\",\"type\":\"CDSView\"},{\"attributes\":{\"bottom_units\":\"screen\",\"coordinates\":null,\"fill_alpha\":0.5,\"fill_color\":\"lightgrey\",\"group\":null,\"left_units\":\"screen\",\"level\":\"overlay\",\"line_alpha\":1.0,\"line_color\":\"black\",\"line_dash\":[4,4],\"line_width\":2,\"right_units\":\"screen\",\"syncable\":false,\"top_units\":\"screen\"},\"id\":\"2307\",\"type\":\"BoxAnnotation\"},{\"attributes\":{},\"id\":\"2415\",\"type\":\"Selection\"},{\"attributes\":{\"coordinates\":null,\"data_source\":{\"id\":\"2364\"},\"glyph\":{\"id\":\"2367\"},\"group\":null,\"hover_glyph\":null,\"muted_glyph\":{\"id\":\"2369\"},\"nonselection_glyph\":{\"id\":\"2368\"},\"selection_glyph\":{\"id\":\"2387\"},\"view\":{\"id\":\"2371\"}},\"id\":\"2370\",\"type\":\"GlyphRenderer\"},{\"attributes\":{\"source\":{\"id\":\"2442\"}},\"id\":\"2449\",\"type\":\"CDSView\"},{\"attributes\":{\"coordinates\":null,\"data_source\":{\"id\":\"2342\"},\"glyph\":{\"id\":\"2345\"},\"group\":null,\"hover_glyph\":null,\"muted_glyph\":{\"id\":\"2347\"},\"nonselection_glyph\":{\"id\":\"2346\"},\"selection_glyph\":{\"id\":\"2363\"},\"view\":{\"id\":\"2349\"}},\"id\":\"2348\",\"type\":\"GlyphRenderer\"},{\"attributes\":{\"data\":{\"Variable\":[\"price_change_percentage_30d\",\"price_change_percentage_30d\",\"price_change_percentage_30d\",\"price_change_percentage_30d\",\"price_change_percentage_30d\",\"price_change_percentage_30d\",\"price_change_percentage_30d\",\"price_change_percentage_30d\",\"price_change_percentage_30d\",\"price_change_percentage_30d\",\"price_change_percentage_30d\",\"price_change_percentage_30d\",\"price_change_percentage_30d\",\"price_change_percentage_30d\",\"price_change_percentage_30d\",\"price_change_percentage_30d\",\"price_change_percentage_30d\",\"price_change_percentage_30d\",\"price_change_percentage_30d\",\"price_change_percentage_30d\",\"price_change_percentage_30d\",\"price_change_percentage_30d\",\"price_change_percentage_30d\",\"price_change_percentage_30d\",\"price_change_percentage_30d\",\"price_change_percentage_30d\",\"price_change_percentage_30d\",\"price_change_percentage_30d\",\"price_change_percentage_30d\",\"price_change_percentage_30d\",\"price_change_percentage_30d\",\"price_change_percentage_30d\",\"price_change_percentage_30d\",\"price_change_percentage_30d\",\"price_change_percentage_30d\",\"price_change_percentage_30d\",\"price_change_percentage_30d\",\"price_change_percentage_30d\",\"price_change_percentage_30d\",\"price_change_percentage_30d\",\"price_change_percentage_30d\"],\"coin_id\":[\"bitcoin\",\"ethereum\",\"tether\",\"ripple\",\"bitcoin-cash\",\"binancecoin\",\"chainlink\",\"cardano\",\"litecoin\",\"bitcoin-cash-sv\",\"crypto-com-chain\",\"usd-coin\",\"eos\",\"monero\",\"tron\",\"tezos\",\"okb\",\"stellar\",\"cosmos\",\"cdai\",\"neo\",\"wrapped-bitcoin\",\"leo-token\",\"huobi-token\",\"nem\",\"binance-usd\",\"iota\",\"vechain\",\"zcash\",\"theta-token\",\"dash\",\"ethereum-classic\",\"ethlend\",\"maker\",\"havven\",\"omisego\",\"celsius-degree-token\",\"ontology\",\"ftx-token\",\"true-usd\",\"digibyte\"],\"value\":{\"__ndarray__\":\"VMa/z7iwHkAl6ZrJN9vAP/28qUiFsaW/L26jAbwFzj8dcjPcgH8vQPMf0m9fB64/5bhTOlhvJsBnfjUHCDYkQGWNeohGd/M/ryDNWDQdB0Cmft5UpHIxwJkvL8A+OsW/t0WZDTKJEsDfVKTC2HpDQEzD8BExNSnAjGK5pdVALMDjjcwjf+AkwIrIsIo3QiDAj1iLTwFQEkAWpBmLpnMBwE7WqIdo9DXAVG8NbJWAHUAnMQisHJoIQGA8g4b+CQrACMTr+gU7DcCQpQ9dUN+SP80Bgjl6nBDA9S1zuixWLMBC7Eyh83odQEku/yH9bj9AtTf4wmQqH8An/FI/byoHQNjYJaq3/j3A9GxWfa62MECdRloqb9c0wF4R/G8lOyLArK3YX3aZYUC1/SsrTVpBwP7PYb68ICXAFR3J5T+knz+ndLD+z4EqQA==\",\"dtype\":\"float64\",\"order\":\"little\",\"shape\":[41]}},\"selected\":{\"id\":\"2389\"},\"selection_policy\":{\"id\":\"2409\"}},\"id\":\"2388\",\"type\":\"ColumnDataSource\"},{\"attributes\":{},\"id\":\"2322\",\"type\":\"Selection\"},{\"attributes\":{\"line_alpha\":0.1,\"line_color\":\"#fc4f30\",\"line_width\":2,\"tags\":[\"apply_ranges\"],\"x\":{\"field\":\"coin_id\"},\"y\":{\"field\":\"value\"}},\"id\":\"2346\",\"type\":\"Line\"},{\"attributes\":{\"coordinates\":null,\"data_source\":{\"id\":\"2442\"},\"glyph\":{\"id\":\"2445\"},\"group\":null,\"hover_glyph\":null,\"muted_glyph\":{\"id\":\"2447\"},\"nonselection_glyph\":{\"id\":\"2446\"},\"selection_glyph\":{\"id\":\"2471\"},\"view\":{\"id\":\"2449\"}},\"id\":\"2448\",\"type\":\"GlyphRenderer\"},{\"attributes\":{\"source\":{\"id\":\"2414\"}},\"id\":\"2421\",\"type\":\"CDSView\"},{\"attributes\":{\"coordinates\":null,\"data_source\":{\"id\":\"2321\"},\"glyph\":{\"id\":\"2324\"},\"group\":null,\"hover_glyph\":null,\"muted_glyph\":{\"id\":\"2326\"},\"nonselection_glyph\":{\"id\":\"2325\"},\"selection_glyph\":{\"id\":\"2341\"},\"view\":{\"id\":\"2328\"}},\"id\":\"2327\",\"type\":\"GlyphRenderer\"},{\"attributes\":{},\"id\":\"2389\",\"type\":\"Selection\"},{\"attributes\":{\"factors\":[\"bitcoin\",\"ethereum\",\"tether\",\"ripple\",\"bitcoin-cash\",\"binancecoin\",\"chainlink\",\"cardano\",\"litecoin\",\"bitcoin-cash-sv\",\"crypto-com-chain\",\"usd-coin\",\"eos\",\"monero\",\"tron\",\"tezos\",\"okb\",\"stellar\",\"cosmos\",\"cdai\",\"neo\",\"wrapped-bitcoin\",\"leo-token\",\"huobi-token\",\"nem\",\"binance-usd\",\"iota\",\"vechain\",\"zcash\",\"theta-token\",\"dash\",\"ethereum-classic\",\"ethlend\",\"maker\",\"havven\",\"omisego\",\"celsius-degree-token\",\"ontology\",\"ftx-token\",\"true-usd\",\"digibyte\"],\"tags\":[[[\"coin_id\",\"coin_id\",null]]]},\"id\":\"2277\",\"type\":\"FactorRange\"},{\"attributes\":{\"line_alpha\":0.1,\"line_color\":\"#e5ae38\",\"line_width\":2,\"tags\":[\"apply_ranges\"],\"x\":{\"field\":\"coin_id\"},\"y\":{\"field\":\"value\"}},\"id\":\"2368\",\"type\":\"Line\"},{\"attributes\":{\"line_color\":\"#6d904f\",\"line_width\":2,\"tags\":[\"apply_ranges\"],\"x\":{\"field\":\"coin_id\"},\"y\":{\"field\":\"value\"}},\"id\":\"2391\",\"type\":\"Line\"},{\"attributes\":{\"data\":{\"Variable\":[\"price_change_percentage_200d\",\"price_change_percentage_200d\",\"price_change_percentage_200d\",\"price_change_percentage_200d\",\"price_change_percentage_200d\",\"price_change_percentage_200d\",\"price_change_percentage_200d\",\"price_change_percentage_200d\",\"price_change_percentage_200d\",\"price_change_percentage_200d\",\"price_change_percentage_200d\",\"price_change_percentage_200d\",\"price_change_percentage_200d\",\"price_change_percentage_200d\",\"price_change_percentage_200d\",\"price_change_percentage_200d\",\"price_change_percentage_200d\",\"price_change_percentage_200d\",\"price_change_percentage_200d\",\"price_change_percentage_200d\",\"price_change_percentage_200d\",\"price_change_percentage_200d\",\"price_change_percentage_200d\",\"price_change_percentage_200d\",\"price_change_percentage_200d\",\"price_change_percentage_200d\",\"price_change_percentage_200d\",\"price_change_percentage_200d\",\"price_change_percentage_200d\",\"price_change_percentage_200d\",\"price_change_percentage_200d\",\"price_change_percentage_200d\",\"price_change_percentage_200d\",\"price_change_percentage_200d\",\"price_change_percentage_200d\",\"price_change_percentage_200d\",\"price_change_percentage_200d\",\"price_change_percentage_200d\",\"price_change_percentage_200d\",\"price_change_percentage_200d\",\"price_change_percentage_200d\"],\"coin_id\":[\"bitcoin\",\"ethereum\",\"tether\",\"ripple\",\"bitcoin-cash\",\"binancecoin\",\"chainlink\",\"cardano\",\"litecoin\",\"bitcoin-cash-sv\",\"crypto-com-chain\",\"usd-coin\",\"eos\",\"monero\",\"tron\",\"tezos\",\"okb\",\"stellar\",\"cosmos\",\"cdai\",\"neo\",\"wrapped-bitcoin\",\"leo-token\",\"huobi-token\",\"nem\",\"binance-usd\",\"iota\",\"vechain\",\"zcash\",\"theta-token\",\"dash\",\"ethereum-classic\",\"ethlend\",\"maker\",\"havven\",\"omisego\",\"celsius-degree-token\",\"ontology\",\"ftx-token\",\"true-usd\",\"digibyte\"],\"value\":{\"__ndarray__\":\"xY8xdy3hVED0piIVxlhnQBe86CtIM3a/9zsUBfrEQ0DUn/1IEak1QPTDCOHRc2NAl3MprqozeUAdxM4UOohwQIF9dOrKfztAFRiyutWzHUCO7iB2plZsQIQqNXugFcS/ZHWr56QPMkALe9rhrzBlQIC8V61MnGBA5nlwd9a2RUAQHm0csfpDQC6Lic3HJ1VAkj8YeO4/Z0AOvjCZKhjZv2vUQzS61GNAtRX7y+75VEC5GW7A52cwQAPso1NXHkVAKq4q+64Fa0A7NgLxun65P+TaUDHOwVdAyM1wAz7bcEAFwHgGDaNeQH3Qs1k1lYtAOUVHcvnvGEANGvonuMgkQCYZOQvbZ6FAGT4ipkSiVED5MeauZXeDQHi0ccQaSoJAC170FcTYmEB0PGagMmJLQC2yne+nvkxAndfYJaq3tr9R9wFIbSl+QA==\",\"dtype\":\"float64\",\"order\":\"little\",\"shape\":[41]}},\"selected\":{\"id\":\"2443\"},\"selection_policy\":{\"id\":\"2467\"}},\"id\":\"2442\",\"type\":\"ColumnDataSource\"},{\"attributes\":{\"below\":[{\"id\":\"2295\"}],\"center\":[{\"id\":\"2297\"},{\"id\":\"2301\"}],\"height\":400,\"left\":[{\"id\":\"2298\"}],\"margin\":[5,5,5,5],\"min_border_bottom\":10,\"min_border_left\":10,\"min_border_right\":10,\"min_border_top\":10,\"output_backend\":\"webgl\",\"renderers\":[{\"id\":\"2327\"},{\"id\":\"2348\"},{\"id\":\"2370\"},{\"id\":\"2394\"},{\"id\":\"2420\"},{\"id\":\"2448\"},{\"id\":\"2478\"}],\"right\":[{\"id\":\"2339\"}],\"sizing_mode\":\"fixed\",\"title\":{\"id\":\"2287\"},\"toolbar\":{\"id\":\"2308\"},\"width\":800,\"x_range\":{\"id\":\"2277\"},\"x_scale\":{\"id\":\"2291\"},\"y_range\":{\"id\":\"2278\"},\"y_scale\":{\"id\":\"2293\"}},\"id\":\"2286\",\"subtype\":\"Figure\",\"type\":\"Plot\"},{\"attributes\":{},\"id\":\"2316\",\"type\":\"CategoricalTickFormatter\"},{\"attributes\":{\"callback\":null,\"renderers\":[{\"id\":\"2327\"},{\"id\":\"2348\"},{\"id\":\"2370\"},{\"id\":\"2394\"},{\"id\":\"2420\"},{\"id\":\"2448\"},{\"id\":\"2478\"}],\"tags\":[\"hv_created\"],\"tooltips\":[[\"Variable\",\"@{Variable}\"],[\"coin_id\",\"@{coin_id}\"],[\"value\",\"@{value}\"]]},\"id\":\"2279\",\"type\":\"HoverTool\"},{\"attributes\":{\"coordinates\":null,\"data_source\":{\"id\":\"2472\"},\"glyph\":{\"id\":\"2475\"},\"group\":null,\"hover_glyph\":null,\"muted_glyph\":{\"id\":\"2477\"},\"nonselection_glyph\":{\"id\":\"2476\"},\"selection_glyph\":{\"id\":\"2503\"},\"view\":{\"id\":\"2479\"}},\"id\":\"2478\",\"type\":\"GlyphRenderer\"},{\"attributes\":{},\"id\":\"2499\",\"type\":\"UnionRenderers\"},{\"attributes\":{\"source\":{\"id\":\"2364\"}},\"id\":\"2371\",\"type\":\"CDSView\"}],\"root_ids\":[\"2276\"]},\"title\":\"Bokeh Application\",\"version\":\"2.4.3\"}};\n",
       "    var render_items = [{\"docid\":\"c94fc261-603a-4839-a1ce-375343b570ae\",\"root_ids\":[\"2276\"],\"roots\":{\"2276\":\"dac0352c-3f76-4f03-a93b-36813815b13d\"}}];\n",
       "    root.Bokeh.embed.embed_items_notebook(docs_json, render_items);\n",
       "    for (const render_item of render_items) {\n",
       "      for (const root_id of render_item.root_ids) {\n",
       "\tconst id_el = document.getElementById(root_id)\n",
       "\tif (id_el.children.length && (id_el.children[0].className === 'bk-root')) {\n",
       "\t  const root_el = id_el.children[0]\n",
       "\t  root_el.id = root_el.id + '-rendered'\n",
       "\t}\n",
       "      }\n",
       "    }\n",
       "  }\n",
       "  if (root.Bokeh !== undefined && root.Bokeh.Panel !== undefined) {\n",
       "    embed_document(root);\n",
       "  } else {\n",
       "    var attempts = 0;\n",
       "    var timer = setInterval(function(root) {\n",
       "      if (root.Bokeh !== undefined && root.Bokeh.Panel !== undefined) {\n",
       "        clearInterval(timer);\n",
       "        embed_document(root);\n",
       "      } else if (document.readyState == \"complete\") {\n",
       "        attempts++;\n",
       "        if (attempts > 200) {\n",
       "          clearInterval(timer);\n",
       "          console.log(\"Bokeh: ERROR: Unable to run BokehJS code because BokehJS library is missing\");\n",
       "        }\n",
       "      }\n",
       "    }, 25, root)\n",
       "  }\n",
       "})(window);</script>"
      ],
      "text/plain": [
       ":NdOverlay   [Variable]\n",
       "   :Curve   [coin_id]   (value)"
      ]
     },
     "execution_count": 70,
     "metadata": {
      "application/vnd.holoviews_exec.v0+json": {
       "id": "2276"
      }
     },
     "output_type": "execute_result"
    }
   ],
   "source": [
    "# Plot your data to see what's in your DataFrame\n",
    "df_market_data.hvplot.line(\n",
    "    width=800,\n",
    "    height=400,\n",
    "    rot=90\n",
    ")"
   ]
  },
  {
   "attachments": {},
   "cell_type": "markdown",
   "metadata": {},
   "source": [
    "---"
   ]
  },
  {
   "attachments": {},
   "cell_type": "markdown",
   "metadata": {},
   "source": [
    "### Prepare the Data"
   ]
  },
  {
   "cell_type": "code",
   "execution_count": 71,
   "metadata": {},
   "outputs": [],
   "source": [
    "# Use the `StandardScaler()` module from scikit-learn to normalize the data from the CSV file\n",
    "scaler = StandardScaler()\n",
    "\n",
    "# Fit the Scaler\n",
    "scaler.fit(df_market_data)\n",
    "\n",
    "# Transform the Data\n",
    "trans_mkt_data = scaler.transform(df_market_data)"
   ]
  },
  {
   "cell_type": "code",
   "execution_count": 72,
   "metadata": {},
   "outputs": [
    {
     "data": {
      "text/html": [
       "<div>\n",
       "<style scoped>\n",
       "    .dataframe tbody tr th:only-of-type {\n",
       "        vertical-align: middle;\n",
       "    }\n",
       "\n",
       "    .dataframe tbody tr th {\n",
       "        vertical-align: top;\n",
       "    }\n",
       "\n",
       "    .dataframe thead th {\n",
       "        text-align: right;\n",
       "    }\n",
       "</style>\n",
       "<table border=\"1\" class=\"dataframe\">\n",
       "  <thead>\n",
       "    <tr style=\"text-align: right;\">\n",
       "      <th></th>\n",
       "      <th>price_change_percentage_24h</th>\n",
       "      <th>price_change_percentage_7d</th>\n",
       "      <th>price_change_percentage_14d</th>\n",
       "      <th>price_change_percentage_30d</th>\n",
       "      <th>price_change_percentage_60d</th>\n",
       "      <th>price_change_percentage_200d</th>\n",
       "      <th>price_change_percentage_1y</th>\n",
       "    </tr>\n",
       "    <tr>\n",
       "      <th>coin_id</th>\n",
       "      <th></th>\n",
       "      <th></th>\n",
       "      <th></th>\n",
       "      <th></th>\n",
       "      <th></th>\n",
       "      <th></th>\n",
       "      <th></th>\n",
       "    </tr>\n",
       "  </thead>\n",
       "  <tbody>\n",
       "    <tr>\n",
       "      <th>bitcoin</th>\n",
       "      <td>0.508529</td>\n",
       "      <td>0.493193</td>\n",
       "      <td>0.772200</td>\n",
       "      <td>0.235460</td>\n",
       "      <td>-0.067495</td>\n",
       "      <td>-0.355953</td>\n",
       "      <td>-0.251637</td>\n",
       "    </tr>\n",
       "    <tr>\n",
       "      <th>ethereum</th>\n",
       "      <td>0.185446</td>\n",
       "      <td>0.934445</td>\n",
       "      <td>0.558692</td>\n",
       "      <td>-0.054341</td>\n",
       "      <td>-0.273483</td>\n",
       "      <td>-0.115759</td>\n",
       "      <td>-0.199352</td>\n",
       "    </tr>\n",
       "    <tr>\n",
       "      <th>tether</th>\n",
       "      <td>0.021774</td>\n",
       "      <td>-0.706337</td>\n",
       "      <td>-0.021680</td>\n",
       "      <td>-0.061030</td>\n",
       "      <td>0.008005</td>\n",
       "      <td>-0.550247</td>\n",
       "      <td>-0.282061</td>\n",
       "    </tr>\n",
       "    <tr>\n",
       "      <th>ripple</th>\n",
       "      <td>-0.040764</td>\n",
       "      <td>-0.810928</td>\n",
       "      <td>0.249458</td>\n",
       "      <td>-0.050388</td>\n",
       "      <td>-0.373164</td>\n",
       "      <td>-0.458259</td>\n",
       "      <td>-0.295546</td>\n",
       "    </tr>\n",
       "    <tr>\n",
       "      <th>bitcoin-cash</th>\n",
       "      <td>1.193036</td>\n",
       "      <td>2.000959</td>\n",
       "      <td>1.760610</td>\n",
       "      <td>0.545842</td>\n",
       "      <td>-0.291203</td>\n",
       "      <td>-0.499848</td>\n",
       "      <td>-0.270317</td>\n",
       "    </tr>\n",
       "  </tbody>\n",
       "</table>\n",
       "</div>"
      ],
      "text/plain": [
       "              price_change_percentage_24h  price_change_percentage_7d  \\\n",
       "coin_id                                                                 \n",
       "bitcoin                          0.508529                    0.493193   \n",
       "ethereum                         0.185446                    0.934445   \n",
       "tether                           0.021774                   -0.706337   \n",
       "ripple                          -0.040764                   -0.810928   \n",
       "bitcoin-cash                     1.193036                    2.000959   \n",
       "\n",
       "              price_change_percentage_14d  price_change_percentage_30d  \\\n",
       "coin_id                                                                  \n",
       "bitcoin                          0.772200                     0.235460   \n",
       "ethereum                         0.558692                    -0.054341   \n",
       "tether                          -0.021680                    -0.061030   \n",
       "ripple                           0.249458                    -0.050388   \n",
       "bitcoin-cash                     1.760610                     0.545842   \n",
       "\n",
       "              price_change_percentage_60d  price_change_percentage_200d  \\\n",
       "coin_id                                                                   \n",
       "bitcoin                         -0.067495                     -0.355953   \n",
       "ethereum                        -0.273483                     -0.115759   \n",
       "tether                           0.008005                     -0.550247   \n",
       "ripple                          -0.373164                     -0.458259   \n",
       "bitcoin-cash                    -0.291203                     -0.499848   \n",
       "\n",
       "              price_change_percentage_1y  \n",
       "coin_id                                   \n",
       "bitcoin                        -0.251637  \n",
       "ethereum                       -0.199352  \n",
       "tether                         -0.282061  \n",
       "ripple                         -0.295546  \n",
       "bitcoin-cash                   -0.270317  "
      ]
     },
     "execution_count": 72,
     "metadata": {},
     "output_type": "execute_result"
    }
   ],
   "source": [
    "# Create a DataFrame with the scaled data\n",
    "trans_mkt_df = pd.DataFrame(trans_mkt_data)\n",
    "\n",
    "# Copy the columns from the original data\n",
    "trans_mkt_df.columns = df_market_data.columns\n",
    "\n",
    "# Copy the crypto names from the original data\n",
    "trans_mkt_df [\"coin_id\"] = df_market_data.index\n",
    "\n",
    "# Set the coinid column as index\n",
    "trans_mkt_df = trans_mkt_df.set_index([\"coin_id\"], drop=True)\n",
    "\n",
    "# Display sample data\n",
    "trans_mkt_df.head()"
   ]
  },
  {
   "attachments": {},
   "cell_type": "markdown",
   "metadata": {},
   "source": [
    "---"
   ]
  },
  {
   "attachments": {},
   "cell_type": "markdown",
   "metadata": {},
   "source": [
    "### Find the Best Value for k Using the Original Data."
   ]
  },
  {
   "cell_type": "code",
   "execution_count": 73,
   "metadata": {},
   "outputs": [],
   "source": [
    "# Create a list with the number of k-values from 1 to 11\n",
    "k_range = range(1,11)"
   ]
  },
  {
   "cell_type": "code",
   "execution_count": 74,
   "metadata": {},
   "outputs": [
    {
     "name": "stderr",
     "output_type": "stream",
     "text": [
      "c:\\Users\\Caleb\\.conda\\envs\\PythonData\\lib\\site-packages\\sklearn\\cluster\\_kmeans.py:1037: UserWarning: KMeans is known to have a memory leak on Windows with MKL, when there are less chunks than available threads. You can avoid it by setting the environment variable OMP_NUM_THREADS=1.\n",
      "  \"KMeans is known to have a memory leak on Windows \"\n"
     ]
    }
   ],
   "source": [
    "# Create an empty list to store the inertia values\n",
    "k_inertia = []\n",
    "\n",
    "# Create a for loop to compute the inertia with each possible value of k\n",
    "for k in k_range:\n",
    "    # 1. Create a KMeans model using the loop counter for the n_clusters\n",
    "    test_model = KMeans(n_clusters=k)\n",
    "    # 2. Fit the model to the data using `df_market_data_scaled`\n",
    "    test_model.fit(trans_mkt_data)\n",
    "    # 3. Append the model.inertia_ to the inertia list\n",
    "    k_inertia.append(test_model.inertia_)\n"
   ]
  },
  {
   "cell_type": "code",
   "execution_count": 75,
   "metadata": {},
   "outputs": [
    {
     "data": {
      "text/html": [
       "<div>\n",
       "<style scoped>\n",
       "    .dataframe tbody tr th:only-of-type {\n",
       "        vertical-align: middle;\n",
       "    }\n",
       "\n",
       "    .dataframe tbody tr th {\n",
       "        vertical-align: top;\n",
       "    }\n",
       "\n",
       "    .dataframe thead th {\n",
       "        text-align: right;\n",
       "    }\n",
       "</style>\n",
       "<table border=\"1\" class=\"dataframe\">\n",
       "  <thead>\n",
       "    <tr style=\"text-align: right;\">\n",
       "      <th></th>\n",
       "      <th>k</th>\n",
       "      <th>inirtia</th>\n",
       "    </tr>\n",
       "  </thead>\n",
       "  <tbody>\n",
       "    <tr>\n",
       "      <th>0</th>\n",
       "      <td>1</td>\n",
       "      <td>287.000000</td>\n",
       "    </tr>\n",
       "    <tr>\n",
       "      <th>1</th>\n",
       "      <td>2</td>\n",
       "      <td>195.820218</td>\n",
       "    </tr>\n",
       "    <tr>\n",
       "      <th>2</th>\n",
       "      <td>3</td>\n",
       "      <td>123.190482</td>\n",
       "    </tr>\n",
       "    <tr>\n",
       "      <th>3</th>\n",
       "      <td>4</td>\n",
       "      <td>79.022435</td>\n",
       "    </tr>\n",
       "    <tr>\n",
       "      <th>4</th>\n",
       "      <td>5</td>\n",
       "      <td>64.127997</td>\n",
       "    </tr>\n",
       "  </tbody>\n",
       "</table>\n",
       "</div>"
      ],
      "text/plain": [
       "   k     inirtia\n",
       "0  1  287.000000\n",
       "1  2  195.820218\n",
       "2  3  123.190482\n",
       "3  4   79.022435\n",
       "4  5   64.127997"
      ]
     },
     "execution_count": 75,
     "metadata": {},
     "output_type": "execute_result"
    }
   ],
   "source": [
    "# Create a dictionary with the data to plot the Elbow curve\n",
    "k_dict = {\"k\":k_range, \"inirtia\":k_inertia}\n",
    "\n",
    "# Create a DataFrame with the data to plot the Elbow curve\n",
    "k_df = pd.DataFrame(k_dict)\n",
    "\n",
    "# Display the Dataframe\n",
    "k_df.head()"
   ]
  },
  {
   "cell_type": "code",
   "execution_count": 76,
   "metadata": {},
   "outputs": [
    {
     "data": {},
     "metadata": {},
     "output_type": "display_data"
    },
    {
     "data": {
      "application/vnd.holoviews_exec.v0+json": "",
      "text/html": [
       "<div id='2641'>\n",
       "  <div class=\"bk-root\" id=\"90301560-f34d-43a3-884d-3fa152fa0c29\" data-root-id=\"2641\"></div>\n",
       "</div>\n",
       "<script type=\"application/javascript\">(function(root) {\n",
       "  function embed_document(root) {\n",
       "    var docs_json = {\"c38aa501-5297-4ed7-8202-2a8890a0ce5d\":{\"defs\":[{\"extends\":null,\"module\":null,\"name\":\"ReactiveHTML1\",\"overrides\":[],\"properties\":[]},{\"extends\":null,\"module\":null,\"name\":\"FlexBox1\",\"overrides\":[],\"properties\":[{\"default\":\"flex-start\",\"kind\":null,\"name\":\"align_content\"},{\"default\":\"flex-start\",\"kind\":null,\"name\":\"align_items\"},{\"default\":\"row\",\"kind\":null,\"name\":\"flex_direction\"},{\"default\":\"wrap\",\"kind\":null,\"name\":\"flex_wrap\"},{\"default\":\"flex-start\",\"kind\":null,\"name\":\"justify_content\"}]},{\"extends\":null,\"module\":null,\"name\":\"GridStack1\",\"overrides\":[],\"properties\":[{\"default\":\"warn\",\"kind\":null,\"name\":\"mode\"},{\"default\":null,\"kind\":null,\"name\":\"ncols\"},{\"default\":null,\"kind\":null,\"name\":\"nrows\"},{\"default\":true,\"kind\":null,\"name\":\"allow_resize\"},{\"default\":true,\"kind\":null,\"name\":\"allow_drag\"},{\"default\":[],\"kind\":null,\"name\":\"state\"}]},{\"extends\":null,\"module\":null,\"name\":\"click1\",\"overrides\":[],\"properties\":[{\"default\":\"\",\"kind\":null,\"name\":\"terminal_output\"},{\"default\":\"\",\"kind\":null,\"name\":\"debug_name\"},{\"default\":0,\"kind\":null,\"name\":\"clears\"}]},{\"extends\":null,\"module\":null,\"name\":\"NotificationAreaBase1\",\"overrides\":[],\"properties\":[{\"default\":\"bottom-right\",\"kind\":null,\"name\":\"position\"},{\"default\":0,\"kind\":null,\"name\":\"_clear\"}]},{\"extends\":null,\"module\":null,\"name\":\"NotificationArea1\",\"overrides\":[],\"properties\":[{\"default\":[],\"kind\":null,\"name\":\"notifications\"},{\"default\":\"bottom-right\",\"kind\":null,\"name\":\"position\"},{\"default\":0,\"kind\":null,\"name\":\"_clear\"},{\"default\":[{\"background\":\"#ffc107\",\"icon\":{\"className\":\"fas fa-exclamation-triangle\",\"color\":\"white\",\"tagName\":\"i\"},\"type\":\"warning\"},{\"background\":\"#007bff\",\"icon\":{\"className\":\"fas fa-info-circle\",\"color\":\"white\",\"tagName\":\"i\"},\"type\":\"info\"}],\"kind\":null,\"name\":\"types\"}]},{\"extends\":null,\"module\":null,\"name\":\"Notification\",\"overrides\":[],\"properties\":[{\"default\":null,\"kind\":null,\"name\":\"background\"},{\"default\":3000,\"kind\":null,\"name\":\"duration\"},{\"default\":null,\"kind\":null,\"name\":\"icon\"},{\"default\":\"\",\"kind\":null,\"name\":\"message\"},{\"default\":null,\"kind\":null,\"name\":\"notification_type\"},{\"default\":false,\"kind\":null,\"name\":\"_destroyed\"}]},{\"extends\":null,\"module\":null,\"name\":\"TemplateActions1\",\"overrides\":[],\"properties\":[{\"default\":0,\"kind\":null,\"name\":\"open_modal\"},{\"default\":0,\"kind\":null,\"name\":\"close_modal\"}]},{\"extends\":null,\"module\":null,\"name\":\"MaterialTemplateActions1\",\"overrides\":[],\"properties\":[{\"default\":0,\"kind\":null,\"name\":\"open_modal\"},{\"default\":0,\"kind\":null,\"name\":\"close_modal\"}]}],\"roots\":{\"references\":[{\"attributes\":{},\"id\":\"2650\",\"type\":\"LinearScale\"},{\"attributes\":{},\"id\":\"2666\",\"type\":\"ResetTool\"},{\"attributes\":{},\"id\":\"2664\",\"type\":\"WheelZoomTool\"},{\"attributes\":{},\"id\":\"2655\",\"type\":\"BasicTicker\"},{\"attributes\":{\"line_color\":\"#30a2da\",\"line_width\":2,\"tags\":[\"apply_ranges\"],\"x\":{\"field\":\"k\"},\"y\":{\"field\":\"inirtia\"}},\"id\":\"2683\",\"type\":\"Line\"},{\"attributes\":{\"overlay\":{\"id\":\"2667\"}},\"id\":\"2665\",\"type\":\"BoxZoomTool\"},{\"attributes\":{\"data\":{\"inirtia\":{\"__ndarray__\":\"///////vcUByhzI6P3poQN+RvNowzF5AFu6ulG/BU0Cc2V8YMQhQQJw0ZH43akpAwp/AthE0RkDebNlHMLpCQPp3AM5mYkBAwPFtXsVVPEA=\",\"dtype\":\"float64\",\"order\":\"little\",\"shape\":[10]},\"k\":[1,2,3,4,5,6,7,8,9,10]},\"selected\":{\"id\":\"2676\"},\"selection_policy\":{\"id\":\"2701\"}},\"id\":\"2675\",\"type\":\"ColumnDataSource\"},{\"attributes\":{},\"id\":\"2676\",\"type\":\"Selection\"},{\"attributes\":{\"axis\":{\"id\":\"2654\"},\"coordinates\":null,\"grid_line_color\":null,\"group\":null,\"ticker\":null},\"id\":\"2657\",\"type\":\"Grid\"},{\"attributes\":{\"end\":312.8664957140119,\"reset_end\":312.8664957140119,\"reset_start\":2.4685471458683708,\"start\":2.4685471458683708,\"tags\":[[[\"inirtia\",\"inirtia\",null]]]},\"id\":\"2643\",\"type\":\"Range1d\"},{\"attributes\":{},\"id\":\"2701\",\"type\":\"UnionRenderers\"},{\"attributes\":{},\"id\":\"2659\",\"type\":\"BasicTicker\"},{\"attributes\":{\"active_drag\":{\"id\":\"2663\"},\"active_scroll\":{\"id\":\"2664\"},\"tools\":[{\"id\":\"2644\"},{\"id\":\"2662\"},{\"id\":\"2663\"},{\"id\":\"2664\"},{\"id\":\"2665\"},{\"id\":\"2666\"}]},\"id\":\"2668\",\"type\":\"Toolbar\"},{\"attributes\":{},\"id\":\"2652\",\"type\":\"LinearScale\"},{\"attributes\":{\"axis_label\":\"inirtia\",\"coordinates\":null,\"formatter\":{\"id\":\"2688\"},\"group\":null,\"major_label_policy\":{\"id\":\"2689\"},\"ticker\":{\"id\":\"2659\"}},\"id\":\"2658\",\"type\":\"LinearAxis\"},{\"attributes\":{\"axis_label\":\"k\",\"coordinates\":null,\"formatter\":{\"id\":\"2685\"},\"group\":null,\"major_label_policy\":{\"id\":\"2686\"},\"ticker\":{\"id\":\"2655\"}},\"id\":\"2654\",\"type\":\"LinearAxis\"},{\"attributes\":{\"bottom_units\":\"screen\",\"coordinates\":null,\"fill_alpha\":0.5,\"fill_color\":\"lightgrey\",\"group\":null,\"left_units\":\"screen\",\"level\":\"overlay\",\"line_alpha\":1.0,\"line_color\":\"black\",\"line_dash\":[4,4],\"line_width\":2,\"right_units\":\"screen\",\"syncable\":false,\"top_units\":\"screen\"},\"id\":\"2667\",\"type\":\"BoxAnnotation\"},{\"attributes\":{\"end\":10.0,\"reset_end\":10.0,\"reset_start\":1.0,\"start\":1.0,\"tags\":[[[\"k\",\"k\",null]]]},\"id\":\"2642\",\"type\":\"Range1d\"},{\"attributes\":{\"source\":{\"id\":\"2675\"}},\"id\":\"2682\",\"type\":\"CDSView\"},{\"attributes\":{\"callback\":null,\"renderers\":[{\"id\":\"2681\"}],\"tags\":[\"hv_created\"],\"tooltips\":[[\"k\",\"@{k}\"],[\"inirtia\",\"@{inirtia}\"]]},\"id\":\"2644\",\"type\":\"HoverTool\"},{\"attributes\":{},\"id\":\"2686\",\"type\":\"AllLabels\"},{\"attributes\":{\"axis\":{\"id\":\"2658\"},\"coordinates\":null,\"dimension\":1,\"grid_line_color\":null,\"group\":null,\"ticker\":null},\"id\":\"2661\",\"type\":\"Grid\"},{\"attributes\":{},\"id\":\"2685\",\"type\":\"BasicTickFormatter\"},{\"attributes\":{\"coordinates\":null,\"group\":null,\"text_color\":\"black\",\"text_font_size\":\"12pt\"},\"id\":\"2646\",\"type\":\"Title\"},{\"attributes\":{\"coordinates\":null,\"data_source\":{\"id\":\"2675\"},\"glyph\":{\"id\":\"2678\"},\"group\":null,\"hover_glyph\":null,\"muted_glyph\":{\"id\":\"2680\"},\"nonselection_glyph\":{\"id\":\"2679\"},\"selection_glyph\":{\"id\":\"2683\"},\"view\":{\"id\":\"2682\"}},\"id\":\"2681\",\"type\":\"GlyphRenderer\"},{\"attributes\":{},\"id\":\"2688\",\"type\":\"BasicTickFormatter\"},{\"attributes\":{},\"id\":\"2689\",\"type\":\"AllLabels\"},{\"attributes\":{\"line_color\":\"#30a2da\",\"line_width\":2,\"tags\":[\"apply_ranges\"],\"x\":{\"field\":\"k\"},\"y\":{\"field\":\"inirtia\"}},\"id\":\"2678\",\"type\":\"Line\"},{\"attributes\":{\"line_alpha\":0.1,\"line_color\":\"#30a2da\",\"line_width\":2,\"tags\":[\"apply_ranges\"],\"x\":{\"field\":\"k\"},\"y\":{\"field\":\"inirtia\"}},\"id\":\"2679\",\"type\":\"Line\"},{\"attributes\":{\"line_alpha\":0.2,\"line_color\":\"#30a2da\",\"line_width\":2,\"tags\":[\"apply_ranges\"],\"x\":{\"field\":\"k\"},\"y\":{\"field\":\"inirtia\"}},\"id\":\"2680\",\"type\":\"Line\"},{\"attributes\":{\"below\":[{\"id\":\"2654\"}],\"center\":[{\"id\":\"2657\"},{\"id\":\"2661\"}],\"height\":400,\"left\":[{\"id\":\"2658\"}],\"margin\":[5,5,5,5],\"min_border_bottom\":10,\"min_border_left\":10,\"min_border_right\":10,\"min_border_top\":10,\"output_backend\":\"webgl\",\"renderers\":[{\"id\":\"2681\"}],\"sizing_mode\":\"fixed\",\"title\":{\"id\":\"2646\"},\"toolbar\":{\"id\":\"2668\"},\"width\":800,\"x_range\":{\"id\":\"2642\"},\"x_scale\":{\"id\":\"2650\"},\"y_range\":{\"id\":\"2643\"},\"y_scale\":{\"id\":\"2652\"}},\"id\":\"2645\",\"subtype\":\"Figure\",\"type\":\"Plot\"},{\"attributes\":{},\"id\":\"2662\",\"type\":\"SaveTool\"},{\"attributes\":{},\"id\":\"2663\",\"type\":\"PanTool\"},{\"attributes\":{\"children\":[{\"id\":\"2645\"}],\"height\":400,\"margin\":[0,0,0,0],\"name\":\"Row02650\",\"sizing_mode\":\"fixed\",\"tags\":[\"embedded\"],\"width\":800},\"id\":\"2641\",\"type\":\"Row\"}],\"root_ids\":[\"2641\"]},\"title\":\"Bokeh Application\",\"version\":\"2.4.3\"}};\n",
       "    var render_items = [{\"docid\":\"c38aa501-5297-4ed7-8202-2a8890a0ce5d\",\"root_ids\":[\"2641\"],\"roots\":{\"2641\":\"90301560-f34d-43a3-884d-3fa152fa0c29\"}}];\n",
       "    root.Bokeh.embed.embed_items_notebook(docs_json, render_items);\n",
       "    for (const render_item of render_items) {\n",
       "      for (const root_id of render_item.root_ids) {\n",
       "\tconst id_el = document.getElementById(root_id)\n",
       "\tif (id_el.children.length && (id_el.children[0].className === 'bk-root')) {\n",
       "\t  const root_el = id_el.children[0]\n",
       "\t  root_el.id = root_el.id + '-rendered'\n",
       "\t}\n",
       "      }\n",
       "    }\n",
       "  }\n",
       "  if (root.Bokeh !== undefined && root.Bokeh.Panel !== undefined) {\n",
       "    embed_document(root);\n",
       "  } else {\n",
       "    var attempts = 0;\n",
       "    var timer = setInterval(function(root) {\n",
       "      if (root.Bokeh !== undefined && root.Bokeh.Panel !== undefined) {\n",
       "        clearInterval(timer);\n",
       "        embed_document(root);\n",
       "      } else if (document.readyState == \"complete\") {\n",
       "        attempts++;\n",
       "        if (attempts > 200) {\n",
       "          clearInterval(timer);\n",
       "          console.log(\"Bokeh: ERROR: Unable to run BokehJS code because BokehJS library is missing\");\n",
       "        }\n",
       "      }\n",
       "    }, 25, root)\n",
       "  }\n",
       "})(window);</script>"
      ],
      "text/plain": [
       ":Curve   [k]   (inirtia)"
      ]
     },
     "execution_count": 76,
     "metadata": {
      "application/vnd.holoviews_exec.v0+json": {
       "id": "2641"
      }
     },
     "output_type": "execute_result"
    }
   ],
   "source": [
    "# Plot a line chart with all the inertia values computed with \n",
    "# the different values of k to visually identify the optimal value for k.\n",
    "k_df.hvplot.line(\n",
    "    x = \"k\",\n",
    "    y = \"inirtia\",\n",
    "    width=800,\n",
    "    height=400,\n",
    ")"
   ]
  },
  {
   "attachments": {},
   "cell_type": "markdown",
   "metadata": {},
   "source": [
    "#### Answer the following question: \n",
    "\n",
    "**Question:** What is the best value for `k`?\n",
    "\n",
    "**Answer:** 4 "
   ]
  },
  {
   "attachments": {},
   "cell_type": "markdown",
   "metadata": {},
   "source": [
    "---"
   ]
  },
  {
   "attachments": {},
   "cell_type": "markdown",
   "metadata": {},
   "source": [
    "### Cluster Cryptocurrencies with K-means Using the Original Data"
   ]
  },
  {
   "cell_type": "code",
   "execution_count": 77,
   "metadata": {},
   "outputs": [],
   "source": [
    "# Initialize the K-Means model using the best value for k\n",
    "k_model = KMeans(n_clusters=4)"
   ]
  },
  {
   "cell_type": "code",
   "execution_count": 78,
   "metadata": {},
   "outputs": [
    {
     "data": {
      "text/plain": [
       "KMeans(n_clusters=4)"
      ]
     },
     "execution_count": 78,
     "metadata": {},
     "output_type": "execute_result"
    }
   ],
   "source": [
    "# Fit the K-Means model using the scaled data\n",
    "k_model.fit(trans_mkt_df)"
   ]
  },
  {
   "cell_type": "code",
   "execution_count": 79,
   "metadata": {},
   "outputs": [
    {
     "data": {
      "text/plain": [
       "array([3, 3, 0, 0, 3, 3, 3, 3, 3, 0, 0, 0, 0, 3, 0, 3, 0, 0, 3, 0, 0, 3,\n",
       "       0, 0, 0, 0, 0, 0, 3, 0, 0, 0, 1, 3, 0, 0, 2, 0, 0, 0, 0])"
      ]
     },
     "execution_count": 79,
     "metadata": {},
     "output_type": "execute_result"
    }
   ],
   "source": [
    "# Predict the clusters to group the cryptocurrencies using the scaled data\n",
    "predicted_clusters = k_model.predict(trans_mkt_df)\n",
    "\n",
    "# Print the resulting array of cluster values.\n",
    "predicted_clusters"
   ]
  },
  {
   "cell_type": "code",
   "execution_count": 80,
   "metadata": {},
   "outputs": [
    {
     "data": {
      "text/html": [
       "<div>\n",
       "<style scoped>\n",
       "    .dataframe tbody tr th:only-of-type {\n",
       "        vertical-align: middle;\n",
       "    }\n",
       "\n",
       "    .dataframe tbody tr th {\n",
       "        vertical-align: top;\n",
       "    }\n",
       "\n",
       "    .dataframe thead th {\n",
       "        text-align: right;\n",
       "    }\n",
       "</style>\n",
       "<table border=\"1\" class=\"dataframe\">\n",
       "  <thead>\n",
       "    <tr style=\"text-align: right;\">\n",
       "      <th></th>\n",
       "      <th>price_change_percentage_24h</th>\n",
       "      <th>price_change_percentage_7d</th>\n",
       "      <th>price_change_percentage_14d</th>\n",
       "      <th>price_change_percentage_30d</th>\n",
       "      <th>price_change_percentage_60d</th>\n",
       "      <th>price_change_percentage_200d</th>\n",
       "      <th>price_change_percentage_1y</th>\n",
       "    </tr>\n",
       "    <tr>\n",
       "      <th>coin_id</th>\n",
       "      <th></th>\n",
       "      <th></th>\n",
       "      <th></th>\n",
       "      <th></th>\n",
       "      <th></th>\n",
       "      <th></th>\n",
       "      <th></th>\n",
       "    </tr>\n",
       "  </thead>\n",
       "  <tbody>\n",
       "    <tr>\n",
       "      <th>bitcoin</th>\n",
       "      <td>0.508529</td>\n",
       "      <td>0.493193</td>\n",
       "      <td>0.772200</td>\n",
       "      <td>0.235460</td>\n",
       "      <td>-0.067495</td>\n",
       "      <td>-0.355953</td>\n",
       "      <td>-0.251637</td>\n",
       "    </tr>\n",
       "    <tr>\n",
       "      <th>ethereum</th>\n",
       "      <td>0.185446</td>\n",
       "      <td>0.934445</td>\n",
       "      <td>0.558692</td>\n",
       "      <td>-0.054341</td>\n",
       "      <td>-0.273483</td>\n",
       "      <td>-0.115759</td>\n",
       "      <td>-0.199352</td>\n",
       "    </tr>\n",
       "    <tr>\n",
       "      <th>tether</th>\n",
       "      <td>0.021774</td>\n",
       "      <td>-0.706337</td>\n",
       "      <td>-0.021680</td>\n",
       "      <td>-0.061030</td>\n",
       "      <td>0.008005</td>\n",
       "      <td>-0.550247</td>\n",
       "      <td>-0.282061</td>\n",
       "    </tr>\n",
       "    <tr>\n",
       "      <th>ripple</th>\n",
       "      <td>-0.040764</td>\n",
       "      <td>-0.810928</td>\n",
       "      <td>0.249458</td>\n",
       "      <td>-0.050388</td>\n",
       "      <td>-0.373164</td>\n",
       "      <td>-0.458259</td>\n",
       "      <td>-0.295546</td>\n",
       "    </tr>\n",
       "    <tr>\n",
       "      <th>bitcoin-cash</th>\n",
       "      <td>1.193036</td>\n",
       "      <td>2.000959</td>\n",
       "      <td>1.760610</td>\n",
       "      <td>0.545842</td>\n",
       "      <td>-0.291203</td>\n",
       "      <td>-0.499848</td>\n",
       "      <td>-0.270317</td>\n",
       "    </tr>\n",
       "  </tbody>\n",
       "</table>\n",
       "</div>"
      ],
      "text/plain": [
       "              price_change_percentage_24h  price_change_percentage_7d  \\\n",
       "coin_id                                                                 \n",
       "bitcoin                          0.508529                    0.493193   \n",
       "ethereum                         0.185446                    0.934445   \n",
       "tether                           0.021774                   -0.706337   \n",
       "ripple                          -0.040764                   -0.810928   \n",
       "bitcoin-cash                     1.193036                    2.000959   \n",
       "\n",
       "              price_change_percentage_14d  price_change_percentage_30d  \\\n",
       "coin_id                                                                  \n",
       "bitcoin                          0.772200                     0.235460   \n",
       "ethereum                         0.558692                    -0.054341   \n",
       "tether                          -0.021680                    -0.061030   \n",
       "ripple                           0.249458                    -0.050388   \n",
       "bitcoin-cash                     1.760610                     0.545842   \n",
       "\n",
       "              price_change_percentage_60d  price_change_percentage_200d  \\\n",
       "coin_id                                                                   \n",
       "bitcoin                         -0.067495                     -0.355953   \n",
       "ethereum                        -0.273483                     -0.115759   \n",
       "tether                           0.008005                     -0.550247   \n",
       "ripple                          -0.373164                     -0.458259   \n",
       "bitcoin-cash                    -0.291203                     -0.499848   \n",
       "\n",
       "              price_change_percentage_1y  \n",
       "coin_id                                   \n",
       "bitcoin                        -0.251637  \n",
       "ethereum                       -0.199352  \n",
       "tether                         -0.282061  \n",
       "ripple                         -0.295546  \n",
       "bitcoin-cash                   -0.270317  "
      ]
     },
     "execution_count": 80,
     "metadata": {},
     "output_type": "execute_result"
    }
   ],
   "source": [
    "# Create a copy of the DataFrame\n",
    "trans_mkt_df_copy = trans_mkt_df.copy()\n",
    "trans_mkt_df_copy.head()"
   ]
  },
  {
   "cell_type": "code",
   "execution_count": 81,
   "metadata": {},
   "outputs": [
    {
     "data": {
      "text/html": [
       "<div>\n",
       "<style scoped>\n",
       "    .dataframe tbody tr th:only-of-type {\n",
       "        vertical-align: middle;\n",
       "    }\n",
       "\n",
       "    .dataframe tbody tr th {\n",
       "        vertical-align: top;\n",
       "    }\n",
       "\n",
       "    .dataframe thead th {\n",
       "        text-align: right;\n",
       "    }\n",
       "</style>\n",
       "<table border=\"1\" class=\"dataframe\">\n",
       "  <thead>\n",
       "    <tr style=\"text-align: right;\">\n",
       "      <th></th>\n",
       "      <th>price_change_percentage_24h</th>\n",
       "      <th>price_change_percentage_7d</th>\n",
       "      <th>price_change_percentage_14d</th>\n",
       "      <th>price_change_percentage_30d</th>\n",
       "      <th>price_change_percentage_60d</th>\n",
       "      <th>price_change_percentage_200d</th>\n",
       "      <th>price_change_percentage_1y</th>\n",
       "      <th>group_id</th>\n",
       "    </tr>\n",
       "    <tr>\n",
       "      <th>coin_id</th>\n",
       "      <th></th>\n",
       "      <th></th>\n",
       "      <th></th>\n",
       "      <th></th>\n",
       "      <th></th>\n",
       "      <th></th>\n",
       "      <th></th>\n",
       "      <th></th>\n",
       "    </tr>\n",
       "  </thead>\n",
       "  <tbody>\n",
       "    <tr>\n",
       "      <th>bitcoin</th>\n",
       "      <td>0.508529</td>\n",
       "      <td>0.493193</td>\n",
       "      <td>0.772200</td>\n",
       "      <td>0.235460</td>\n",
       "      <td>-0.067495</td>\n",
       "      <td>-0.355953</td>\n",
       "      <td>-0.251637</td>\n",
       "      <td>3</td>\n",
       "    </tr>\n",
       "    <tr>\n",
       "      <th>ethereum</th>\n",
       "      <td>0.185446</td>\n",
       "      <td>0.934445</td>\n",
       "      <td>0.558692</td>\n",
       "      <td>-0.054341</td>\n",
       "      <td>-0.273483</td>\n",
       "      <td>-0.115759</td>\n",
       "      <td>-0.199352</td>\n",
       "      <td>3</td>\n",
       "    </tr>\n",
       "    <tr>\n",
       "      <th>tether</th>\n",
       "      <td>0.021774</td>\n",
       "      <td>-0.706337</td>\n",
       "      <td>-0.021680</td>\n",
       "      <td>-0.061030</td>\n",
       "      <td>0.008005</td>\n",
       "      <td>-0.550247</td>\n",
       "      <td>-0.282061</td>\n",
       "      <td>0</td>\n",
       "    </tr>\n",
       "    <tr>\n",
       "      <th>ripple</th>\n",
       "      <td>-0.040764</td>\n",
       "      <td>-0.810928</td>\n",
       "      <td>0.249458</td>\n",
       "      <td>-0.050388</td>\n",
       "      <td>-0.373164</td>\n",
       "      <td>-0.458259</td>\n",
       "      <td>-0.295546</td>\n",
       "      <td>0</td>\n",
       "    </tr>\n",
       "    <tr>\n",
       "      <th>bitcoin-cash</th>\n",
       "      <td>1.193036</td>\n",
       "      <td>2.000959</td>\n",
       "      <td>1.760610</td>\n",
       "      <td>0.545842</td>\n",
       "      <td>-0.291203</td>\n",
       "      <td>-0.499848</td>\n",
       "      <td>-0.270317</td>\n",
       "      <td>3</td>\n",
       "    </tr>\n",
       "  </tbody>\n",
       "</table>\n",
       "</div>"
      ],
      "text/plain": [
       "              price_change_percentage_24h  price_change_percentage_7d  \\\n",
       "coin_id                                                                 \n",
       "bitcoin                          0.508529                    0.493193   \n",
       "ethereum                         0.185446                    0.934445   \n",
       "tether                           0.021774                   -0.706337   \n",
       "ripple                          -0.040764                   -0.810928   \n",
       "bitcoin-cash                     1.193036                    2.000959   \n",
       "\n",
       "              price_change_percentage_14d  price_change_percentage_30d  \\\n",
       "coin_id                                                                  \n",
       "bitcoin                          0.772200                     0.235460   \n",
       "ethereum                         0.558692                    -0.054341   \n",
       "tether                          -0.021680                    -0.061030   \n",
       "ripple                           0.249458                    -0.050388   \n",
       "bitcoin-cash                     1.760610                     0.545842   \n",
       "\n",
       "              price_change_percentage_60d  price_change_percentage_200d  \\\n",
       "coin_id                                                                   \n",
       "bitcoin                         -0.067495                     -0.355953   \n",
       "ethereum                        -0.273483                     -0.115759   \n",
       "tether                           0.008005                     -0.550247   \n",
       "ripple                          -0.373164                     -0.458259   \n",
       "bitcoin-cash                    -0.291203                     -0.499848   \n",
       "\n",
       "              price_change_percentage_1y  group_id  \n",
       "coin_id                                             \n",
       "bitcoin                        -0.251637         3  \n",
       "ethereum                       -0.199352         3  \n",
       "tether                         -0.282061         0  \n",
       "ripple                         -0.295546         0  \n",
       "bitcoin-cash                   -0.270317         3  "
      ]
     },
     "execution_count": 81,
     "metadata": {},
     "output_type": "execute_result"
    }
   ],
   "source": [
    "# Add a new column to the DataFrame with the predicted clusters\n",
    "trans_mkt_df_copy [\"group_id\"] = predicted_clusters\n",
    "\n",
    "# Display sample data\n",
    "trans_mkt_df_copy.head()"
   ]
  },
  {
   "cell_type": "code",
   "execution_count": 82,
   "metadata": {},
   "outputs": [
    {
     "data": {},
     "metadata": {},
     "output_type": "display_data"
    },
    {
     "data": {
      "application/vnd.holoviews_exec.v0+json": "",
      "text/html": [
       "<div id='2755'>\n",
       "  <div class=\"bk-root\" id=\"64d1529f-fb2a-4ae3-bc95-865008536539\" data-root-id=\"2755\"></div>\n",
       "</div>\n",
       "<script type=\"application/javascript\">(function(root) {\n",
       "  function embed_document(root) {\n",
       "    var docs_json = {\"3dafc7a8-e870-41d1-b285-6ec0e376d3ca\":{\"defs\":[{\"extends\":null,\"module\":null,\"name\":\"ReactiveHTML1\",\"overrides\":[],\"properties\":[]},{\"extends\":null,\"module\":null,\"name\":\"FlexBox1\",\"overrides\":[],\"properties\":[{\"default\":\"flex-start\",\"kind\":null,\"name\":\"align_content\"},{\"default\":\"flex-start\",\"kind\":null,\"name\":\"align_items\"},{\"default\":\"row\",\"kind\":null,\"name\":\"flex_direction\"},{\"default\":\"wrap\",\"kind\":null,\"name\":\"flex_wrap\"},{\"default\":\"flex-start\",\"kind\":null,\"name\":\"justify_content\"}]},{\"extends\":null,\"module\":null,\"name\":\"GridStack1\",\"overrides\":[],\"properties\":[{\"default\":\"warn\",\"kind\":null,\"name\":\"mode\"},{\"default\":null,\"kind\":null,\"name\":\"ncols\"},{\"default\":null,\"kind\":null,\"name\":\"nrows\"},{\"default\":true,\"kind\":null,\"name\":\"allow_resize\"},{\"default\":true,\"kind\":null,\"name\":\"allow_drag\"},{\"default\":[],\"kind\":null,\"name\":\"state\"}]},{\"extends\":null,\"module\":null,\"name\":\"click1\",\"overrides\":[],\"properties\":[{\"default\":\"\",\"kind\":null,\"name\":\"terminal_output\"},{\"default\":\"\",\"kind\":null,\"name\":\"debug_name\"},{\"default\":0,\"kind\":null,\"name\":\"clears\"}]},{\"extends\":null,\"module\":null,\"name\":\"NotificationAreaBase1\",\"overrides\":[],\"properties\":[{\"default\":\"bottom-right\",\"kind\":null,\"name\":\"position\"},{\"default\":0,\"kind\":null,\"name\":\"_clear\"}]},{\"extends\":null,\"module\":null,\"name\":\"NotificationArea1\",\"overrides\":[],\"properties\":[{\"default\":[],\"kind\":null,\"name\":\"notifications\"},{\"default\":\"bottom-right\",\"kind\":null,\"name\":\"position\"},{\"default\":0,\"kind\":null,\"name\":\"_clear\"},{\"default\":[{\"background\":\"#ffc107\",\"icon\":{\"className\":\"fas fa-exclamation-triangle\",\"color\":\"white\",\"tagName\":\"i\"},\"type\":\"warning\"},{\"background\":\"#007bff\",\"icon\":{\"className\":\"fas fa-info-circle\",\"color\":\"white\",\"tagName\":\"i\"},\"type\":\"info\"}],\"kind\":null,\"name\":\"types\"}]},{\"extends\":null,\"module\":null,\"name\":\"Notification\",\"overrides\":[],\"properties\":[{\"default\":null,\"kind\":null,\"name\":\"background\"},{\"default\":3000,\"kind\":null,\"name\":\"duration\"},{\"default\":null,\"kind\":null,\"name\":\"icon\"},{\"default\":\"\",\"kind\":null,\"name\":\"message\"},{\"default\":null,\"kind\":null,\"name\":\"notification_type\"},{\"default\":false,\"kind\":null,\"name\":\"_destroyed\"}]},{\"extends\":null,\"module\":null,\"name\":\"TemplateActions1\",\"overrides\":[],\"properties\":[{\"default\":0,\"kind\":null,\"name\":\"open_modal\"},{\"default\":0,\"kind\":null,\"name\":\"close_modal\"}]},{\"extends\":null,\"module\":null,\"name\":\"MaterialTemplateActions1\",\"overrides\":[],\"properties\":[{\"default\":0,\"kind\":null,\"name\":\"open_modal\"},{\"default\":0,\"kind\":null,\"name\":\"close_modal\"}]}],\"roots\":{\"references\":[{\"attributes\":{\"below\":[{\"id\":\"2768\"}],\"center\":[{\"id\":\"2771\"},{\"id\":\"2775\"}],\"height\":400,\"left\":[{\"id\":\"2772\"}],\"margin\":[5,5,5,5],\"min_border_bottom\":10,\"min_border_left\":10,\"min_border_right\":10,\"min_border_top\":10,\"output_backend\":\"webgl\",\"renderers\":[{\"id\":\"2798\"}],\"right\":[{\"id\":\"2801\"}],\"sizing_mode\":\"fixed\",\"title\":{\"id\":\"2760\"},\"toolbar\":{\"id\":\"2782\"},\"width\":800,\"x_range\":{\"id\":\"2756\"},\"x_scale\":{\"id\":\"2764\"},\"y_range\":{\"id\":\"2757\"},\"y_scale\":{\"id\":\"2766\"}},\"id\":\"2759\",\"subtype\":\"Figure\",\"type\":\"Plot\"},{\"attributes\":{\"fill_color\":{\"field\":\"color\",\"transform\":{\"id\":\"2789\"}},\"hatch_color\":{\"field\":\"color\",\"transform\":{\"id\":\"2789\"}},\"line_color\":{\"field\":\"color\",\"transform\":{\"id\":\"2789\"}},\"size\":{\"value\":5.477225575051661},\"tags\":[\"apply_ranges\"],\"x\":{\"field\":\"price_change_percentage_24h\"},\"y\":{\"field\":\"price_change_percentage_7d\"}},\"id\":\"2795\",\"type\":\"Scatter\"},{\"attributes\":{\"coordinates\":null,\"data_source\":{\"id\":\"2790\"},\"glyph\":{\"id\":\"2793\"},\"group\":null,\"hover_glyph\":{\"id\":\"2796\"},\"muted_glyph\":{\"id\":\"2797\"},\"nonselection_glyph\":{\"id\":\"2794\"},\"selection_glyph\":{\"id\":\"2795\"},\"view\":{\"id\":\"2799\"}},\"id\":\"2798\",\"type\":\"GlyphRenderer\"},{\"attributes\":{},\"id\":\"2816\",\"type\":\"NoOverlap\"},{\"attributes\":{},\"id\":\"2804\",\"type\":\"AllLabels\"},{\"attributes\":{},\"id\":\"2806\",\"type\":\"BasicTickFormatter\"},{\"attributes\":{\"high\":3,\"low\":0,\"palette\":[\"#b3fef5\",\"#b0fef5\",\"#adfdf5\",\"#a9fcf5\",\"#a6fbf6\",\"#a3faf6\",\"#a0faf6\",\"#9df9f6\",\"#9af8f6\",\"#97f7f6\",\"#93f7f6\",\"#90f6f6\",\"#8df5f6\",\"#8af4f7\",\"#87f3f7\",\"#83f2f7\",\"#80f2f7\",\"#7df1f7\",\"#79f0f7\",\"#76eff7\",\"#73eef7\",\"#6fedf8\",\"#6cecf8\",\"#68ecf8\",\"#65ebf8\",\"#61eaf8\",\"#5ee9f8\",\"#5ae8f8\",\"#57e7f8\",\"#53e6f8\",\"#50e5f9\",\"#4ce4f9\",\"#49e3f9\",\"#45e2f9\",\"#42e1f9\",\"#3ee0f9\",\"#3bdff9\",\"#38def9\",\"#35ddf9\",\"#32dcf9\",\"#30dbfa\",\"#2ed9fa\",\"#2dd8fa\",\"#2cd7fa\",\"#2bd6fa\",\"#2bd5fa\",\"#2ad3fa\",\"#2ad2fa\",\"#29d1fa\",\"#29d0fb\",\"#29cffb\",\"#28cdfb\",\"#28ccfb\",\"#28cbfb\",\"#28cafb\",\"#28c8fb\",\"#28c7fb\",\"#29c6fb\",\"#29c5fb\",\"#29c4fb\",\"#29c2fb\",\"#2ac1fb\",\"#2ac0fb\",\"#2bbffb\",\"#2bbdfc\",\"#2cbcfc\",\"#2dbbfc\",\"#2db9fc\",\"#2eb8fc\",\"#2fb7fc\",\"#2fb6fc\",\"#30b4fc\",\"#31b3fc\",\"#32b2fc\",\"#32b0fc\",\"#33affc\",\"#33aefc\",\"#34adfc\",\"#34abfc\",\"#34aafc\",\"#35a9fc\",\"#35a8fc\",\"#35a6fc\",\"#35a5fc\",\"#35a4fc\",\"#35a3fc\",\"#35a1fc\",\"#35a0fc\",\"#359ffc\",\"#359dfc\",\"#359cfc\",\"#359bfc\",\"#349afd\",\"#3498fd\",\"#3497fd\",\"#3396fd\",\"#3395fd\",\"#3293fd\",\"#3292fd\",\"#3191fd\",\"#3090fd\",\"#308ffd\",\"#2f8dfd\",\"#2f8cfd\",\"#2e8bfd\",\"#2e8afd\",\"#2d88fd\",\"#2d87fd\",\"#2c86fd\",\"#2c84fd\",\"#2c83fd\",\"#2c82fd\",\"#2b81fd\",\"#2b7ffd\",\"#2b7efd\",\"#2b7dfd\",\"#2b7bfd\",\"#2b7afd\",\"#2b79fd\",\"#2b77fd\",\"#2b76fd\",\"#2b75fd\",\"#2b73fd\",\"#2c72fd\",\"#2c71fd\",\"#2c6ffd\",\"#2c6efd\",\"#2d6cfd\",\"#2d6bfd\",\"#2d6afc\",\"#2e68fc\",\"#2e67fc\",\"#2e65fc\",\"#2e64fc\",\"#2f62fc\",\"#2f61fc\",\"#2f5ffc\",\"#2f5efc\",\"#2f5dfc\",\"#2f5bfc\",\"#2f5afc\",\"#2f58fb\",\"#2f57fb\",\"#2f55fb\",\"#2f53fb\",\"#2f52fb\",\"#2f50fb\",\"#2f4ffb\",\"#2f4dfb\",\"#2e4cfb\",\"#2e4afb\",\"#2e48fb\",\"#2e47fa\",\"#2d45fa\",\"#2d43fa\",\"#2d42fa\",\"#2d40fa\",\"#2c3efa\",\"#2c3dfa\",\"#2b3bf9\",\"#2b39f9\",\"#2a37f9\",\"#2a36f8\",\"#2934f8\",\"#2832f7\",\"#2831f7\",\"#272ff6\",\"#262ef5\",\"#252cf5\",\"#252af4\",\"#2429f3\",\"#2327f2\",\"#2226f1\",\"#2124f0\",\"#2023ef\",\"#1f22ee\",\"#1e20ed\",\"#1d1feb\",\"#1c1eea\",\"#1b1ce9\",\"#1a1be7\",\"#181ae6\",\"#1719e5\",\"#1618e3\",\"#1417e1\",\"#1316e0\",\"#1215de\",\"#1014dc\",\"#0f13db\",\"#0e12d9\",\"#0d11d7\",\"#0c10d5\",\"#0b0fd3\",\"#0a0ed1\",\"#090dd0\",\"#080dce\",\"#080ccc\",\"#070bca\",\"#070ac8\",\"#0709c6\",\"#0708c4\",\"#0707c2\",\"#0707bf\",\"#0806bd\",\"#0806bb\",\"#0905b9\",\"#0904b7\",\"#0a04b5\",\"#0a04b2\",\"#0b03b0\",\"#0c03ae\",\"#0d02ab\",\"#0e02a9\",\"#0e02a7\",\"#0f02a4\",\"#0f01a2\",\"#1001a0\",\"#10019d\",\"#10019b\",\"#100199\",\"#100197\",\"#100194\",\"#0f0192\",\"#0f0190\",\"#0f018e\",\"#0e018b\",\"#0e0189\",\"#0d0187\",\"#0d0185\",\"#0c0183\",\"#0b0181\",\"#0b017e\",\"#0a017c\",\"#09017a\",\"#090178\",\"#080276\",\"#070274\",\"#060272\",\"#060270\",\"#05026e\",\"#04026c\",\"#030269\",\"#030267\",\"#020265\",\"#010263\",\"#010261\",\"#00025f\",\"#00025d\",\"#00025b\",\"#000259\",\"#000257\",\"#000255\",\"#000154\",\"#000152\",\"#000150\",\"#00004e\"]},\"id\":\"2789\",\"type\":\"LinearColorMapper\"},{\"attributes\":{},\"id\":\"2800\",\"type\":\"BasicTicker\"},{\"attributes\":{},\"id\":\"2807\",\"type\":\"AllLabels\"},{\"attributes\":{\"bar_line_color\":\"black\",\"color_mapper\":{\"id\":\"2789\"},\"coordinates\":null,\"group\":null,\"label_standoff\":8,\"location\":[0,0],\"major_label_policy\":{\"id\":\"2816\"},\"major_tick_line_color\":\"black\",\"ticker\":{\"id\":\"2800\"}},\"id\":\"2801\",\"type\":\"ColorBar\"},{\"attributes\":{},\"id\":\"2776\",\"type\":\"SaveTool\"},{\"attributes\":{},\"id\":\"2777\",\"type\":\"PanTool\"},{\"attributes\":{},\"id\":\"2791\",\"type\":\"Selection\"},{\"attributes\":{},\"id\":\"2780\",\"type\":\"ResetTool\"},{\"attributes\":{},\"id\":\"2769\",\"type\":\"BasicTicker\"},{\"attributes\":{\"children\":[{\"id\":\"2759\"}],\"height\":400,\"margin\":[0,0,0,0],\"name\":\"Row02764\",\"sizing_mode\":\"fixed\",\"tags\":[\"embedded\"],\"width\":800},\"id\":\"2755\",\"type\":\"Row\"},{\"attributes\":{\"fill_color\":{\"field\":\"color\",\"transform\":{\"id\":\"2789\"}},\"hatch_color\":{\"field\":\"color\",\"transform\":{\"id\":\"2789\"}},\"line_color\":{\"field\":\"color\",\"transform\":{\"id\":\"2789\"}},\"size\":{\"value\":5.477225575051661},\"tags\":[\"apply_ranges\"],\"x\":{\"field\":\"price_change_percentage_24h\"},\"y\":{\"field\":\"price_change_percentage_7d\"}},\"id\":\"2793\",\"type\":\"Scatter\"},{\"attributes\":{},\"id\":\"2778\",\"type\":\"WheelZoomTool\"},{\"attributes\":{\"overlay\":{\"id\":\"2781\"}},\"id\":\"2779\",\"type\":\"BoxZoomTool\"},{\"attributes\":{},\"id\":\"2764\",\"type\":\"LinearScale\"},{\"attributes\":{\"data\":{\"coin_id\":[\"bitcoin\",\"ethereum\",\"tether\",\"ripple\",\"bitcoin-cash\",\"binancecoin\",\"chainlink\",\"cardano\",\"litecoin\",\"bitcoin-cash-sv\",\"crypto-com-chain\",\"usd-coin\",\"eos\",\"monero\",\"tron\",\"tezos\",\"okb\",\"stellar\",\"cosmos\",\"cdai\",\"neo\",\"wrapped-bitcoin\",\"leo-token\",\"huobi-token\",\"nem\",\"binance-usd\",\"iota\",\"vechain\",\"zcash\",\"theta-token\",\"dash\",\"ethereum-classic\",\"ethlend\",\"maker\",\"havven\",\"omisego\",\"celsius-degree-token\",\"ontology\",\"ftx-token\",\"true-usd\",\"digibyte\"],\"color\":{\"__ndarray__\":\"AwAAAAMAAAAAAAAAAAAAAAMAAAADAAAAAwAAAAMAAAADAAAAAAAAAAAAAAAAAAAAAAAAAAMAAAAAAAAAAwAAAAAAAAAAAAAAAwAAAAAAAAAAAAAAAwAAAAAAAAAAAAAAAAAAAAAAAAAAAAAAAAAAAAMAAAAAAAAAAAAAAAAAAAABAAAAAwAAAAAAAAAAAAAAAgAAAAAAAAAAAAAAAAAAAAAAAAA=\",\"dtype\":\"int32\",\"order\":\"little\",\"shape\":[41]},\"group_id\":{\"__ndarray__\":\"AwAAAAMAAAAAAAAAAAAAAAMAAAADAAAAAwAAAAMAAAADAAAAAAAAAAAAAAAAAAAAAAAAAAMAAAAAAAAAAwAAAAAAAAAAAAAAAwAAAAAAAAAAAAAAAwAAAAAAAAAAAAAAAAAAAAAAAAAAAAAAAAAAAAMAAAAAAAAAAAAAAAAAAAABAAAAAwAAAAAAAAAAAAAAAgAAAAAAAAAAAAAAAAAAAAAAAAA=\",\"dtype\":\"int32\",\"order\":\"little\",\"shape\":[41]},\"price_change_percentage_24h\":{\"__ndarray__\":\"DdlqYN9F4D86azDosLzHP5UiRdTpS5Y/5iURtxHfpL8wCyMArRbzP/cOjHA0iuw/1QxzqW9Xhz8zBL2hZD+6P0jbN/ba1rM/WpkZGJ+73D/9slcesDPVP/IxOp6elqE/H2STd0ruwz9Fpj8/c9DQPxo0XoR2pcA/jkB40RVnw790fnl54Irtv9XPDahDw9G/qa8st/Fh0L/6U5ZBISbHP6Olu6TDVtI/BVlpN5h+4D+njODODoCqPwjDDo/fo6q/woaukuXmy79od0yHwmevP8HhEPEMldA/ypmU5gu54j+sKNPN2lDAv1gH9WGFy/m/N7JuVBEB07/EU4GAhEGyv91nhz6W7BPA/ACFOIMFwL/DnH9IcNv2v5ezwSWNt/4/VLqXBn668D/IKcQzxy3av5WrmDyeito/Bf22eE/6sz9Y362Ir3rzPw==\",\"dtype\":\"float64\",\"order\":\"little\",\"shape\":[41]},\"price_change_percentage_7d\":{\"__ndarray__\":\"UVk8q3mQ3z9xoPpI+ebtP26UiL5Pmua/Uro8ah/z6b8wAdnT9gEAQIFpDjGZPPU/AjbpSPiTBEAmUWkixiD4P/CMI2gdZdU/EpTtp1doyL936vtUZtb5v0YZLH/ydOe/jN8GjguF7b8rMp3jf678PxhAcFxBAKW/Y2ZRGoqp5j8Udj8VbP/2vyaelkVDp9i/Wq6ZksNx/T/uJm9WzI7mvzG74lUf4tS/QXzKstaO3T85jfoETLXtv6ZqpXs9Q92/w7TyyiEu678nI2rMB53mv0wuo6Hk788/30Zrgr7Q778jzwwdV7vtP/9TV66U6fq/W2X+mWVCuD8LJ0pHuV/Nv4iFotqbIae/sLW7TleV4j/yyBNmVh+av0o8Y/5ntdc/N/03JFjJ47+Itdvf1gXtv10vihmzf9o/fX1xtwIC5r/TTlu6Y3Ljvw==\",\"dtype\":\"float64\",\"order\":\"little\",\"shape\":[41]}},\"selected\":{\"id\":\"2791\"},\"selection_policy\":{\"id\":\"2820\"}},\"id\":\"2790\",\"type\":\"ColumnDataSource\"},{\"attributes\":{\"fill_alpha\":{\"value\":0.2},\"fill_color\":{\"field\":\"color\",\"transform\":{\"id\":\"2789\"}},\"hatch_alpha\":{\"value\":0.2},\"hatch_color\":{\"field\":\"color\",\"transform\":{\"id\":\"2789\"}},\"line_alpha\":{\"value\":0.2},\"line_color\":{\"field\":\"color\",\"transform\":{\"id\":\"2789\"}},\"size\":{\"value\":5.477225575051661},\"tags\":[\"apply_ranges\"],\"x\":{\"field\":\"price_change_percentage_24h\"},\"y\":{\"field\":\"price_change_percentage_7d\"}},\"id\":\"2797\",\"type\":\"Scatter\"},{\"attributes\":{\"end\":2.9976786562735933,\"reset_end\":2.9976786562735933,\"reset_start\":-2.107454305728652,\"start\":-2.107454305728652,\"tags\":[[[\"price_change_percentage_7d\",\"price_change_percentage_7d\",null]]]},\"id\":\"2757\",\"type\":\"Range1d\"},{\"attributes\":{},\"id\":\"2773\",\"type\":\"BasicTicker\"},{\"attributes\":{},\"id\":\"2820\",\"type\":\"UnionRenderers\"},{\"attributes\":{\"end\":2.264855054580661,\"reset_end\":2.264855054580661,\"reset_start\":-5.326084597816067,\"start\":-5.326084597816067,\"tags\":[[[\"price_change_percentage_24h\",\"price_change_percentage_24h\",null]]]},\"id\":\"2756\",\"type\":\"Range1d\"},{\"attributes\":{\"coordinates\":null,\"group\":null,\"text_color\":\"black\",\"text_font_size\":\"12pt\"},\"id\":\"2760\",\"type\":\"Title\"},{\"attributes\":{\"fill_alpha\":{\"value\":0.1},\"fill_color\":{\"field\":\"color\",\"transform\":{\"id\":\"2789\"}},\"hatch_alpha\":{\"value\":0.1},\"hatch_color\":{\"field\":\"color\",\"transform\":{\"id\":\"2789\"}},\"line_alpha\":{\"value\":0.1},\"line_color\":{\"field\":\"color\",\"transform\":{\"id\":\"2789\"}},\"size\":{\"value\":5.477225575051661},\"tags\":[\"apply_ranges\"],\"x\":{\"field\":\"price_change_percentage_24h\"},\"y\":{\"field\":\"price_change_percentage_7d\"}},\"id\":\"2794\",\"type\":\"Scatter\"},{\"attributes\":{\"active_drag\":{\"id\":\"2777\"},\"active_scroll\":{\"id\":\"2778\"},\"tools\":[{\"id\":\"2758\"},{\"id\":\"2776\"},{\"id\":\"2777\"},{\"id\":\"2778\"},{\"id\":\"2779\"},{\"id\":\"2780\"}]},\"id\":\"2782\",\"type\":\"Toolbar\"},{\"attributes\":{\"axis\":{\"id\":\"2768\"},\"coordinates\":null,\"grid_line_color\":null,\"group\":null,\"ticker\":null},\"id\":\"2771\",\"type\":\"Grid\"},{\"attributes\":{},\"id\":\"2766\",\"type\":\"LinearScale\"},{\"attributes\":{\"axis_label\":\"price_change_percentage_7d\",\"coordinates\":null,\"formatter\":{\"id\":\"2806\"},\"group\":null,\"major_label_policy\":{\"id\":\"2807\"},\"ticker\":{\"id\":\"2773\"}},\"id\":\"2772\",\"type\":\"LinearAxis\"},{\"attributes\":{\"bottom_units\":\"screen\",\"coordinates\":null,\"fill_alpha\":0.5,\"fill_color\":\"lightgrey\",\"group\":null,\"left_units\":\"screen\",\"level\":\"overlay\",\"line_alpha\":1.0,\"line_color\":\"black\",\"line_dash\":[4,4],\"line_width\":2,\"right_units\":\"screen\",\"syncable\":false,\"top_units\":\"screen\"},\"id\":\"2781\",\"type\":\"BoxAnnotation\"},{\"attributes\":{\"axis_label\":\"price_change_percentage_24h\",\"coordinates\":null,\"formatter\":{\"id\":\"2803\"},\"group\":null,\"major_label_policy\":{\"id\":\"2804\"},\"ticker\":{\"id\":\"2769\"}},\"id\":\"2768\",\"type\":\"LinearAxis\"},{\"attributes\":{\"callback\":null,\"renderers\":[{\"id\":\"2798\"}],\"tags\":[\"hv_created\"],\"tooltips\":[[\"price_change_percentage_24h\",\"@{price_change_percentage_24h}\"],[\"price_change_percentage_7d\",\"@{price_change_percentage_7d}\"],[\"group_id\",\"@{group_id}\"],[\"coin_id\",\"@{coin_id}\"]]},\"id\":\"2758\",\"type\":\"HoverTool\"},{\"attributes\":{},\"id\":\"2803\",\"type\":\"BasicTickFormatter\"},{\"attributes\":{\"axis\":{\"id\":\"2772\"},\"coordinates\":null,\"dimension\":1,\"grid_line_color\":null,\"group\":null,\"ticker\":null},\"id\":\"2775\",\"type\":\"Grid\"},{\"attributes\":{\"fill_color\":{\"field\":\"color\",\"transform\":{\"id\":\"2789\"}},\"hatch_color\":{\"field\":\"color\",\"transform\":{\"id\":\"2789\"}},\"line_color\":{\"field\":\"color\",\"transform\":{\"id\":\"2789\"}},\"size\":{\"value\":5.477225575051661},\"tags\":[\"apply_ranges\"],\"x\":{\"field\":\"price_change_percentage_24h\"},\"y\":{\"field\":\"price_change_percentage_7d\"}},\"id\":\"2796\",\"type\":\"Scatter\"},{\"attributes\":{\"source\":{\"id\":\"2790\"}},\"id\":\"2799\",\"type\":\"CDSView\"}],\"root_ids\":[\"2755\"]},\"title\":\"Bokeh Application\",\"version\":\"2.4.3\"}};\n",
       "    var render_items = [{\"docid\":\"3dafc7a8-e870-41d1-b285-6ec0e376d3ca\",\"root_ids\":[\"2755\"],\"roots\":{\"2755\":\"64d1529f-fb2a-4ae3-bc95-865008536539\"}}];\n",
       "    root.Bokeh.embed.embed_items_notebook(docs_json, render_items);\n",
       "    for (const render_item of render_items) {\n",
       "      for (const root_id of render_item.root_ids) {\n",
       "\tconst id_el = document.getElementById(root_id)\n",
       "\tif (id_el.children.length && (id_el.children[0].className === 'bk-root')) {\n",
       "\t  const root_el = id_el.children[0]\n",
       "\t  root_el.id = root_el.id + '-rendered'\n",
       "\t}\n",
       "      }\n",
       "    }\n",
       "  }\n",
       "  if (root.Bokeh !== undefined && root.Bokeh.Panel !== undefined) {\n",
       "    embed_document(root);\n",
       "  } else {\n",
       "    var attempts = 0;\n",
       "    var timer = setInterval(function(root) {\n",
       "      if (root.Bokeh !== undefined && root.Bokeh.Panel !== undefined) {\n",
       "        clearInterval(timer);\n",
       "        embed_document(root);\n",
       "      } else if (document.readyState == \"complete\") {\n",
       "        attempts++;\n",
       "        if (attempts > 200) {\n",
       "          clearInterval(timer);\n",
       "          console.log(\"Bokeh: ERROR: Unable to run BokehJS code because BokehJS library is missing\");\n",
       "        }\n",
       "      }\n",
       "    }, 25, root)\n",
       "  }\n",
       "})(window);</script>"
      ],
      "text/plain": [
       ":Scatter   [price_change_percentage_24h]   (price_change_percentage_7d,group_id,coin_id)"
      ]
     },
     "execution_count": 82,
     "metadata": {
      "application/vnd.holoviews_exec.v0+json": {
       "id": "2755"
      }
     },
     "output_type": "execute_result"
    }
   ],
   "source": [
    "# Create a scatter plot using hvPlot\n",
    "trans_mkt_df_copy.hvplot.scatter(\n",
    "    # `x=\"price_change_percentage_24h\"` and `y=\"price_change_percentage_7d\"`.\n",
    "    x = \"price_change_percentage_24h\",\n",
    "    y = \"price_change_percentage_7d\",\n",
    "    # Color the graph points with the labels found using K-Means and \n",
    "    c = \"group_id\",\n",
    "    # add the crypto name in the `hover_cols` parameter to identify the cryptocurrency represented by each data point.\n",
    "    hover_cols = \"coin_id\",\n",
    "    width=800,\n",
    "    height=400\n",
    ")"
   ]
  },
  {
   "attachments": {},
   "cell_type": "markdown",
   "metadata": {},
   "source": [
    "---"
   ]
  },
  {
   "attachments": {},
   "cell_type": "markdown",
   "metadata": {},
   "source": [
    "### Optimize Clusters with Principal Component Analysis."
   ]
  },
  {
   "cell_type": "code",
   "execution_count": 83,
   "metadata": {},
   "outputs": [],
   "source": [
    "# Create a PCA model instance and set `n_components=3`.\n",
    "pca_model = PCA(n_components = 3)"
   ]
  },
  {
   "cell_type": "code",
   "execution_count": 84,
   "metadata": {},
   "outputs": [
    {
     "data": {
      "text/html": [
       "<div>\n",
       "<style scoped>\n",
       "    .dataframe tbody tr th:only-of-type {\n",
       "        vertical-align: middle;\n",
       "    }\n",
       "\n",
       "    .dataframe tbody tr th {\n",
       "        vertical-align: top;\n",
       "    }\n",
       "\n",
       "    .dataframe thead th {\n",
       "        text-align: right;\n",
       "    }\n",
       "</style>\n",
       "<table border=\"1\" class=\"dataframe\">\n",
       "  <thead>\n",
       "    <tr style=\"text-align: right;\">\n",
       "      <th></th>\n",
       "      <th>0</th>\n",
       "      <th>1</th>\n",
       "      <th>2</th>\n",
       "    </tr>\n",
       "  </thead>\n",
       "  <tbody>\n",
       "    <tr>\n",
       "      <th>0</th>\n",
       "      <td>2.059139</td>\n",
       "      <td>-0.536684</td>\n",
       "      <td>-0.438238</td>\n",
       "    </tr>\n",
       "    <tr>\n",
       "      <th>1</th>\n",
       "      <td>1.956401</td>\n",
       "      <td>-0.410821</td>\n",
       "      <td>-1.016966</td>\n",
       "    </tr>\n",
       "    <tr>\n",
       "      <th>2</th>\n",
       "      <td>-0.990142</td>\n",
       "      <td>-0.454228</td>\n",
       "      <td>0.690021</td>\n",
       "    </tr>\n",
       "    <tr>\n",
       "      <th>3</th>\n",
       "      <td>-0.973189</td>\n",
       "      <td>-0.494650</td>\n",
       "      <td>0.551234</td>\n",
       "    </tr>\n",
       "    <tr>\n",
       "      <th>4</th>\n",
       "      <td>3.330367</td>\n",
       "      <td>-1.022311</td>\n",
       "      <td>-0.501341</td>\n",
       "    </tr>\n",
       "  </tbody>\n",
       "</table>\n",
       "</div>"
      ],
      "text/plain": [
       "          0         1         2\n",
       "0  2.059139 -0.536684 -0.438238\n",
       "1  1.956401 -0.410821 -1.016966\n",
       "2 -0.990142 -0.454228  0.690021\n",
       "3 -0.973189 -0.494650  0.551234\n",
       "4  3.330367 -1.022311 -0.501341"
      ]
     },
     "execution_count": 84,
     "metadata": {},
     "output_type": "execute_result"
    }
   ],
   "source": [
    "# Use the PCA model with `fit_transform` to reduce to \n",
    "# three principal components.\n",
    "pca_data = pca_model.fit_transform(trans_mkt_df_copy)\n",
    "\n",
    "# Create dataframe\n",
    "pca_df = pd.DataFrame(pca_data)\n",
    "\n",
    "# View the first five rows of the DataFrame. \n",
    "pca_df.head(5)"
   ]
  },
  {
   "cell_type": "code",
   "execution_count": 85,
   "metadata": {},
   "outputs": [
    {
     "data": {
      "text/plain": [
       "array([0.38939231, 0.29166039, 0.20810061])"
      ]
     },
     "execution_count": 85,
     "metadata": {},
     "output_type": "execute_result"
    }
   ],
   "source": [
    "# Retrieve the explained variance to determine how much information \n",
    "# can be attributed to each principal component.\n",
    "pca_model.explained_variance_ratio_"
   ]
  },
  {
   "cell_type": "code",
   "execution_count": 86,
   "metadata": {},
   "outputs": [
    {
     "data": {
      "text/plain": [
       "0.889153306150571"
      ]
     },
     "execution_count": 86,
     "metadata": {},
     "output_type": "execute_result"
    }
   ],
   "source": [
    "# Calculate total explained variance\n",
    "tot_exp_var = sum(pca_model.explained_variance_ratio_)\n",
    "tot_exp_var"
   ]
  },
  {
   "attachments": {},
   "cell_type": "markdown",
   "metadata": {},
   "source": [
    "#### Answer the following question: \n",
    "\n",
    "**Question:** What is the total explained variance of the three principal components?\n",
    "\n",
    "**Answer:** 0.8881101751527734, or about 88.8%"
   ]
  },
  {
   "cell_type": "code",
   "execution_count": 87,
   "metadata": {},
   "outputs": [],
   "source": [
    "# Create a new DataFrame with the PCA data.\n",
    "\n",
    "# Creating a DataFrame with the PCA data\n",
    "\n",
    "# Copy the crypto names from the original data\n",
    "\n",
    "\n",
    "# Set the coinid column as index\n",
    "\n",
    "\n",
    "# Display sample data\n"
   ]
  },
  {
   "attachments": {},
   "cell_type": "markdown",
   "metadata": {},
   "source": [
    "---"
   ]
  },
  {
   "attachments": {},
   "cell_type": "markdown",
   "metadata": {},
   "source": [
    "### Find the Best Value for k Using the PCA Data"
   ]
  },
  {
   "cell_type": "code",
   "execution_count": 88,
   "metadata": {},
   "outputs": [],
   "source": [
    "# Create a list with the number of k-values from 1 to 11\n",
    "pca_k_range = range(1,11)"
   ]
  },
  {
   "cell_type": "code",
   "execution_count": 89,
   "metadata": {},
   "outputs": [
    {
     "name": "stderr",
     "output_type": "stream",
     "text": [
      "c:\\Users\\Caleb\\.conda\\envs\\PythonData\\lib\\site-packages\\sklearn\\cluster\\_kmeans.py:1037: UserWarning: KMeans is known to have a memory leak on Windows with MKL, when there are less chunks than available threads. You can avoid it by setting the environment variable OMP_NUM_THREADS=1.\n",
      "  \"KMeans is known to have a memory leak on Windows \"\n"
     ]
    }
   ],
   "source": [
    "# Create an empty list to store the inertia values\n",
    "pca_k_inertia = []\n",
    "\n",
    "# Create a for loop to compute the inertia with each possible value of k\n",
    "for k in pca_k_range:\n",
    "    # 1. Create a KMeans model using the loop counter for the n_clusters\n",
    "    test_model = KMeans(n_clusters=k)\n",
    "    # 2. Fit the model to the data using `df_market_data_scaled`\n",
    "    test_model.fit(pca_df)\n",
    "    # 3. Append the model.inertia_ to the inertia list\n",
    "    pca_k_inertia.append(test_model.inertia_)\n"
   ]
  },
  {
   "cell_type": "code",
   "execution_count": 90,
   "metadata": {},
   "outputs": [
    {
     "data": {
      "text/html": [
       "<div>\n",
       "<style scoped>\n",
       "    .dataframe tbody tr th:only-of-type {\n",
       "        vertical-align: middle;\n",
       "    }\n",
       "\n",
       "    .dataframe tbody tr th {\n",
       "        vertical-align: top;\n",
       "    }\n",
       "\n",
       "    .dataframe thead th {\n",
       "        text-align: right;\n",
       "    }\n",
       "</style>\n",
       "<table border=\"1\" class=\"dataframe\">\n",
       "  <thead>\n",
       "    <tr style=\"text-align: right;\">\n",
       "      <th></th>\n",
       "      <th>k</th>\n",
       "      <th>inirtia</th>\n",
       "    </tr>\n",
       "  </thead>\n",
       "  <tbody>\n",
       "    <tr>\n",
       "      <th>0</th>\n",
       "      <td>1</td>\n",
       "      <td>325.408423</td>\n",
       "    </tr>\n",
       "    <tr>\n",
       "      <th>1</th>\n",
       "      <td>2</td>\n",
       "      <td>195.309951</td>\n",
       "    </tr>\n",
       "    <tr>\n",
       "      <th>2</th>\n",
       "      <td>3</td>\n",
       "      <td>108.664758</td>\n",
       "    </tr>\n",
       "    <tr>\n",
       "      <th>3</th>\n",
       "      <td>4</td>\n",
       "      <td>39.883324</td>\n",
       "    </tr>\n",
       "    <tr>\n",
       "      <th>4</th>\n",
       "      <td>5</td>\n",
       "      <td>28.986240</td>\n",
       "    </tr>\n",
       "  </tbody>\n",
       "</table>\n",
       "</div>"
      ],
      "text/plain": [
       "   k     inirtia\n",
       "0  1  325.408423\n",
       "1  2  195.309951\n",
       "2  3  108.664758\n",
       "3  4   39.883324\n",
       "4  5   28.986240"
      ]
     },
     "execution_count": 90,
     "metadata": {},
     "output_type": "execute_result"
    }
   ],
   "source": [
    "# Create a dictionary with the data to plot the Elbow curve\n",
    "pca_k_dict = {\"k\":pca_k_range, \"inirtia\":pca_k_inertia}\n",
    "\n",
    "# Create a DataFrame with the data to plot the Elbow curve\n",
    "pca_k_df = pd.DataFrame(pca_k_dict)\n",
    "\n",
    "# Display the Dataframe\n",
    "pca_k_df.head()"
   ]
  },
  {
   "cell_type": "code",
   "execution_count": 91,
   "metadata": {},
   "outputs": [
    {
     "data": {},
     "metadata": {},
     "output_type": "display_data"
    },
    {
     "data": {
      "application/vnd.holoviews_exec.v0+json": "",
      "text/html": [
       "<div id='2879'>\n",
       "  <div class=\"bk-root\" id=\"3a9d5ace-f3ea-4f0f-9c72-79f32f241dbc\" data-root-id=\"2879\"></div>\n",
       "</div>\n",
       "<script type=\"application/javascript\">(function(root) {\n",
       "  function embed_document(root) {\n",
       "    var docs_json = {\"18ecfce6-cfc5-44f8-9f78-1253392a7223\":{\"defs\":[{\"extends\":null,\"module\":null,\"name\":\"ReactiveHTML1\",\"overrides\":[],\"properties\":[]},{\"extends\":null,\"module\":null,\"name\":\"FlexBox1\",\"overrides\":[],\"properties\":[{\"default\":\"flex-start\",\"kind\":null,\"name\":\"align_content\"},{\"default\":\"flex-start\",\"kind\":null,\"name\":\"align_items\"},{\"default\":\"row\",\"kind\":null,\"name\":\"flex_direction\"},{\"default\":\"wrap\",\"kind\":null,\"name\":\"flex_wrap\"},{\"default\":\"flex-start\",\"kind\":null,\"name\":\"justify_content\"}]},{\"extends\":null,\"module\":null,\"name\":\"GridStack1\",\"overrides\":[],\"properties\":[{\"default\":\"warn\",\"kind\":null,\"name\":\"mode\"},{\"default\":null,\"kind\":null,\"name\":\"ncols\"},{\"default\":null,\"kind\":null,\"name\":\"nrows\"},{\"default\":true,\"kind\":null,\"name\":\"allow_resize\"},{\"default\":true,\"kind\":null,\"name\":\"allow_drag\"},{\"default\":[],\"kind\":null,\"name\":\"state\"}]},{\"extends\":null,\"module\":null,\"name\":\"click1\",\"overrides\":[],\"properties\":[{\"default\":\"\",\"kind\":null,\"name\":\"terminal_output\"},{\"default\":\"\",\"kind\":null,\"name\":\"debug_name\"},{\"default\":0,\"kind\":null,\"name\":\"clears\"}]},{\"extends\":null,\"module\":null,\"name\":\"NotificationAreaBase1\",\"overrides\":[],\"properties\":[{\"default\":\"bottom-right\",\"kind\":null,\"name\":\"position\"},{\"default\":0,\"kind\":null,\"name\":\"_clear\"}]},{\"extends\":null,\"module\":null,\"name\":\"NotificationArea1\",\"overrides\":[],\"properties\":[{\"default\":[],\"kind\":null,\"name\":\"notifications\"},{\"default\":\"bottom-right\",\"kind\":null,\"name\":\"position\"},{\"default\":0,\"kind\":null,\"name\":\"_clear\"},{\"default\":[{\"background\":\"#ffc107\",\"icon\":{\"className\":\"fas fa-exclamation-triangle\",\"color\":\"white\",\"tagName\":\"i\"},\"type\":\"warning\"},{\"background\":\"#007bff\",\"icon\":{\"className\":\"fas fa-info-circle\",\"color\":\"white\",\"tagName\":\"i\"},\"type\":\"info\"}],\"kind\":null,\"name\":\"types\"}]},{\"extends\":null,\"module\":null,\"name\":\"Notification\",\"overrides\":[],\"properties\":[{\"default\":null,\"kind\":null,\"name\":\"background\"},{\"default\":3000,\"kind\":null,\"name\":\"duration\"},{\"default\":null,\"kind\":null,\"name\":\"icon\"},{\"default\":\"\",\"kind\":null,\"name\":\"message\"},{\"default\":null,\"kind\":null,\"name\":\"notification_type\"},{\"default\":false,\"kind\":null,\"name\":\"_destroyed\"}]},{\"extends\":null,\"module\":null,\"name\":\"TemplateActions1\",\"overrides\":[],\"properties\":[{\"default\":0,\"kind\":null,\"name\":\"open_modal\"},{\"default\":0,\"kind\":null,\"name\":\"close_modal\"}]},{\"extends\":null,\"module\":null,\"name\":\"MaterialTemplateActions1\",\"overrides\":[],\"properties\":[{\"default\":0,\"kind\":null,\"name\":\"open_modal\"},{\"default\":0,\"kind\":null,\"name\":\"close_modal\"}]}],\"roots\":{\"references\":[{\"attributes\":{\"active_drag\":{\"id\":\"2901\"},\"active_scroll\":{\"id\":\"2902\"},\"tools\":[{\"id\":\"2882\"},{\"id\":\"2900\"},{\"id\":\"2901\"},{\"id\":\"2902\"},{\"id\":\"2903\"},{\"id\":\"2904\"}]},\"id\":\"2906\",\"type\":\"Toolbar\"},{\"attributes\":{},\"id\":\"2890\",\"type\":\"LinearScale\"},{\"attributes\":{\"children\":[{\"id\":\"2883\"}],\"height\":400,\"margin\":[0,0,0,0],\"name\":\"Row02873\",\"sizing_mode\":\"fixed\",\"tags\":[\"embedded\"],\"width\":800},\"id\":\"2879\",\"type\":\"Row\"},{\"attributes\":{\"axis_label\":\"inirtia\",\"coordinates\":null,\"formatter\":{\"id\":\"2926\"},\"group\":null,\"major_label_policy\":{\"id\":\"2927\"},\"ticker\":{\"id\":\"2897\"}},\"id\":\"2896\",\"type\":\"LinearAxis\"},{\"attributes\":{},\"id\":\"2923\",\"type\":\"BasicTickFormatter\"},{\"attributes\":{\"bottom_units\":\"screen\",\"coordinates\":null,\"fill_alpha\":0.5,\"fill_color\":\"lightgrey\",\"group\":null,\"left_units\":\"screen\",\"level\":\"overlay\",\"line_alpha\":1.0,\"line_color\":\"black\",\"line_dash\":[4,4],\"line_width\":2,\"right_units\":\"screen\",\"syncable\":false,\"top_units\":\"screen\"},\"id\":\"2905\",\"type\":\"BoxAnnotation\"},{\"attributes\":{\"axis_label\":\"k\",\"coordinates\":null,\"formatter\":{\"id\":\"2923\"},\"group\":null,\"major_label_policy\":{\"id\":\"2924\"},\"ticker\":{\"id\":\"2893\"}},\"id\":\"2892\",\"type\":\"LinearAxis\"},{\"attributes\":{},\"id\":\"2926\",\"type\":\"BasicTickFormatter\"},{\"attributes\":{\"source\":{\"id\":\"2913\"}},\"id\":\"2920\",\"type\":\"CDSView\"},{\"attributes\":{\"line_color\":\"#30a2da\",\"line_width\":2,\"tags\":[\"apply_ranges\"],\"x\":{\"field\":\"k\"},\"y\":{\"field\":\"inirtia\"}},\"id\":\"2921\",\"type\":\"Line\"},{\"attributes\":{},\"id\":\"2939\",\"type\":\"UnionRenderers\"},{\"attributes\":{\"axis\":{\"id\":\"2896\"},\"coordinates\":null,\"dimension\":1,\"grid_line_color\":null,\"group\":null,\"ticker\":null},\"id\":\"2899\",\"type\":\"Grid\"},{\"attributes\":{\"callback\":null,\"renderers\":[{\"id\":\"2919\"}],\"tags\":[\"hv_created\"],\"tooltips\":[[\"k\",\"@{k}\"],[\"inirtia\",\"@{inirtia}\"]]},\"id\":\"2882\",\"type\":\"HoverTool\"},{\"attributes\":{\"coordinates\":null,\"group\":null,\"text_color\":\"black\",\"text_font_size\":\"12pt\"},\"id\":\"2884\",\"type\":\"Title\"},{\"attributes\":{\"coordinates\":null,\"data_source\":{\"id\":\"2913\"},\"glyph\":{\"id\":\"2916\"},\"group\":null,\"hover_glyph\":null,\"muted_glyph\":{\"id\":\"2918\"},\"nonselection_glyph\":{\"id\":\"2917\"},\"selection_glyph\":{\"id\":\"2921\"},\"view\":{\"id\":\"2920\"}},\"id\":\"2919\",\"type\":\"GlyphRenderer\"},{\"attributes\":{},\"id\":\"2927\",\"type\":\"AllLabels\"},{\"attributes\":{\"line_color\":\"#30a2da\",\"line_width\":2,\"tags\":[\"apply_ranges\"],\"x\":{\"field\":\"k\"},\"y\":{\"field\":\"inirtia\"}},\"id\":\"2916\",\"type\":\"Line\"},{\"attributes\":{\"line_alpha\":0.1,\"line_color\":\"#30a2da\",\"line_width\":2,\"tags\":[\"apply_ranges\"],\"x\":{\"field\":\"k\"},\"y\":{\"field\":\"inirtia\"}},\"id\":\"2917\",\"type\":\"Line\"},{\"attributes\":{\"line_alpha\":0.2,\"line_color\":\"#30a2da\",\"line_width\":2,\"tags\":[\"apply_ranges\"],\"x\":{\"field\":\"k\"},\"y\":{\"field\":\"inirtia\"}},\"id\":\"2918\",\"type\":\"Line\"},{\"attributes\":{\"below\":[{\"id\":\"2892\"}],\"center\":[{\"id\":\"2895\"},{\"id\":\"2899\"}],\"height\":400,\"left\":[{\"id\":\"2896\"}],\"margin\":[5,5,5,5],\"min_border_bottom\":10,\"min_border_left\":10,\"min_border_right\":10,\"min_border_top\":10,\"output_backend\":\"webgl\",\"renderers\":[{\"id\":\"2919\"}],\"sizing_mode\":\"fixed\",\"title\":{\"id\":\"2884\"},\"toolbar\":{\"id\":\"2906\"},\"width\":800,\"x_range\":{\"id\":\"2880\"},\"x_scale\":{\"id\":\"2888\"},\"y_range\":{\"id\":\"2881\"},\"y_scale\":{\"id\":\"2890\"}},\"id\":\"2883\",\"subtype\":\"Figure\",\"type\":\"Plot\"},{\"attributes\":{\"end\":357.135741833381,\"reset_end\":357.135741833381,\"reset_start\":-23.592079545933995,\"start\":-23.592079545933995,\"tags\":[[[\"inirtia\",\"inirtia\",null]]]},\"id\":\"2881\",\"type\":\"Range1d\"},{\"attributes\":{},\"id\":\"2900\",\"type\":\"SaveTool\"},{\"attributes\":{},\"id\":\"2888\",\"type\":\"LinearScale\"},{\"attributes\":{},\"id\":\"2901\",\"type\":\"PanTool\"},{\"attributes\":{},\"id\":\"2914\",\"type\":\"Selection\"},{\"attributes\":{},\"id\":\"2904\",\"type\":\"ResetTool\"},{\"attributes\":{},\"id\":\"2902\",\"type\":\"WheelZoomTool\"},{\"attributes\":{\"data\":{\"inirtia\":{\"__ndarray__\":\"JZ/15ohWdEC9hG4d62loQChDqmWLKltA7sH1whDxQ0Co4JE8evw8QMSe5x9dQzVAZ+Znr0YFMEDcschTcTMpQEVBYlI5ICRA8mmNCD5FIEA=\",\"dtype\":\"float64\",\"order\":\"little\",\"shape\":[10]},\"k\":[1,2,3,4,5,6,7,8,9,10]},\"selected\":{\"id\":\"2914\"},\"selection_policy\":{\"id\":\"2939\"}},\"id\":\"2913\",\"type\":\"ColumnDataSource\"},{\"attributes\":{\"overlay\":{\"id\":\"2905\"}},\"id\":\"2903\",\"type\":\"BoxZoomTool\"},{\"attributes\":{},\"id\":\"2893\",\"type\":\"BasicTicker\"},{\"attributes\":{\"end\":10.0,\"reset_end\":10.0,\"reset_start\":1.0,\"start\":1.0,\"tags\":[[[\"k\",\"k\",null]]]},\"id\":\"2880\",\"type\":\"Range1d\"},{\"attributes\":{},\"id\":\"2924\",\"type\":\"AllLabels\"},{\"attributes\":{\"axis\":{\"id\":\"2892\"},\"coordinates\":null,\"grid_line_color\":null,\"group\":null,\"ticker\":null},\"id\":\"2895\",\"type\":\"Grid\"},{\"attributes\":{},\"id\":\"2897\",\"type\":\"BasicTicker\"}],\"root_ids\":[\"2879\"]},\"title\":\"Bokeh Application\",\"version\":\"2.4.3\"}};\n",
       "    var render_items = [{\"docid\":\"18ecfce6-cfc5-44f8-9f78-1253392a7223\",\"root_ids\":[\"2879\"],\"roots\":{\"2879\":\"3a9d5ace-f3ea-4f0f-9c72-79f32f241dbc\"}}];\n",
       "    root.Bokeh.embed.embed_items_notebook(docs_json, render_items);\n",
       "    for (const render_item of render_items) {\n",
       "      for (const root_id of render_item.root_ids) {\n",
       "\tconst id_el = document.getElementById(root_id)\n",
       "\tif (id_el.children.length && (id_el.children[0].className === 'bk-root')) {\n",
       "\t  const root_el = id_el.children[0]\n",
       "\t  root_el.id = root_el.id + '-rendered'\n",
       "\t}\n",
       "      }\n",
       "    }\n",
       "  }\n",
       "  if (root.Bokeh !== undefined && root.Bokeh.Panel !== undefined) {\n",
       "    embed_document(root);\n",
       "  } else {\n",
       "    var attempts = 0;\n",
       "    var timer = setInterval(function(root) {\n",
       "      if (root.Bokeh !== undefined && root.Bokeh.Panel !== undefined) {\n",
       "        clearInterval(timer);\n",
       "        embed_document(root);\n",
       "      } else if (document.readyState == \"complete\") {\n",
       "        attempts++;\n",
       "        if (attempts > 200) {\n",
       "          clearInterval(timer);\n",
       "          console.log(\"Bokeh: ERROR: Unable to run BokehJS code because BokehJS library is missing\");\n",
       "        }\n",
       "      }\n",
       "    }, 25, root)\n",
       "  }\n",
       "})(window);</script>"
      ],
      "text/plain": [
       ":Curve   [k]   (inirtia)"
      ]
     },
     "execution_count": 91,
     "metadata": {
      "application/vnd.holoviews_exec.v0+json": {
       "id": "2879"
      }
     },
     "output_type": "execute_result"
    }
   ],
   "source": [
    "# Plot a line chart with all the inertia values computed with \n",
    "# the different values of k to visually identify the optimal value for k.\n",
    "pca_k_df.hvplot.line(\n",
    "    x = \"k\",\n",
    "    y = \"inirtia\",\n",
    "    width=800,\n",
    "    height=400,\n",
    ")"
   ]
  },
  {
   "attachments": {},
   "cell_type": "markdown",
   "metadata": {},
   "source": [
    "#### Answer the following questions: \n",
    "\n",
    "* **Question:** What is the best value for `k` when using the PCA data?\n",
    "\n",
    "  * **Answer:** 4\n",
    "#\n",
    "#\n",
    "* **Question:** Does it differ from the best k value found using the original data?\n",
    "\n",
    "  * **Answer:** No"
   ]
  },
  {
   "attachments": {},
   "cell_type": "markdown",
   "metadata": {},
   "source": [
    "### Cluster Cryptocurrencies with K-means Using the PCA Data"
   ]
  },
  {
   "cell_type": "code",
   "execution_count": 92,
   "metadata": {},
   "outputs": [],
   "source": [
    "# Initialize the K-Means model using the best value for k\n",
    "pca_k_model = KMeans(n_clusters=4)"
   ]
  },
  {
   "cell_type": "code",
   "execution_count": 93,
   "metadata": {},
   "outputs": [
    {
     "data": {
      "text/plain": [
       "KMeans(n_clusters=4)"
      ]
     },
     "execution_count": 93,
     "metadata": {},
     "output_type": "execute_result"
    }
   ],
   "source": [
    "# Fit the K-Means model using the PCA data\n",
    "pca_k_model.fit(pca_df)"
   ]
  },
  {
   "cell_type": "code",
   "execution_count": 94,
   "metadata": {},
   "outputs": [
    {
     "data": {
      "text/plain": [
       "array([0, 0, 1, 1, 0, 0, 0, 0, 0, 1, 1, 1, 1, 0, 1, 0, 1, 1, 0, 1, 1, 0,\n",
       "       1, 1, 1, 1, 1, 1, 0, 1, 1, 1, 2, 0, 1, 1, 3, 1, 1, 1, 1])"
      ]
     },
     "execution_count": 94,
     "metadata": {},
     "output_type": "execute_result"
    }
   ],
   "source": [
    "# Predict the clusters to group the cryptocurrencies using the PCA data\n",
    "pca_k_predictions = pca_k_model.predict(pca_df)\n",
    "\n",
    "# Print the resulting array of cluster values.\n",
    "pca_k_predictions"
   ]
  },
  {
   "cell_type": "code",
   "execution_count": 95,
   "metadata": {},
   "outputs": [
    {
     "data": {
      "text/html": [
       "<div>\n",
       "<style scoped>\n",
       "    .dataframe tbody tr th:only-of-type {\n",
       "        vertical-align: middle;\n",
       "    }\n",
       "\n",
       "    .dataframe tbody tr th {\n",
       "        vertical-align: top;\n",
       "    }\n",
       "\n",
       "    .dataframe thead th {\n",
       "        text-align: right;\n",
       "    }\n",
       "</style>\n",
       "<table border=\"1\" class=\"dataframe\">\n",
       "  <thead>\n",
       "    <tr style=\"text-align: right;\">\n",
       "      <th></th>\n",
       "      <th>PC1</th>\n",
       "      <th>PC2</th>\n",
       "      <th>PC3</th>\n",
       "      <th>group_id</th>\n",
       "    </tr>\n",
       "    <tr>\n",
       "      <th>coin_id</th>\n",
       "      <th></th>\n",
       "      <th></th>\n",
       "      <th></th>\n",
       "      <th></th>\n",
       "    </tr>\n",
       "  </thead>\n",
       "  <tbody>\n",
       "    <tr>\n",
       "      <th>bitcoin</th>\n",
       "      <td>2.059139</td>\n",
       "      <td>-0.536684</td>\n",
       "      <td>-0.438238</td>\n",
       "      <td>0</td>\n",
       "    </tr>\n",
       "    <tr>\n",
       "      <th>ethereum</th>\n",
       "      <td>1.956401</td>\n",
       "      <td>-0.410821</td>\n",
       "      <td>-1.016966</td>\n",
       "      <td>0</td>\n",
       "    </tr>\n",
       "    <tr>\n",
       "      <th>tether</th>\n",
       "      <td>-0.990142</td>\n",
       "      <td>-0.454228</td>\n",
       "      <td>0.690021</td>\n",
       "      <td>1</td>\n",
       "    </tr>\n",
       "    <tr>\n",
       "      <th>ripple</th>\n",
       "      <td>-0.973189</td>\n",
       "      <td>-0.494650</td>\n",
       "      <td>0.551234</td>\n",
       "      <td>1</td>\n",
       "    </tr>\n",
       "    <tr>\n",
       "      <th>bitcoin-cash</th>\n",
       "      <td>3.330367</td>\n",
       "      <td>-1.022311</td>\n",
       "      <td>-0.501341</td>\n",
       "      <td>0</td>\n",
       "    </tr>\n",
       "  </tbody>\n",
       "</table>\n",
       "</div>"
      ],
      "text/plain": [
       "                   PC1       PC2       PC3  group_id\n",
       "coin_id                                             \n",
       "bitcoin       2.059139 -0.536684 -0.438238         0\n",
       "ethereum      1.956401 -0.410821 -1.016966         0\n",
       "tether       -0.990142 -0.454228  0.690021         1\n",
       "ripple       -0.973189 -0.494650  0.551234         1\n",
       "bitcoin-cash  3.330367 -1.022311 -0.501341         0"
      ]
     },
     "execution_count": 95,
     "metadata": {},
     "output_type": "execute_result"
    }
   ],
   "source": [
    "# Create a copy of the DataFrame with the PCA data\n",
    "pca_ideal_k_df = pca_df.copy()\n",
    "\n",
    "# Add a new column to the DataFrame with the predicted clusters\n",
    "pca_ideal_k_df[\"group_id\"] = pca_k_predictions\n",
    "\n",
    "# Add Cripto names \n",
    "pca_ideal_k_df.index = trans_mkt_df.index\n",
    "\n",
    "# Change column names\n",
    "pca_ideal_k_df = pca_ideal_k_df.rename(columns = ({0:\"PC1\",1:\"PC2\",2:\"PC3\"}))\n",
    "\n",
    "# Display sample data\n",
    "pca_ideal_k_df.head()"
   ]
  },
  {
   "cell_type": "code",
   "execution_count": 96,
   "metadata": {},
   "outputs": [
    {
     "data": {},
     "metadata": {},
     "output_type": "display_data"
    },
    {
     "data": {
      "application/vnd.holoviews_exec.v0+json": "",
      "text/html": [
       "<div id='2993'>\n",
       "  <div class=\"bk-root\" id=\"5db27177-3109-4711-8430-3277b0e81eea\" data-root-id=\"2993\"></div>\n",
       "</div>\n",
       "<script type=\"application/javascript\">(function(root) {\n",
       "  function embed_document(root) {\n",
       "    var docs_json = {\"280de388-a8de-4bc5-81ee-002a56cd0757\":{\"defs\":[{\"extends\":null,\"module\":null,\"name\":\"ReactiveHTML1\",\"overrides\":[],\"properties\":[]},{\"extends\":null,\"module\":null,\"name\":\"FlexBox1\",\"overrides\":[],\"properties\":[{\"default\":\"flex-start\",\"kind\":null,\"name\":\"align_content\"},{\"default\":\"flex-start\",\"kind\":null,\"name\":\"align_items\"},{\"default\":\"row\",\"kind\":null,\"name\":\"flex_direction\"},{\"default\":\"wrap\",\"kind\":null,\"name\":\"flex_wrap\"},{\"default\":\"flex-start\",\"kind\":null,\"name\":\"justify_content\"}]},{\"extends\":null,\"module\":null,\"name\":\"GridStack1\",\"overrides\":[],\"properties\":[{\"default\":\"warn\",\"kind\":null,\"name\":\"mode\"},{\"default\":null,\"kind\":null,\"name\":\"ncols\"},{\"default\":null,\"kind\":null,\"name\":\"nrows\"},{\"default\":true,\"kind\":null,\"name\":\"allow_resize\"},{\"default\":true,\"kind\":null,\"name\":\"allow_drag\"},{\"default\":[],\"kind\":null,\"name\":\"state\"}]},{\"extends\":null,\"module\":null,\"name\":\"click1\",\"overrides\":[],\"properties\":[{\"default\":\"\",\"kind\":null,\"name\":\"terminal_output\"},{\"default\":\"\",\"kind\":null,\"name\":\"debug_name\"},{\"default\":0,\"kind\":null,\"name\":\"clears\"}]},{\"extends\":null,\"module\":null,\"name\":\"NotificationAreaBase1\",\"overrides\":[],\"properties\":[{\"default\":\"bottom-right\",\"kind\":null,\"name\":\"position\"},{\"default\":0,\"kind\":null,\"name\":\"_clear\"}]},{\"extends\":null,\"module\":null,\"name\":\"NotificationArea1\",\"overrides\":[],\"properties\":[{\"default\":[],\"kind\":null,\"name\":\"notifications\"},{\"default\":\"bottom-right\",\"kind\":null,\"name\":\"position\"},{\"default\":0,\"kind\":null,\"name\":\"_clear\"},{\"default\":[{\"background\":\"#ffc107\",\"icon\":{\"className\":\"fas fa-exclamation-triangle\",\"color\":\"white\",\"tagName\":\"i\"},\"type\":\"warning\"},{\"background\":\"#007bff\",\"icon\":{\"className\":\"fas fa-info-circle\",\"color\":\"white\",\"tagName\":\"i\"},\"type\":\"info\"}],\"kind\":null,\"name\":\"types\"}]},{\"extends\":null,\"module\":null,\"name\":\"Notification\",\"overrides\":[],\"properties\":[{\"default\":null,\"kind\":null,\"name\":\"background\"},{\"default\":3000,\"kind\":null,\"name\":\"duration\"},{\"default\":null,\"kind\":null,\"name\":\"icon\"},{\"default\":\"\",\"kind\":null,\"name\":\"message\"},{\"default\":null,\"kind\":null,\"name\":\"notification_type\"},{\"default\":false,\"kind\":null,\"name\":\"_destroyed\"}]},{\"extends\":null,\"module\":null,\"name\":\"TemplateActions1\",\"overrides\":[],\"properties\":[{\"default\":0,\"kind\":null,\"name\":\"open_modal\"},{\"default\":0,\"kind\":null,\"name\":\"close_modal\"}]},{\"extends\":null,\"module\":null,\"name\":\"MaterialTemplateActions1\",\"overrides\":[],\"properties\":[{\"default\":0,\"kind\":null,\"name\":\"open_modal\"},{\"default\":0,\"kind\":null,\"name\":\"close_modal\"}]}],\"roots\":{\"references\":[{\"attributes\":{},\"id\":\"3002\",\"type\":\"LinearScale\"},{\"attributes\":{},\"id\":\"3011\",\"type\":\"BasicTicker\"},{\"attributes\":{\"axis_label\":\"PC2\",\"coordinates\":null,\"formatter\":{\"id\":\"3044\"},\"group\":null,\"major_label_policy\":{\"id\":\"3045\"},\"ticker\":{\"id\":\"3011\"}},\"id\":\"3010\",\"type\":\"LinearAxis\"},{\"attributes\":{\"axis\":{\"id\":\"3010\"},\"coordinates\":null,\"dimension\":1,\"grid_line_color\":null,\"group\":null,\"ticker\":null},\"id\":\"3013\",\"type\":\"Grid\"},{\"attributes\":{\"callback\":null,\"renderers\":[{\"id\":\"3036\"}],\"tags\":[\"hv_created\"],\"tooltips\":[[\"PC1\",\"@{PC1}\"],[\"PC2\",\"@{PC2}\"],[\"group_id\",\"@{group_id}\"],[\"coin_id\",\"@{coin_id}\"]]},\"id\":\"2996\",\"type\":\"HoverTool\"},{\"attributes\":{},\"id\":\"3042\",\"type\":\"AllLabels\"},{\"attributes\":{\"coordinates\":null,\"data_source\":{\"id\":\"3028\"},\"glyph\":{\"id\":\"3031\"},\"group\":null,\"hover_glyph\":{\"id\":\"3034\"},\"muted_glyph\":{\"id\":\"3035\"},\"nonselection_glyph\":{\"id\":\"3032\"},\"selection_glyph\":{\"id\":\"3033\"},\"view\":{\"id\":\"3037\"}},\"id\":\"3036\",\"type\":\"GlyphRenderer\"},{\"attributes\":{\"fill_color\":{\"field\":\"color\",\"transform\":{\"id\":\"3027\"}},\"hatch_color\":{\"field\":\"color\",\"transform\":{\"id\":\"3027\"}},\"line_color\":{\"field\":\"color\",\"transform\":{\"id\":\"3027\"}},\"size\":{\"value\":5.477225575051661},\"tags\":[\"apply_ranges\"],\"x\":{\"field\":\"PC1\"},\"y\":{\"field\":\"PC2\"}},\"id\":\"3034\",\"type\":\"Scatter\"},{\"attributes\":{\"source\":{\"id\":\"3028\"}},\"id\":\"3037\",\"type\":\"CDSView\"},{\"attributes\":{\"below\":[{\"id\":\"3006\"}],\"center\":[{\"id\":\"3009\"},{\"id\":\"3013\"}],\"height\":400,\"left\":[{\"id\":\"3010\"}],\"margin\":[5,5,5,5],\"min_border_bottom\":10,\"min_border_left\":10,\"min_border_right\":10,\"min_border_top\":10,\"output_backend\":\"webgl\",\"renderers\":[{\"id\":\"3036\"}],\"right\":[{\"id\":\"3039\"}],\"sizing_mode\":\"fixed\",\"title\":{\"id\":\"2998\"},\"toolbar\":{\"id\":\"3020\"},\"width\":800,\"x_range\":{\"id\":\"2994\"},\"x_scale\":{\"id\":\"3002\"},\"y_range\":{\"id\":\"2995\"},\"y_scale\":{\"id\":\"3004\"}},\"id\":\"2997\",\"subtype\":\"Figure\",\"type\":\"Plot\"},{\"attributes\":{\"fill_color\":{\"field\":\"color\",\"transform\":{\"id\":\"3027\"}},\"hatch_color\":{\"field\":\"color\",\"transform\":{\"id\":\"3027\"}},\"line_color\":{\"field\":\"color\",\"transform\":{\"id\":\"3027\"}},\"size\":{\"value\":5.477225575051661},\"tags\":[\"apply_ranges\"],\"x\":{\"field\":\"PC1\"},\"y\":{\"field\":\"PC2\"}},\"id\":\"3033\",\"type\":\"Scatter\"},{\"attributes\":{},\"id\":\"3044\",\"type\":\"BasicTickFormatter\"},{\"attributes\":{},\"id\":\"3038\",\"type\":\"BasicTicker\"},{\"attributes\":{},\"id\":\"3045\",\"type\":\"AllLabels\"},{\"attributes\":{\"bar_line_color\":\"black\",\"color_mapper\":{\"id\":\"3027\"},\"coordinates\":null,\"group\":null,\"label_standoff\":8,\"location\":[0,0],\"major_label_policy\":{\"id\":\"3054\"},\"major_tick_line_color\":\"black\",\"ticker\":{\"id\":\"3038\"}},\"id\":\"3039\",\"type\":\"ColorBar\"},{\"attributes\":{},\"id\":\"3029\",\"type\":\"Selection\"},{\"attributes\":{},\"id\":\"3014\",\"type\":\"SaveTool\"},{\"attributes\":{},\"id\":\"3007\",\"type\":\"BasicTicker\"},{\"attributes\":{\"end\":4.671128190946977,\"reset_end\":4.671128190946977,\"reset_start\":-2.685916500722874,\"start\":-2.685916500722874,\"tags\":[[[\"PC1\",\"PC1\",null]]]},\"id\":\"2994\",\"type\":\"Range1d\"},{\"attributes\":{},\"id\":\"3015\",\"type\":\"PanTool\"},{\"attributes\":{},\"id\":\"3018\",\"type\":\"ResetTool\"},{\"attributes\":{\"fill_color\":{\"field\":\"color\",\"transform\":{\"id\":\"3027\"}},\"hatch_color\":{\"field\":\"color\",\"transform\":{\"id\":\"3027\"}},\"line_color\":{\"field\":\"color\",\"transform\":{\"id\":\"3027\"}},\"size\":{\"value\":5.477225575051661},\"tags\":[\"apply_ranges\"],\"x\":{\"field\":\"PC1\"},\"y\":{\"field\":\"PC2\"}},\"id\":\"3031\",\"type\":\"Scatter\"},{\"attributes\":{},\"id\":\"3016\",\"type\":\"WheelZoomTool\"},{\"attributes\":{\"high\":3,\"low\":0,\"palette\":[\"#b3fef5\",\"#b0fef5\",\"#adfdf5\",\"#a9fcf5\",\"#a6fbf6\",\"#a3faf6\",\"#a0faf6\",\"#9df9f6\",\"#9af8f6\",\"#97f7f6\",\"#93f7f6\",\"#90f6f6\",\"#8df5f6\",\"#8af4f7\",\"#87f3f7\",\"#83f2f7\",\"#80f2f7\",\"#7df1f7\",\"#79f0f7\",\"#76eff7\",\"#73eef7\",\"#6fedf8\",\"#6cecf8\",\"#68ecf8\",\"#65ebf8\",\"#61eaf8\",\"#5ee9f8\",\"#5ae8f8\",\"#57e7f8\",\"#53e6f8\",\"#50e5f9\",\"#4ce4f9\",\"#49e3f9\",\"#45e2f9\",\"#42e1f9\",\"#3ee0f9\",\"#3bdff9\",\"#38def9\",\"#35ddf9\",\"#32dcf9\",\"#30dbfa\",\"#2ed9fa\",\"#2dd8fa\",\"#2cd7fa\",\"#2bd6fa\",\"#2bd5fa\",\"#2ad3fa\",\"#2ad2fa\",\"#29d1fa\",\"#29d0fb\",\"#29cffb\",\"#28cdfb\",\"#28ccfb\",\"#28cbfb\",\"#28cafb\",\"#28c8fb\",\"#28c7fb\",\"#29c6fb\",\"#29c5fb\",\"#29c4fb\",\"#29c2fb\",\"#2ac1fb\",\"#2ac0fb\",\"#2bbffb\",\"#2bbdfc\",\"#2cbcfc\",\"#2dbbfc\",\"#2db9fc\",\"#2eb8fc\",\"#2fb7fc\",\"#2fb6fc\",\"#30b4fc\",\"#31b3fc\",\"#32b2fc\",\"#32b0fc\",\"#33affc\",\"#33aefc\",\"#34adfc\",\"#34abfc\",\"#34aafc\",\"#35a9fc\",\"#35a8fc\",\"#35a6fc\",\"#35a5fc\",\"#35a4fc\",\"#35a3fc\",\"#35a1fc\",\"#35a0fc\",\"#359ffc\",\"#359dfc\",\"#359cfc\",\"#359bfc\",\"#349afd\",\"#3498fd\",\"#3497fd\",\"#3396fd\",\"#3395fd\",\"#3293fd\",\"#3292fd\",\"#3191fd\",\"#3090fd\",\"#308ffd\",\"#2f8dfd\",\"#2f8cfd\",\"#2e8bfd\",\"#2e8afd\",\"#2d88fd\",\"#2d87fd\",\"#2c86fd\",\"#2c84fd\",\"#2c83fd\",\"#2c82fd\",\"#2b81fd\",\"#2b7ffd\",\"#2b7efd\",\"#2b7dfd\",\"#2b7bfd\",\"#2b7afd\",\"#2b79fd\",\"#2b77fd\",\"#2b76fd\",\"#2b75fd\",\"#2b73fd\",\"#2c72fd\",\"#2c71fd\",\"#2c6ffd\",\"#2c6efd\",\"#2d6cfd\",\"#2d6bfd\",\"#2d6afc\",\"#2e68fc\",\"#2e67fc\",\"#2e65fc\",\"#2e64fc\",\"#2f62fc\",\"#2f61fc\",\"#2f5ffc\",\"#2f5efc\",\"#2f5dfc\",\"#2f5bfc\",\"#2f5afc\",\"#2f58fb\",\"#2f57fb\",\"#2f55fb\",\"#2f53fb\",\"#2f52fb\",\"#2f50fb\",\"#2f4ffb\",\"#2f4dfb\",\"#2e4cfb\",\"#2e4afb\",\"#2e48fb\",\"#2e47fa\",\"#2d45fa\",\"#2d43fa\",\"#2d42fa\",\"#2d40fa\",\"#2c3efa\",\"#2c3dfa\",\"#2b3bf9\",\"#2b39f9\",\"#2a37f9\",\"#2a36f8\",\"#2934f8\",\"#2832f7\",\"#2831f7\",\"#272ff6\",\"#262ef5\",\"#252cf5\",\"#252af4\",\"#2429f3\",\"#2327f2\",\"#2226f1\",\"#2124f0\",\"#2023ef\",\"#1f22ee\",\"#1e20ed\",\"#1d1feb\",\"#1c1eea\",\"#1b1ce9\",\"#1a1be7\",\"#181ae6\",\"#1719e5\",\"#1618e3\",\"#1417e1\",\"#1316e0\",\"#1215de\",\"#1014dc\",\"#0f13db\",\"#0e12d9\",\"#0d11d7\",\"#0c10d5\",\"#0b0fd3\",\"#0a0ed1\",\"#090dd0\",\"#080dce\",\"#080ccc\",\"#070bca\",\"#070ac8\",\"#0709c6\",\"#0708c4\",\"#0707c2\",\"#0707bf\",\"#0806bd\",\"#0806bb\",\"#0905b9\",\"#0904b7\",\"#0a04b5\",\"#0a04b2\",\"#0b03b0\",\"#0c03ae\",\"#0d02ab\",\"#0e02a9\",\"#0e02a7\",\"#0f02a4\",\"#0f01a2\",\"#1001a0\",\"#10019d\",\"#10019b\",\"#100199\",\"#100197\",\"#100194\",\"#0f0192\",\"#0f0190\",\"#0f018e\",\"#0e018b\",\"#0e0189\",\"#0d0187\",\"#0d0185\",\"#0c0183\",\"#0b0181\",\"#0b017e\",\"#0a017c\",\"#09017a\",\"#090178\",\"#080276\",\"#070274\",\"#060272\",\"#060270\",\"#05026e\",\"#04026c\",\"#030269\",\"#030267\",\"#020265\",\"#010263\",\"#010261\",\"#00025f\",\"#00025d\",\"#00025b\",\"#000259\",\"#000257\",\"#000255\",\"#000154\",\"#000152\",\"#000150\",\"#00004e\"]},\"id\":\"3027\",\"type\":\"LinearColorMapper\"},{\"attributes\":{\"data\":{\"PC1\":{\"__ndarray__\":\"504dzB15AEDkMnEEa03/P1PPTEo9r++/3y0fbVwk77/FkwFpl6QKQHKy6xYjOARAjv97yejUBECzvXof5nECQLOuKJOaR/0/Tv1xoj9z678VBegJUYcAwGyw8zs3B/C/7spRAChb8r/Nd8JJ2/ENQL7usbuIEei/KWNvWYMA9j8yk9u5IUn+v8y8an0l0vK/flLMyhTjAkAWJ1FXzDbvv3pCfWw2CPm/ggYDhoZVAECgZFQtzGP3v/0v7hNur+2/WGIybOjn5r/Y/fy7CVvvv+bH/szXx+2/RuJDDeLPAsCaKtEw8BoAQIERxWdZ5/a/v5Xa0Kr067+PJoQwafHtvzgORq0x0AHAhSM3rGRQ+T8YKLBn0RMBwMbrPmXmNem/IYr2W8xYEUBG+7keTzkCwKbZyU1Ur+K/G/D24Pvk7r9biVp9VVbxvw==\",\"dtype\":\"float64\",\"order\":\"little\",\"shape\":[41]},\"PC2\":{\"__ndarray__\":\"o5cg4YQs4b/MSdI15krav8v86ZgREt2/R9W/J1io37/R/W80Y1vwvwb3dl+oCdu/36q2llrN2L85IsnXNPnRvyCCwvmfYOO/ZA8QCmvp6L+gdnI2tpDVvxD2zlPbcd2/x6qN1QJV579iL4erJkHOP/rK0ZRqEdq/jysggKZ66b9vAyEEzqmRv9OwHXhlH+G/Eltzjh7kzr+8eOt4jBHhvyyVkljqQNu/VmqDm6JR4b+iO7MLEaXdv18NagHBdNu/pd/W17fZ4z+vQB6szhzevyj/Mq7mhOm/qa3Z3/Z/5b/5KmdGNgTYv7ZVRU2NNAVAs5qF6vCc5L8ay8wgvWvjv8c9ovDnkh9ABJZg8z8R179uMLzZTr7nPztKCTmp3r0/6ijWh5eCFED8OE2ZhRXov9bEeeo8KOO/CvVn7DmQ3r/6OXYbfZvUvw==\",\"dtype\":\"float64\",\"order\":\"little\",\"shape\":[41]},\"coin_id\":[\"bitcoin\",\"ethereum\",\"tether\",\"ripple\",\"bitcoin-cash\",\"binancecoin\",\"chainlink\",\"cardano\",\"litecoin\",\"bitcoin-cash-sv\",\"crypto-com-chain\",\"usd-coin\",\"eos\",\"monero\",\"tron\",\"tezos\",\"okb\",\"stellar\",\"cosmos\",\"cdai\",\"neo\",\"wrapped-bitcoin\",\"leo-token\",\"huobi-token\",\"nem\",\"binance-usd\",\"iota\",\"vechain\",\"zcash\",\"theta-token\",\"dash\",\"ethereum-classic\",\"ethlend\",\"maker\",\"havven\",\"omisego\",\"celsius-degree-token\",\"ontology\",\"ftx-token\",\"true-usd\",\"digibyte\"],\"color\":{\"__ndarray__\":\"AAAAAAAAAAABAAAAAQAAAAAAAAAAAAAAAAAAAAAAAAAAAAAAAQAAAAEAAAABAAAAAQAAAAAAAAABAAAAAAAAAAEAAAABAAAAAAAAAAEAAAABAAAAAAAAAAEAAAABAAAAAQAAAAEAAAABAAAAAQAAAAAAAAABAAAAAQAAAAEAAAACAAAAAAAAAAEAAAABAAAAAwAAAAEAAAABAAAAAQAAAAEAAAA=\",\"dtype\":\"int32\",\"order\":\"little\",\"shape\":[41]},\"group_id\":{\"__ndarray__\":\"AAAAAAAAAAABAAAAAQAAAAAAAAAAAAAAAAAAAAAAAAAAAAAAAQAAAAEAAAABAAAAAQAAAAAAAAABAAAAAAAAAAEAAAABAAAAAAAAAAEAAAABAAAAAAAAAAEAAAABAAAAAQAAAAEAAAABAAAAAQAAAAAAAAABAAAAAQAAAAEAAAACAAAAAAAAAAEAAAABAAAAAwAAAAEAAAABAAAAAQAAAAEAAAA=\",\"dtype\":\"int32\",\"order\":\"little\",\"shape\":[41]}},\"selected\":{\"id\":\"3029\"},\"selection_policy\":{\"id\":\"3058\"}},\"id\":\"3028\",\"type\":\"ColumnDataSource\"},{\"attributes\":{\"overlay\":{\"id\":\"3019\"}},\"id\":\"3017\",\"type\":\"BoxZoomTool\"},{\"attributes\":{\"fill_alpha\":{\"value\":0.2},\"fill_color\":{\"field\":\"color\",\"transform\":{\"id\":\"3027\"}},\"hatch_alpha\":{\"value\":0.2},\"hatch_color\":{\"field\":\"color\",\"transform\":{\"id\":\"3027\"}},\"line_alpha\":{\"value\":0.2},\"line_color\":{\"field\":\"color\",\"transform\":{\"id\":\"3027\"}},\"size\":{\"value\":5.477225575051661},\"tags\":[\"apply_ranges\"],\"x\":{\"field\":\"PC1\"},\"y\":{\"field\":\"PC2\"}},\"id\":\"3035\",\"type\":\"Scatter\"},{\"attributes\":{\"end\":8.785040336967517,\"reset_end\":8.785040336967517,\"reset_start\":-1.9138888371538947,\"start\":-1.9138888371538947,\"tags\":[[[\"PC2\",\"PC2\",null]]]},\"id\":\"2995\",\"type\":\"Range1d\"},{\"attributes\":{\"coordinates\":null,\"group\":null,\"text_color\":\"black\",\"text_font_size\":\"12pt\"},\"id\":\"2998\",\"type\":\"Title\"},{\"attributes\":{\"fill_alpha\":{\"value\":0.1},\"fill_color\":{\"field\":\"color\",\"transform\":{\"id\":\"3027\"}},\"hatch_alpha\":{\"value\":0.1},\"hatch_color\":{\"field\":\"color\",\"transform\":{\"id\":\"3027\"}},\"line_alpha\":{\"value\":0.1},\"line_color\":{\"field\":\"color\",\"transform\":{\"id\":\"3027\"}},\"size\":{\"value\":5.477225575051661},\"tags\":[\"apply_ranges\"],\"x\":{\"field\":\"PC1\"},\"y\":{\"field\":\"PC2\"}},\"id\":\"3032\",\"type\":\"Scatter\"},{\"attributes\":{\"active_drag\":{\"id\":\"3015\"},\"active_scroll\":{\"id\":\"3016\"},\"tools\":[{\"id\":\"2996\"},{\"id\":\"3014\"},{\"id\":\"3015\"},{\"id\":\"3016\"},{\"id\":\"3017\"},{\"id\":\"3018\"}]},\"id\":\"3020\",\"type\":\"Toolbar\"},{\"attributes\":{\"axis\":{\"id\":\"3006\"},\"coordinates\":null,\"grid_line_color\":null,\"group\":null,\"ticker\":null},\"id\":\"3009\",\"type\":\"Grid\"},{\"attributes\":{},\"id\":\"3041\",\"type\":\"BasicTickFormatter\"},{\"attributes\":{},\"id\":\"3004\",\"type\":\"LinearScale\"},{\"attributes\":{},\"id\":\"3054\",\"type\":\"NoOverlap\"},{\"attributes\":{\"children\":[{\"id\":\"2997\"}],\"height\":400,\"margin\":[0,0,0,0],\"name\":\"Row02983\",\"sizing_mode\":\"fixed\",\"tags\":[\"embedded\"],\"width\":800},\"id\":\"2993\",\"type\":\"Row\"},{\"attributes\":{},\"id\":\"3058\",\"type\":\"UnionRenderers\"},{\"attributes\":{\"bottom_units\":\"screen\",\"coordinates\":null,\"fill_alpha\":0.5,\"fill_color\":\"lightgrey\",\"group\":null,\"left_units\":\"screen\",\"level\":\"overlay\",\"line_alpha\":1.0,\"line_color\":\"black\",\"line_dash\":[4,4],\"line_width\":2,\"right_units\":\"screen\",\"syncable\":false,\"top_units\":\"screen\"},\"id\":\"3019\",\"type\":\"BoxAnnotation\"},{\"attributes\":{\"axis_label\":\"PC1\",\"coordinates\":null,\"formatter\":{\"id\":\"3041\"},\"group\":null,\"major_label_policy\":{\"id\":\"3042\"},\"ticker\":{\"id\":\"3007\"}},\"id\":\"3006\",\"type\":\"LinearAxis\"}],\"root_ids\":[\"2993\"]},\"title\":\"Bokeh Application\",\"version\":\"2.4.3\"}};\n",
       "    var render_items = [{\"docid\":\"280de388-a8de-4bc5-81ee-002a56cd0757\",\"root_ids\":[\"2993\"],\"roots\":{\"2993\":\"5db27177-3109-4711-8430-3277b0e81eea\"}}];\n",
       "    root.Bokeh.embed.embed_items_notebook(docs_json, render_items);\n",
       "    for (const render_item of render_items) {\n",
       "      for (const root_id of render_item.root_ids) {\n",
       "\tconst id_el = document.getElementById(root_id)\n",
       "\tif (id_el.children.length && (id_el.children[0].className === 'bk-root')) {\n",
       "\t  const root_el = id_el.children[0]\n",
       "\t  root_el.id = root_el.id + '-rendered'\n",
       "\t}\n",
       "      }\n",
       "    }\n",
       "  }\n",
       "  if (root.Bokeh !== undefined && root.Bokeh.Panel !== undefined) {\n",
       "    embed_document(root);\n",
       "  } else {\n",
       "    var attempts = 0;\n",
       "    var timer = setInterval(function(root) {\n",
       "      if (root.Bokeh !== undefined && root.Bokeh.Panel !== undefined) {\n",
       "        clearInterval(timer);\n",
       "        embed_document(root);\n",
       "      } else if (document.readyState == \"complete\") {\n",
       "        attempts++;\n",
       "        if (attempts > 200) {\n",
       "          clearInterval(timer);\n",
       "          console.log(\"Bokeh: ERROR: Unable to run BokehJS code because BokehJS library is missing\");\n",
       "        }\n",
       "      }\n",
       "    }, 25, root)\n",
       "  }\n",
       "})(window);</script>"
      ],
      "text/plain": [
       ":Scatter   [PC1]   (PC2,group_id,coin_id)"
      ]
     },
     "execution_count": 96,
     "metadata": {
      "application/vnd.holoviews_exec.v0+json": {
       "id": "2993"
      }
     },
     "output_type": "execute_result"
    }
   ],
   "source": [
    "# Create a scatter plot using hvPlot by setting \n",
    "pca_ideal_k_df.hvplot.scatter(\n",
    "    # `x=\"PC1\"` and `y=\"PC2\"`. \n",
    "    x = \"PC1\",\n",
    "    y = \"PC2\",\n",
    "    # Color the graph points with the labels found using K-Means and \n",
    "    c = \"group_id\",\n",
    "    # add the crypto name in the `hover_cols` parameter to identify the cryptocurrency represented by each data point.\n",
    "    hover_cols = \"coin_id\",\n",
    "    width=800,\n",
    "    height=400,\n",
    ")"
   ]
  },
  {
   "attachments": {},
   "cell_type": "markdown",
   "metadata": {},
   "source": [
    "### Visualize and Compare the Results\n",
    "\n",
    "In this section, you will visually analyze the cluster analysis results by contrasting the outcome with and without using the optimization techniques."
   ]
  },
  {
   "cell_type": "code",
   "execution_count": 105,
   "metadata": {},
   "outputs": [
    {
     "data": {},
     "metadata": {},
     "output_type": "display_data"
    },
    {
     "data": {
      "application/vnd.holoviews_exec.v0+json": "",
      "text/html": [
       "<div id='4101'>\n",
       "  <div class=\"bk-root\" id=\"c42b64d2-065b-4a64-9981-a53f69bb3787\" data-root-id=\"4101\"></div>\n",
       "</div>\n",
       "<script type=\"application/javascript\">(function(root) {\n",
       "  function embed_document(root) {\n",
       "    var docs_json = {\"a22174fe-ad17-42a8-a7b7-3ff1bee08ce7\":{\"defs\":[{\"extends\":null,\"module\":null,\"name\":\"ReactiveHTML1\",\"overrides\":[],\"properties\":[]},{\"extends\":null,\"module\":null,\"name\":\"FlexBox1\",\"overrides\":[],\"properties\":[{\"default\":\"flex-start\",\"kind\":null,\"name\":\"align_content\"},{\"default\":\"flex-start\",\"kind\":null,\"name\":\"align_items\"},{\"default\":\"row\",\"kind\":null,\"name\":\"flex_direction\"},{\"default\":\"wrap\",\"kind\":null,\"name\":\"flex_wrap\"},{\"default\":\"flex-start\",\"kind\":null,\"name\":\"justify_content\"}]},{\"extends\":null,\"module\":null,\"name\":\"GridStack1\",\"overrides\":[],\"properties\":[{\"default\":\"warn\",\"kind\":null,\"name\":\"mode\"},{\"default\":null,\"kind\":null,\"name\":\"ncols\"},{\"default\":null,\"kind\":null,\"name\":\"nrows\"},{\"default\":true,\"kind\":null,\"name\":\"allow_resize\"},{\"default\":true,\"kind\":null,\"name\":\"allow_drag\"},{\"default\":[],\"kind\":null,\"name\":\"state\"}]},{\"extends\":null,\"module\":null,\"name\":\"click1\",\"overrides\":[],\"properties\":[{\"default\":\"\",\"kind\":null,\"name\":\"terminal_output\"},{\"default\":\"\",\"kind\":null,\"name\":\"debug_name\"},{\"default\":0,\"kind\":null,\"name\":\"clears\"}]},{\"extends\":null,\"module\":null,\"name\":\"NotificationAreaBase1\",\"overrides\":[],\"properties\":[{\"default\":\"bottom-right\",\"kind\":null,\"name\":\"position\"},{\"default\":0,\"kind\":null,\"name\":\"_clear\"}]},{\"extends\":null,\"module\":null,\"name\":\"NotificationArea1\",\"overrides\":[],\"properties\":[{\"default\":[],\"kind\":null,\"name\":\"notifications\"},{\"default\":\"bottom-right\",\"kind\":null,\"name\":\"position\"},{\"default\":0,\"kind\":null,\"name\":\"_clear\"},{\"default\":[{\"background\":\"#ffc107\",\"icon\":{\"className\":\"fas fa-exclamation-triangle\",\"color\":\"white\",\"tagName\":\"i\"},\"type\":\"warning\"},{\"background\":\"#007bff\",\"icon\":{\"className\":\"fas fa-info-circle\",\"color\":\"white\",\"tagName\":\"i\"},\"type\":\"info\"}],\"kind\":null,\"name\":\"types\"}]},{\"extends\":null,\"module\":null,\"name\":\"Notification\",\"overrides\":[],\"properties\":[{\"default\":null,\"kind\":null,\"name\":\"background\"},{\"default\":3000,\"kind\":null,\"name\":\"duration\"},{\"default\":null,\"kind\":null,\"name\":\"icon\"},{\"default\":\"\",\"kind\":null,\"name\":\"message\"},{\"default\":null,\"kind\":null,\"name\":\"notification_type\"},{\"default\":false,\"kind\":null,\"name\":\"_destroyed\"}]},{\"extends\":null,\"module\":null,\"name\":\"TemplateActions1\",\"overrides\":[],\"properties\":[{\"default\":0,\"kind\":null,\"name\":\"open_modal\"},{\"default\":0,\"kind\":null,\"name\":\"close_modal\"}]},{\"extends\":null,\"module\":null,\"name\":\"MaterialTemplateActions1\",\"overrides\":[],\"properties\":[{\"default\":0,\"kind\":null,\"name\":\"open_modal\"},{\"default\":0,\"kind\":null,\"name\":\"close_modal\"}]}],\"roots\":{\"references\":[{\"attributes\":{},\"id\":\"4176\",\"type\":\"ResetTool\"},{\"attributes\":{\"coordinates\":null,\"group\":null,\"text\":\"With PCA\",\"text_color\":\"black\",\"text_font_size\":\"12pt\"},\"id\":\"4106\",\"type\":\"Title\"},{\"attributes\":{},\"id\":\"4149\",\"type\":\"AllLabels\"},{\"attributes\":{\"coordinates\":null,\"group\":null,\"text\":\"Without PCA\",\"text_color\":\"black\",\"text_font_size\":\"12pt\"},\"id\":\"4156\",\"type\":\"Title\"},{\"attributes\":{\"active_drag\":{\"id\":\"4173\"},\"active_scroll\":{\"id\":\"4174\"},\"tools\":[{\"id\":\"4154\"},{\"id\":\"4172\"},{\"id\":\"4173\"},{\"id\":\"4174\"},{\"id\":\"4175\"},{\"id\":\"4176\"}]},\"id\":\"4178\",\"type\":\"Toolbar\"},{\"attributes\":{\"below\":[{\"id\":\"4114\"}],\"center\":[{\"id\":\"4117\"},{\"id\":\"4121\"}],\"height\":400,\"left\":[{\"id\":\"4118\"}],\"margin\":null,\"min_border_bottom\":10,\"min_border_left\":10,\"min_border_right\":10,\"min_border_top\":10,\"output_backend\":\"webgl\",\"renderers\":[{\"id\":\"4141\"}],\"sizing_mode\":\"fixed\",\"title\":{\"id\":\"4106\"},\"toolbar\":{\"id\":\"4128\"},\"toolbar_location\":null,\"x_range\":{\"id\":\"4102\"},\"x_scale\":{\"id\":\"4110\"},\"y_range\":{\"id\":\"4103\"},\"y_scale\":{\"id\":\"4112\"}},\"id\":\"4105\",\"subtype\":\"Figure\",\"type\":\"Plot\"},{\"attributes\":{\"bottom_units\":\"screen\",\"coordinates\":null,\"fill_alpha\":0.5,\"fill_color\":\"lightgrey\",\"group\":null,\"left_units\":\"screen\",\"level\":\"overlay\",\"line_alpha\":1.0,\"line_color\":\"black\",\"line_dash\":[4,4],\"line_width\":2,\"right_units\":\"screen\",\"syncable\":false,\"top_units\":\"screen\"},\"id\":\"4177\",\"type\":\"BoxAnnotation\"},{\"attributes\":{\"line_alpha\":0.2,\"line_color\":\"#30a2da\",\"line_width\":2,\"tags\":[\"apply_ranges\"],\"x\":{\"field\":\"k\"},\"y\":{\"field\":\"inirtia\"}},\"id\":\"4140\",\"type\":\"Line\"},{\"attributes\":{},\"id\":\"4146\",\"type\":\"AllLabels\"},{\"attributes\":{},\"id\":\"4115\",\"type\":\"BasicTicker\"},{\"attributes\":{\"line_color\":\"#30a2da\",\"line_width\":2,\"tags\":[\"apply_ranges\"],\"x\":{\"field\":\"k\"},\"y\":{\"field\":\"inirtia\"}},\"id\":\"4193\",\"type\":\"Line\"},{\"attributes\":{\"axis\":{\"id\":\"4114\"},\"coordinates\":null,\"grid_line_color\":null,\"group\":null,\"ticker\":null},\"id\":\"4117\",\"type\":\"Grid\"},{\"attributes\":{},\"id\":\"4198\",\"type\":\"BasicTickFormatter\"},{\"attributes\":{\"below\":[{\"id\":\"4164\"}],\"center\":[{\"id\":\"4167\"},{\"id\":\"4171\"}],\"height\":400,\"left\":[{\"id\":\"4168\"}],\"margin\":null,\"min_border_bottom\":10,\"min_border_left\":10,\"min_border_right\":10,\"min_border_top\":10,\"output_backend\":\"webgl\",\"renderers\":[{\"id\":\"4191\"}],\"sizing_mode\":\"fixed\",\"title\":{\"id\":\"4156\"},\"toolbar\":{\"id\":\"4178\"},\"toolbar_location\":null,\"x_range\":{\"id\":\"4102\"},\"x_scale\":{\"id\":\"4160\"},\"y_range\":{\"id\":\"4103\"},\"y_scale\":{\"id\":\"4162\"}},\"id\":\"4155\",\"subtype\":\"Figure\",\"type\":\"Plot\"},{\"attributes\":{},\"id\":\"4199\",\"type\":\"AllLabels\"},{\"attributes\":{\"toolbars\":[{\"id\":\"4128\"},{\"id\":\"4178\"}],\"tools\":[{\"id\":\"4104\"},{\"id\":\"4122\"},{\"id\":\"4123\"},{\"id\":\"4124\"},{\"id\":\"4125\"},{\"id\":\"4126\"},{\"id\":\"4154\"},{\"id\":\"4172\"},{\"id\":\"4173\"},{\"id\":\"4174\"},{\"id\":\"4175\"},{\"id\":\"4176\"}]},\"id\":\"4229\",\"type\":\"ProxyToolbar\"},{\"attributes\":{},\"id\":\"4119\",\"type\":\"BasicTicker\"},{\"attributes\":{},\"id\":\"4145\",\"type\":\"BasicTickFormatter\"},{\"attributes\":{},\"id\":\"4112\",\"type\":\"LinearScale\"},{\"attributes\":{},\"id\":\"4224\",\"type\":\"UnionRenderers\"},{\"attributes\":{\"toolbar\":{\"id\":\"4229\"},\"toolbar_location\":\"above\"},\"id\":\"4230\",\"type\":\"ToolbarBox\"},{\"attributes\":{\"axis_label\":\"inirtia\",\"coordinates\":null,\"formatter\":{\"id\":\"4148\"},\"group\":null,\"major_label_policy\":{\"id\":\"4149\"},\"ticker\":{\"id\":\"4119\"}},\"id\":\"4118\",\"type\":\"LinearAxis\"},{\"attributes\":{\"axis_label\":\"k\",\"coordinates\":null,\"formatter\":{\"id\":\"4145\"},\"group\":null,\"major_label_policy\":{\"id\":\"4146\"},\"ticker\":{\"id\":\"4115\"}},\"id\":\"4114\",\"type\":\"LinearAxis\"},{\"attributes\":{\"callback\":null,\"renderers\":[{\"id\":\"4141\"}],\"tags\":[\"hv_created\"],\"tooltips\":[[\"k\",\"@{k}\"],[\"inirtia\",\"@{inirtia}\"]]},\"id\":\"4104\",\"type\":\"HoverTool\"},{\"attributes\":{\"line_color\":\"#30a2da\",\"line_width\":2,\"tags\":[\"apply_ranges\"],\"x\":{\"field\":\"k\"},\"y\":{\"field\":\"inirtia\"}},\"id\":\"4143\",\"type\":\"Line\"},{\"attributes\":{\"end\":10.0,\"reset_end\":10.0,\"reset_start\":1.0,\"start\":1.0,\"tags\":[[[\"k\",\"k\",null]]]},\"id\":\"4102\",\"type\":\"Range1d\"},{\"attributes\":{},\"id\":\"4195\",\"type\":\"BasicTickFormatter\"},{\"attributes\":{},\"id\":\"4213\",\"type\":\"UnionRenderers\"},{\"attributes\":{\"axis\":{\"id\":\"4118\"},\"coordinates\":null,\"dimension\":1,\"grid_line_color\":null,\"group\":null,\"ticker\":null},\"id\":\"4121\",\"type\":\"Grid\"},{\"attributes\":{\"coordinates\":null,\"data_source\":{\"id\":\"4135\"},\"glyph\":{\"id\":\"4138\"},\"group\":null,\"hover_glyph\":null,\"muted_glyph\":{\"id\":\"4140\"},\"nonselection_glyph\":{\"id\":\"4139\"},\"selection_glyph\":{\"id\":\"4143\"},\"view\":{\"id\":\"4142\"}},\"id\":\"4141\",\"type\":\"GlyphRenderer\"},{\"attributes\":{},\"id\":\"4196\",\"type\":\"AllLabels\"},{\"attributes\":{\"axis_label\":\"k\",\"coordinates\":null,\"formatter\":{\"id\":\"4195\"},\"group\":null,\"major_label_policy\":{\"id\":\"4196\"},\"ticker\":{\"id\":\"4165\"}},\"id\":\"4164\",\"type\":\"LinearAxis\"},{\"attributes\":{},\"id\":\"4110\",\"type\":\"LinearScale\"},{\"attributes\":{\"source\":{\"id\":\"4135\"}},\"id\":\"4142\",\"type\":\"CDSView\"},{\"attributes\":{},\"id\":\"4186\",\"type\":\"Selection\"},{\"attributes\":{\"axis\":{\"id\":\"4164\"},\"coordinates\":null,\"grid_line_color\":null,\"group\":null,\"ticker\":null},\"id\":\"4167\",\"type\":\"Grid\"},{\"attributes\":{\"axis_label\":\"inirtia\",\"coordinates\":null,\"formatter\":{\"id\":\"4198\"},\"group\":null,\"major_label_policy\":{\"id\":\"4199\"},\"ticker\":{\"id\":\"4169\"}},\"id\":\"4168\",\"type\":\"LinearAxis\"},{\"attributes\":{\"line_color\":\"#30a2da\",\"line_width\":2,\"tags\":[\"apply_ranges\"],\"x\":{\"field\":\"k\"},\"y\":{\"field\":\"inirtia\"}},\"id\":\"4138\",\"type\":\"Line\"},{\"attributes\":{\"line_alpha\":0.1,\"line_color\":\"#30a2da\",\"line_width\":2,\"tags\":[\"apply_ranges\"],\"x\":{\"field\":\"k\"},\"y\":{\"field\":\"inirtia\"}},\"id\":\"4139\",\"type\":\"Line\"},{\"attributes\":{},\"id\":\"4162\",\"type\":\"LinearScale\"},{\"attributes\":{\"children\":[[{\"id\":\"4105\"},0,0],[{\"id\":\"4155\"},0,1]]},\"id\":\"4228\",\"type\":\"GridBox\"},{\"attributes\":{},\"id\":\"4122\",\"type\":\"SaveTool\"},{\"attributes\":{},\"id\":\"4169\",\"type\":\"BasicTicker\"},{\"attributes\":{},\"id\":\"4123\",\"type\":\"PanTool\"},{\"attributes\":{},\"id\":\"4165\",\"type\":\"BasicTicker\"},{\"attributes\":{},\"id\":\"4126\",\"type\":\"ResetTool\"},{\"attributes\":{},\"id\":\"4124\",\"type\":\"WheelZoomTool\"},{\"attributes\":{\"source\":{\"id\":\"4185\"}},\"id\":\"4192\",\"type\":\"CDSView\"},{\"attributes\":{\"overlay\":{\"id\":\"4127\"}},\"id\":\"4125\",\"type\":\"BoxZoomTool\"},{\"attributes\":{\"axis\":{\"id\":\"4168\"},\"coordinates\":null,\"dimension\":1,\"grid_line_color\":null,\"group\":null,\"ticker\":null},\"id\":\"4171\",\"type\":\"Grid\"},{\"attributes\":{\"children\":[{\"id\":\"4230\"},{\"id\":\"4228\"}]},\"id\":\"4231\",\"type\":\"Column\"},{\"attributes\":{\"coordinates\":null,\"data_source\":{\"id\":\"4185\"},\"glyph\":{\"id\":\"4188\"},\"group\":null,\"hover_glyph\":null,\"muted_glyph\":{\"id\":\"4190\"},\"nonselection_glyph\":{\"id\":\"4189\"},\"selection_glyph\":{\"id\":\"4193\"},\"view\":{\"id\":\"4192\"}},\"id\":\"4191\",\"type\":\"GlyphRenderer\"},{\"attributes\":{\"data\":{\"inirtia\":{\"__ndarray__\":\"///////vcUByhzI6P3poQN+RvNowzF5AFu6ulG/BU0Cc2V8YMQhQQJw0ZH43akpAwp/AthE0RkDebNlHMLpCQPp3AM5mYkBAwPFtXsVVPEA=\",\"dtype\":\"float64\",\"order\":\"little\",\"shape\":[10]},\"k\":[1,2,3,4,5,6,7,8,9,10]},\"selected\":{\"id\":\"4186\"},\"selection_policy\":{\"id\":\"4224\"}},\"id\":\"4185\",\"type\":\"ColumnDataSource\"},{\"attributes\":{},\"id\":\"4136\",\"type\":\"Selection\"},{\"attributes\":{\"data\":{\"inirtia\":{\"__ndarray__\":\"JZ/15ohWdEC9hG4d62loQChDqmWLKltA7sH1whDxQ0Co4JE8evw8QMSe5x9dQzVAZ+Znr0YFMEDcschTcTMpQEVBYlI5ICRA8mmNCD5FIEA=\",\"dtype\":\"float64\",\"order\":\"little\",\"shape\":[10]},\"k\":[1,2,3,4,5,6,7,8,9,10]},\"selected\":{\"id\":\"4136\"},\"selection_policy\":{\"id\":\"4213\"}},\"id\":\"4135\",\"type\":\"ColumnDataSource\"},{\"attributes\":{\"line_color\":\"#30a2da\",\"line_width\":2,\"tags\":[\"apply_ranges\"],\"x\":{\"field\":\"k\"},\"y\":{\"field\":\"inirtia\"}},\"id\":\"4188\",\"type\":\"Line\"},{\"attributes\":{\"active_drag\":{\"id\":\"4123\"},\"active_scroll\":{\"id\":\"4124\"},\"tools\":[{\"id\":\"4104\"},{\"id\":\"4122\"},{\"id\":\"4123\"},{\"id\":\"4124\"},{\"id\":\"4125\"},{\"id\":\"4126\"}]},\"id\":\"4128\",\"type\":\"Toolbar\"},{\"attributes\":{\"line_alpha\":0.1,\"line_color\":\"#30a2da\",\"line_width\":2,\"tags\":[\"apply_ranges\"],\"x\":{\"field\":\"k\"},\"y\":{\"field\":\"inirtia\"}},\"id\":\"4189\",\"type\":\"Line\"},{\"attributes\":{\"line_alpha\":0.2,\"line_color\":\"#30a2da\",\"line_width\":2,\"tags\":[\"apply_ranges\"],\"x\":{\"field\":\"k\"},\"y\":{\"field\":\"inirtia\"}},\"id\":\"4190\",\"type\":\"Line\"},{\"attributes\":{\"bottom_units\":\"screen\",\"coordinates\":null,\"fill_alpha\":0.5,\"fill_color\":\"lightgrey\",\"group\":null,\"left_units\":\"screen\",\"level\":\"overlay\",\"line_alpha\":1.0,\"line_color\":\"black\",\"line_dash\":[4,4],\"line_width\":2,\"right_units\":\"screen\",\"syncable\":false,\"top_units\":\"screen\"},\"id\":\"4127\",\"type\":\"BoxAnnotation\"},{\"attributes\":{},\"id\":\"4172\",\"type\":\"SaveTool\"},{\"attributes\":{\"end\":357.135741833381,\"reset_end\":357.135741833381,\"reset_start\":-23.592079545933995,\"start\":-23.592079545933995,\"tags\":[[[\"inirtia\",\"inirtia\",null]]]},\"id\":\"4103\",\"type\":\"Range1d\"},{\"attributes\":{},\"id\":\"4173\",\"type\":\"PanTool\"},{\"attributes\":{\"callback\":null,\"renderers\":[{\"id\":\"4191\"}],\"tags\":[\"hv_created\"],\"tooltips\":[[\"k\",\"@{k}\"],[\"inirtia\",\"@{inirtia}\"]]},\"id\":\"4154\",\"type\":\"HoverTool\"},{\"attributes\":{\"children\":[{\"id\":\"4231\"}],\"margin\":[0,0,0,0],\"name\":\"Row04265\",\"tags\":[\"embedded\"]},\"id\":\"4101\",\"type\":\"Row\"},{\"attributes\":{},\"id\":\"4174\",\"type\":\"WheelZoomTool\"},{\"attributes\":{},\"id\":\"4160\",\"type\":\"LinearScale\"},{\"attributes\":{},\"id\":\"4148\",\"type\":\"BasicTickFormatter\"},{\"attributes\":{\"overlay\":{\"id\":\"4177\"}},\"id\":\"4175\",\"type\":\"BoxZoomTool\"}],\"root_ids\":[\"4101\"]},\"title\":\"Bokeh Application\",\"version\":\"2.4.3\"}};\n",
       "    var render_items = [{\"docid\":\"a22174fe-ad17-42a8-a7b7-3ff1bee08ce7\",\"root_ids\":[\"4101\"],\"roots\":{\"4101\":\"c42b64d2-065b-4a64-9981-a53f69bb3787\"}}];\n",
       "    root.Bokeh.embed.embed_items_notebook(docs_json, render_items);\n",
       "    for (const render_item of render_items) {\n",
       "      for (const root_id of render_item.root_ids) {\n",
       "\tconst id_el = document.getElementById(root_id)\n",
       "\tif (id_el.children.length && (id_el.children[0].className === 'bk-root')) {\n",
       "\t  const root_el = id_el.children[0]\n",
       "\t  root_el.id = root_el.id + '-rendered'\n",
       "\t}\n",
       "      }\n",
       "    }\n",
       "  }\n",
       "  if (root.Bokeh !== undefined && root.Bokeh.Panel !== undefined) {\n",
       "    embed_document(root);\n",
       "  } else {\n",
       "    var attempts = 0;\n",
       "    var timer = setInterval(function(root) {\n",
       "      if (root.Bokeh !== undefined && root.Bokeh.Panel !== undefined) {\n",
       "        clearInterval(timer);\n",
       "        embed_document(root);\n",
       "      } else if (document.readyState == \"complete\") {\n",
       "        attempts++;\n",
       "        if (attempts > 200) {\n",
       "          clearInterval(timer);\n",
       "          console.log(\"Bokeh: ERROR: Unable to run BokehJS code because BokehJS library is missing\");\n",
       "        }\n",
       "      }\n",
       "    }, 25, root)\n",
       "  }\n",
       "})(window);</script>"
      ],
      "text/plain": [
       ":Layout\n",
       "   .Curve.I  :Curve   [k]   (inirtia)\n",
       "   .Curve.II :Curve   [k]   (inirtia)"
      ]
     },
     "execution_count": 105,
     "metadata": {
      "application/vnd.holoviews_exec.v0+json": {
       "id": "4101"
      }
     },
     "output_type": "execute_result"
    }
   ],
   "source": [
    "# Composite plot to contrast the Elbow curves\n",
    "pca_elbow = pca_k_df.hvplot.line(\n",
    "    x = \"k\",\n",
    "    y = \"inirtia\",\n",
    "    title = \"With PCA\",\n",
    "    width=600,\n",
    "    height=400,\n",
    ")\n",
    "\n",
    "non_pca_elbow = k_df.hvplot.line(\n",
    "    x = \"k\",\n",
    "    y = \"inirtia\",\n",
    "    title = \"Without PCA\",\n",
    "    width=600,\n",
    "    height=400,\n",
    ")\n",
    "\n",
    "combined_elbows = pca_elbow+non_pca_elbow\n",
    "combined_elbows"
   ]
  },
  {
   "cell_type": "code",
   "execution_count": 106,
   "metadata": {},
   "outputs": [
    {
     "data": {},
     "metadata": {},
     "output_type": "display_data"
    },
    {
     "data": {
      "application/vnd.holoviews_exec.v0+json": "",
      "text/html": [
       "<div id='4353'>\n",
       "  <div class=\"bk-root\" id=\"aa191dcb-d74a-41a6-b180-9da9cb1486a4\" data-root-id=\"4353\"></div>\n",
       "</div>\n",
       "<script type=\"application/javascript\">(function(root) {\n",
       "  function embed_document(root) {\n",
       "    var docs_json = {\"717ef399-79f5-4a14-806b-9a583369658c\":{\"defs\":[{\"extends\":null,\"module\":null,\"name\":\"ReactiveHTML1\",\"overrides\":[],\"properties\":[]},{\"extends\":null,\"module\":null,\"name\":\"FlexBox1\",\"overrides\":[],\"properties\":[{\"default\":\"flex-start\",\"kind\":null,\"name\":\"align_content\"},{\"default\":\"flex-start\",\"kind\":null,\"name\":\"align_items\"},{\"default\":\"row\",\"kind\":null,\"name\":\"flex_direction\"},{\"default\":\"wrap\",\"kind\":null,\"name\":\"flex_wrap\"},{\"default\":\"flex-start\",\"kind\":null,\"name\":\"justify_content\"}]},{\"extends\":null,\"module\":null,\"name\":\"GridStack1\",\"overrides\":[],\"properties\":[{\"default\":\"warn\",\"kind\":null,\"name\":\"mode\"},{\"default\":null,\"kind\":null,\"name\":\"ncols\"},{\"default\":null,\"kind\":null,\"name\":\"nrows\"},{\"default\":true,\"kind\":null,\"name\":\"allow_resize\"},{\"default\":true,\"kind\":null,\"name\":\"allow_drag\"},{\"default\":[],\"kind\":null,\"name\":\"state\"}]},{\"extends\":null,\"module\":null,\"name\":\"click1\",\"overrides\":[],\"properties\":[{\"default\":\"\",\"kind\":null,\"name\":\"terminal_output\"},{\"default\":\"\",\"kind\":null,\"name\":\"debug_name\"},{\"default\":0,\"kind\":null,\"name\":\"clears\"}]},{\"extends\":null,\"module\":null,\"name\":\"NotificationAreaBase1\",\"overrides\":[],\"properties\":[{\"default\":\"bottom-right\",\"kind\":null,\"name\":\"position\"},{\"default\":0,\"kind\":null,\"name\":\"_clear\"}]},{\"extends\":null,\"module\":null,\"name\":\"NotificationArea1\",\"overrides\":[],\"properties\":[{\"default\":[],\"kind\":null,\"name\":\"notifications\"},{\"default\":\"bottom-right\",\"kind\":null,\"name\":\"position\"},{\"default\":0,\"kind\":null,\"name\":\"_clear\"},{\"default\":[{\"background\":\"#ffc107\",\"icon\":{\"className\":\"fas fa-exclamation-triangle\",\"color\":\"white\",\"tagName\":\"i\"},\"type\":\"warning\"},{\"background\":\"#007bff\",\"icon\":{\"className\":\"fas fa-info-circle\",\"color\":\"white\",\"tagName\":\"i\"},\"type\":\"info\"}],\"kind\":null,\"name\":\"types\"}]},{\"extends\":null,\"module\":null,\"name\":\"Notification\",\"overrides\":[],\"properties\":[{\"default\":null,\"kind\":null,\"name\":\"background\"},{\"default\":3000,\"kind\":null,\"name\":\"duration\"},{\"default\":null,\"kind\":null,\"name\":\"icon\"},{\"default\":\"\",\"kind\":null,\"name\":\"message\"},{\"default\":null,\"kind\":null,\"name\":\"notification_type\"},{\"default\":false,\"kind\":null,\"name\":\"_destroyed\"}]},{\"extends\":null,\"module\":null,\"name\":\"TemplateActions1\",\"overrides\":[],\"properties\":[{\"default\":0,\"kind\":null,\"name\":\"open_modal\"},{\"default\":0,\"kind\":null,\"name\":\"close_modal\"}]},{\"extends\":null,\"module\":null,\"name\":\"MaterialTemplateActions1\",\"overrides\":[],\"properties\":[{\"default\":0,\"kind\":null,\"name\":\"open_modal\"},{\"default\":0,\"kind\":null,\"name\":\"close_modal\"}]}],\"roots\":{\"references\":[{\"attributes\":{\"axis\":{\"id\":\"4366\"},\"coordinates\":null,\"grid_line_color\":null,\"group\":null,\"ticker\":null},\"id\":\"4369\",\"type\":\"Grid\"},{\"attributes\":{},\"id\":\"4427\",\"type\":\"BasicTicker\"},{\"attributes\":{},\"id\":\"4371\",\"type\":\"BasicTicker\"},{\"attributes\":{\"callback\":null,\"renderers\":[{\"id\":\"4452\"}],\"tags\":[\"hv_created\"],\"tooltips\":[[\"price_change_percentage_24h\",\"@{price_change_percentage_24h}\"],[\"price_change_percentage_7d\",\"@{price_change_percentage_7d}\"],[\"group_id\",\"@{group_id}\"],[\"coin_id\",\"@{coin_id}\"]]},\"id\":\"4412\",\"type\":\"HoverTool\"},{\"attributes\":{\"axis_label\":\"PC2\",\"coordinates\":null,\"formatter\":{\"id\":\"4404\"},\"group\":null,\"major_label_policy\":{\"id\":\"4405\"},\"ticker\":{\"id\":\"4371\"}},\"id\":\"4370\",\"type\":\"LinearAxis\"},{\"attributes\":{},\"id\":\"4431\",\"type\":\"PanTool\"},{\"attributes\":{\"overlay\":{\"id\":\"4435\"}},\"id\":\"4433\",\"type\":\"BoxZoomTool\"},{\"attributes\":{\"end\":2.9976786562735933,\"reset_end\":2.9976786562735933,\"reset_start\":-2.107454305728652,\"start\":-2.107454305728652,\"tags\":[[[\"price_change_percentage_7d\",\"price_change_percentage_7d\",null]]]},\"id\":\"4411\",\"type\":\"Range1d\"},{\"attributes\":{},\"id\":\"4434\",\"type\":\"ResetTool\"},{\"attributes\":{\"axis\":{\"id\":\"4370\"},\"coordinates\":null,\"dimension\":1,\"grid_line_color\":null,\"group\":null,\"ticker\":null},\"id\":\"4373\",\"type\":\"Grid\"},{\"attributes\":{\"data\":{\"PC1\":{\"__ndarray__\":\"504dzB15AEDkMnEEa03/P1PPTEo9r++/3y0fbVwk77/FkwFpl6QKQHKy6xYjOARAjv97yejUBECzvXof5nECQLOuKJOaR/0/Tv1xoj9z678VBegJUYcAwGyw8zs3B/C/7spRAChb8r/Nd8JJ2/ENQL7usbuIEei/KWNvWYMA9j8yk9u5IUn+v8y8an0l0vK/flLMyhTjAkAWJ1FXzDbvv3pCfWw2CPm/ggYDhoZVAECgZFQtzGP3v/0v7hNur+2/WGIybOjn5r/Y/fy7CVvvv+bH/szXx+2/RuJDDeLPAsCaKtEw8BoAQIERxWdZ5/a/v5Xa0Kr067+PJoQwafHtvzgORq0x0AHAhSM3rGRQ+T8YKLBn0RMBwMbrPmXmNem/IYr2W8xYEUBG+7keTzkCwKbZyU1Ur+K/G/D24Pvk7r9biVp9VVbxvw==\",\"dtype\":\"float64\",\"order\":\"little\",\"shape\":[41]},\"PC2\":{\"__ndarray__\":\"o5cg4YQs4b/MSdI15krav8v86ZgREt2/R9W/J1io37/R/W80Y1vwvwb3dl+oCdu/36q2llrN2L85IsnXNPnRvyCCwvmfYOO/ZA8QCmvp6L+gdnI2tpDVvxD2zlPbcd2/x6qN1QJV579iL4erJkHOP/rK0ZRqEdq/jysggKZ66b9vAyEEzqmRv9OwHXhlH+G/Eltzjh7kzr+8eOt4jBHhvyyVkljqQNu/VmqDm6JR4b+iO7MLEaXdv18NagHBdNu/pd/W17fZ4z+vQB6szhzevyj/Mq7mhOm/qa3Z3/Z/5b/5KmdGNgTYv7ZVRU2NNAVAs5qF6vCc5L8ay8wgvWvjv8c9ovDnkh9ABJZg8z8R179uMLzZTr7nPztKCTmp3r0/6ijWh5eCFED8OE2ZhRXov9bEeeo8KOO/CvVn7DmQ3r/6OXYbfZvUvw==\",\"dtype\":\"float64\",\"order\":\"little\",\"shape\":[41]},\"coin_id\":[\"bitcoin\",\"ethereum\",\"tether\",\"ripple\",\"bitcoin-cash\",\"binancecoin\",\"chainlink\",\"cardano\",\"litecoin\",\"bitcoin-cash-sv\",\"crypto-com-chain\",\"usd-coin\",\"eos\",\"monero\",\"tron\",\"tezos\",\"okb\",\"stellar\",\"cosmos\",\"cdai\",\"neo\",\"wrapped-bitcoin\",\"leo-token\",\"huobi-token\",\"nem\",\"binance-usd\",\"iota\",\"vechain\",\"zcash\",\"theta-token\",\"dash\",\"ethereum-classic\",\"ethlend\",\"maker\",\"havven\",\"omisego\",\"celsius-degree-token\",\"ontology\",\"ftx-token\",\"true-usd\",\"digibyte\"],\"color\":{\"__ndarray__\":\"AAAAAAAAAAABAAAAAQAAAAAAAAAAAAAAAAAAAAAAAAAAAAAAAQAAAAEAAAABAAAAAQAAAAAAAAABAAAAAAAAAAEAAAABAAAAAAAAAAEAAAABAAAAAAAAAAEAAAABAAAAAQAAAAEAAAABAAAAAQAAAAAAAAABAAAAAQAAAAEAAAACAAAAAAAAAAEAAAABAAAAAwAAAAEAAAABAAAAAQAAAAEAAAA=\",\"dtype\":\"int32\",\"order\":\"little\",\"shape\":[41]},\"group_id\":{\"__ndarray__\":\"AAAAAAAAAAABAAAAAQAAAAAAAAAAAAAAAAAAAAAAAAAAAAAAAQAAAAEAAAABAAAAAQAAAAAAAAABAAAAAAAAAAEAAAABAAAAAAAAAAEAAAABAAAAAAAAAAEAAAABAAAAAQAAAAEAAAABAAAAAQAAAAAAAAABAAAAAQAAAAEAAAACAAAAAAAAAAEAAAABAAAAAwAAAAEAAAABAAAAAQAAAAEAAAA=\",\"dtype\":\"int32\",\"order\":\"little\",\"shape\":[41]}},\"selected\":{\"id\":\"4389\"},\"selection_policy\":{\"id\":\"4476\"}},\"id\":\"4388\",\"type\":\"ColumnDataSource\"},{\"attributes\":{\"children\":[{\"id\":\"4495\"}],\"margin\":[0,0,0,0],\"name\":\"Row04517\",\"tags\":[\"embedded\"]},\"id\":\"4353\",\"type\":\"Row\"},{\"attributes\":{},\"id\":\"4430\",\"type\":\"SaveTool\"},{\"attributes\":{},\"id\":\"4457\",\"type\":\"BasicTickFormatter\"},{\"attributes\":{},\"id\":\"4432\",\"type\":\"WheelZoomTool\"},{\"attributes\":{\"high\":3,\"low\":0,\"palette\":[\"#b3fef5\",\"#b0fef5\",\"#adfdf5\",\"#a9fcf5\",\"#a6fbf6\",\"#a3faf6\",\"#a0faf6\",\"#9df9f6\",\"#9af8f6\",\"#97f7f6\",\"#93f7f6\",\"#90f6f6\",\"#8df5f6\",\"#8af4f7\",\"#87f3f7\",\"#83f2f7\",\"#80f2f7\",\"#7df1f7\",\"#79f0f7\",\"#76eff7\",\"#73eef7\",\"#6fedf8\",\"#6cecf8\",\"#68ecf8\",\"#65ebf8\",\"#61eaf8\",\"#5ee9f8\",\"#5ae8f8\",\"#57e7f8\",\"#53e6f8\",\"#50e5f9\",\"#4ce4f9\",\"#49e3f9\",\"#45e2f9\",\"#42e1f9\",\"#3ee0f9\",\"#3bdff9\",\"#38def9\",\"#35ddf9\",\"#32dcf9\",\"#30dbfa\",\"#2ed9fa\",\"#2dd8fa\",\"#2cd7fa\",\"#2bd6fa\",\"#2bd5fa\",\"#2ad3fa\",\"#2ad2fa\",\"#29d1fa\",\"#29d0fb\",\"#29cffb\",\"#28cdfb\",\"#28ccfb\",\"#28cbfb\",\"#28cafb\",\"#28c8fb\",\"#28c7fb\",\"#29c6fb\",\"#29c5fb\",\"#29c4fb\",\"#29c2fb\",\"#2ac1fb\",\"#2ac0fb\",\"#2bbffb\",\"#2bbdfc\",\"#2cbcfc\",\"#2dbbfc\",\"#2db9fc\",\"#2eb8fc\",\"#2fb7fc\",\"#2fb6fc\",\"#30b4fc\",\"#31b3fc\",\"#32b2fc\",\"#32b0fc\",\"#33affc\",\"#33aefc\",\"#34adfc\",\"#34abfc\",\"#34aafc\",\"#35a9fc\",\"#35a8fc\",\"#35a6fc\",\"#35a5fc\",\"#35a4fc\",\"#35a3fc\",\"#35a1fc\",\"#35a0fc\",\"#359ffc\",\"#359dfc\",\"#359cfc\",\"#359bfc\",\"#349afd\",\"#3498fd\",\"#3497fd\",\"#3396fd\",\"#3395fd\",\"#3293fd\",\"#3292fd\",\"#3191fd\",\"#3090fd\",\"#308ffd\",\"#2f8dfd\",\"#2f8cfd\",\"#2e8bfd\",\"#2e8afd\",\"#2d88fd\",\"#2d87fd\",\"#2c86fd\",\"#2c84fd\",\"#2c83fd\",\"#2c82fd\",\"#2b81fd\",\"#2b7ffd\",\"#2b7efd\",\"#2b7dfd\",\"#2b7bfd\",\"#2b7afd\",\"#2b79fd\",\"#2b77fd\",\"#2b76fd\",\"#2b75fd\",\"#2b73fd\",\"#2c72fd\",\"#2c71fd\",\"#2c6ffd\",\"#2c6efd\",\"#2d6cfd\",\"#2d6bfd\",\"#2d6afc\",\"#2e68fc\",\"#2e67fc\",\"#2e65fc\",\"#2e64fc\",\"#2f62fc\",\"#2f61fc\",\"#2f5ffc\",\"#2f5efc\",\"#2f5dfc\",\"#2f5bfc\",\"#2f5afc\",\"#2f58fb\",\"#2f57fb\",\"#2f55fb\",\"#2f53fb\",\"#2f52fb\",\"#2f50fb\",\"#2f4ffb\",\"#2f4dfb\",\"#2e4cfb\",\"#2e4afb\",\"#2e48fb\",\"#2e47fa\",\"#2d45fa\",\"#2d43fa\",\"#2d42fa\",\"#2d40fa\",\"#2c3efa\",\"#2c3dfa\",\"#2b3bf9\",\"#2b39f9\",\"#2a37f9\",\"#2a36f8\",\"#2934f8\",\"#2832f7\",\"#2831f7\",\"#272ff6\",\"#262ef5\",\"#252cf5\",\"#252af4\",\"#2429f3\",\"#2327f2\",\"#2226f1\",\"#2124f0\",\"#2023ef\",\"#1f22ee\",\"#1e20ed\",\"#1d1feb\",\"#1c1eea\",\"#1b1ce9\",\"#1a1be7\",\"#181ae6\",\"#1719e5\",\"#1618e3\",\"#1417e1\",\"#1316e0\",\"#1215de\",\"#1014dc\",\"#0f13db\",\"#0e12d9\",\"#0d11d7\",\"#0c10d5\",\"#0b0fd3\",\"#0a0ed1\",\"#090dd0\",\"#080dce\",\"#080ccc\",\"#070bca\",\"#070ac8\",\"#0709c6\",\"#0708c4\",\"#0707c2\",\"#0707bf\",\"#0806bd\",\"#0806bb\",\"#0905b9\",\"#0904b7\",\"#0a04b5\",\"#0a04b2\",\"#0b03b0\",\"#0c03ae\",\"#0d02ab\",\"#0e02a9\",\"#0e02a7\",\"#0f02a4\",\"#0f01a2\",\"#1001a0\",\"#10019d\",\"#10019b\",\"#100199\",\"#100197\",\"#100194\",\"#0f0192\",\"#0f0190\",\"#0f018e\",\"#0e018b\",\"#0e0189\",\"#0d0187\",\"#0d0185\",\"#0c0183\",\"#0b0181\",\"#0b017e\",\"#0a017c\",\"#09017a\",\"#090178\",\"#080276\",\"#070274\",\"#060272\",\"#060270\",\"#05026e\",\"#04026c\",\"#030269\",\"#030267\",\"#020265\",\"#010263\",\"#010261\",\"#00025f\",\"#00025d\",\"#00025b\",\"#000259\",\"#000257\",\"#000255\",\"#000154\",\"#000152\",\"#000150\",\"#00004e\"]},\"id\":\"4443\",\"type\":\"LinearColorMapper\"},{\"attributes\":{\"fill_color\":{\"field\":\"color\",\"transform\":{\"id\":\"4387\"}},\"hatch_color\":{\"field\":\"color\",\"transform\":{\"id\":\"4387\"}},\"line_color\":{\"field\":\"color\",\"transform\":{\"id\":\"4387\"}},\"size\":{\"value\":5.477225575051661},\"tags\":[\"apply_ranges\"],\"x\":{\"field\":\"PC1\"},\"y\":{\"field\":\"PC2\"}},\"id\":\"4393\",\"type\":\"Scatter\"},{\"attributes\":{\"coordinates\":null,\"data_source\":{\"id\":\"4388\"},\"glyph\":{\"id\":\"4391\"},\"group\":null,\"hover_glyph\":{\"id\":\"4394\"},\"muted_glyph\":{\"id\":\"4395\"},\"nonselection_glyph\":{\"id\":\"4392\"},\"selection_glyph\":{\"id\":\"4393\"},\"view\":{\"id\":\"4397\"}},\"id\":\"4396\",\"type\":\"GlyphRenderer\"},{\"attributes\":{\"below\":[{\"id\":\"4422\"}],\"center\":[{\"id\":\"4425\"},{\"id\":\"4429\"}],\"height\":400,\"left\":[{\"id\":\"4426\"}],\"margin\":null,\"min_border_bottom\":10,\"min_border_left\":10,\"min_border_right\":10,\"min_border_top\":10,\"output_backend\":\"webgl\",\"renderers\":[{\"id\":\"4452\"}],\"right\":[{\"id\":\"4455\"}],\"sizing_mode\":\"fixed\",\"title\":{\"id\":\"4414\"},\"toolbar\":{\"id\":\"4436\"},\"toolbar_location\":null,\"width\":800,\"x_range\":{\"id\":\"4410\"},\"x_scale\":{\"id\":\"4418\"},\"y_range\":{\"id\":\"4411\"},\"y_scale\":{\"id\":\"4420\"}},\"id\":\"4413\",\"subtype\":\"Figure\",\"type\":\"Plot\"},{\"attributes\":{},\"id\":\"4362\",\"type\":\"LinearScale\"},{\"attributes\":{\"axis\":{\"id\":\"4422\"},\"coordinates\":null,\"grid_line_color\":null,\"group\":null,\"ticker\":null},\"id\":\"4425\",\"type\":\"Grid\"},{\"attributes\":{\"axis_label\":\"price_change_percentage_7d\",\"coordinates\":null,\"formatter\":{\"id\":\"4460\"},\"group\":null,\"major_label_policy\":{\"id\":\"4461\"},\"ticker\":{\"id\":\"4427\"}},\"id\":\"4426\",\"type\":\"LinearAxis\"},{\"attributes\":{},\"id\":\"4374\",\"type\":\"SaveTool\"},{\"attributes\":{},\"id\":\"4472\",\"type\":\"NoOverlap\"},{\"attributes\":{},\"id\":\"4458\",\"type\":\"AllLabels\"},{\"attributes\":{},\"id\":\"4375\",\"type\":\"PanTool\"},{\"attributes\":{},\"id\":\"4367\",\"type\":\"BasicTicker\"},{\"attributes\":{},\"id\":\"4378\",\"type\":\"ResetTool\"},{\"attributes\":{},\"id\":\"4376\",\"type\":\"WheelZoomTool\"},{\"attributes\":{\"toolbars\":[{\"id\":\"4380\"},{\"id\":\"4436\"}],\"tools\":[{\"id\":\"4356\"},{\"id\":\"4374\"},{\"id\":\"4375\"},{\"id\":\"4376\"},{\"id\":\"4377\"},{\"id\":\"4378\"},{\"id\":\"4412\"},{\"id\":\"4430\"},{\"id\":\"4431\"},{\"id\":\"4432\"},{\"id\":\"4433\"},{\"id\":\"4434\"}]},\"id\":\"4493\",\"type\":\"ProxyToolbar\"},{\"attributes\":{\"overlay\":{\"id\":\"4379\"}},\"id\":\"4377\",\"type\":\"BoxZoomTool\"},{\"attributes\":{\"coordinates\":null,\"group\":null,\"text\":\"Without PCA\",\"text_color\":\"black\",\"text_font_size\":\"12pt\"},\"id\":\"4414\",\"type\":\"Title\"},{\"attributes\":{\"source\":{\"id\":\"4388\"}},\"id\":\"4397\",\"type\":\"CDSView\"},{\"attributes\":{},\"id\":\"4484\",\"type\":\"NoOverlap\"},{\"attributes\":{},\"id\":\"4420\",\"type\":\"LinearScale\"},{\"attributes\":{\"fill_alpha\":{\"value\":0.2},\"fill_color\":{\"field\":\"color\",\"transform\":{\"id\":\"4387\"}},\"hatch_alpha\":{\"value\":0.2},\"hatch_color\":{\"field\":\"color\",\"transform\":{\"id\":\"4387\"}},\"line_alpha\":{\"value\":0.2},\"line_color\":{\"field\":\"color\",\"transform\":{\"id\":\"4387\"}},\"size\":{\"value\":5.477225575051661},\"tags\":[\"apply_ranges\"],\"x\":{\"field\":\"PC1\"},\"y\":{\"field\":\"PC2\"}},\"id\":\"4395\",\"type\":\"Scatter\"},{\"attributes\":{\"active_drag\":{\"id\":\"4375\"},\"active_scroll\":{\"id\":\"4376\"},\"tools\":[{\"id\":\"4356\"},{\"id\":\"4374\"},{\"id\":\"4375\"},{\"id\":\"4376\"},{\"id\":\"4377\"},{\"id\":\"4378\"}]},\"id\":\"4380\",\"type\":\"Toolbar\"},{\"attributes\":{},\"id\":\"4461\",\"type\":\"AllLabels\"},{\"attributes\":{\"fill_color\":{\"field\":\"color\",\"transform\":{\"id\":\"4443\"}},\"hatch_color\":{\"field\":\"color\",\"transform\":{\"id\":\"4443\"}},\"line_color\":{\"field\":\"color\",\"transform\":{\"id\":\"4443\"}},\"size\":{\"value\":5.477225575051661},\"tags\":[\"apply_ranges\"],\"x\":{\"field\":\"price_change_percentage_24h\"},\"y\":{\"field\":\"price_change_percentage_7d\"}},\"id\":\"4449\",\"type\":\"Scatter\"},{\"attributes\":{},\"id\":\"4460\",\"type\":\"BasicTickFormatter\"},{\"attributes\":{\"bottom_units\":\"screen\",\"coordinates\":null,\"fill_alpha\":0.5,\"fill_color\":\"lightgrey\",\"group\":null,\"left_units\":\"screen\",\"level\":\"overlay\",\"line_alpha\":1.0,\"line_color\":\"black\",\"line_dash\":[4,4],\"line_width\":2,\"right_units\":\"screen\",\"syncable\":false,\"top_units\":\"screen\"},\"id\":\"4379\",\"type\":\"BoxAnnotation\"},{\"attributes\":{},\"id\":\"4454\",\"type\":\"BasicTicker\"},{\"attributes\":{\"active_drag\":{\"id\":\"4431\"},\"active_scroll\":{\"id\":\"4432\"},\"tools\":[{\"id\":\"4412\"},{\"id\":\"4430\"},{\"id\":\"4431\"},{\"id\":\"4432\"},{\"id\":\"4433\"},{\"id\":\"4434\"}]},\"id\":\"4436\",\"type\":\"Toolbar\"},{\"attributes\":{},\"id\":\"4423\",\"type\":\"BasicTicker\"},{\"attributes\":{\"callback\":null,\"renderers\":[{\"id\":\"4396\"}],\"tags\":[\"hv_created\"],\"tooltips\":[[\"PC1\",\"@{PC1}\"],[\"PC2\",\"@{PC2}\"],[\"group_id\",\"@{group_id}\"],[\"coin_id\",\"@{coin_id}\"]]},\"id\":\"4356\",\"type\":\"HoverTool\"},{\"attributes\":{\"end\":2.264855054580661,\"reset_end\":2.264855054580661,\"reset_start\":-5.326084597816067,\"start\":-5.326084597816067,\"tags\":[[[\"price_change_percentage_24h\",\"price_change_percentage_24h\",null]]]},\"id\":\"4410\",\"type\":\"Range1d\"},{\"attributes\":{\"bottom_units\":\"screen\",\"coordinates\":null,\"fill_alpha\":0.5,\"fill_color\":\"lightgrey\",\"group\":null,\"left_units\":\"screen\",\"level\":\"overlay\",\"line_alpha\":1.0,\"line_color\":\"black\",\"line_dash\":[4,4],\"line_width\":2,\"right_units\":\"screen\",\"syncable\":false,\"top_units\":\"screen\"},\"id\":\"4435\",\"type\":\"BoxAnnotation\"},{\"attributes\":{\"fill_alpha\":{\"value\":0.1},\"fill_color\":{\"field\":\"color\",\"transform\":{\"id\":\"4387\"}},\"hatch_alpha\":{\"value\":0.1},\"hatch_color\":{\"field\":\"color\",\"transform\":{\"id\":\"4387\"}},\"line_alpha\":{\"value\":0.1},\"line_color\":{\"field\":\"color\",\"transform\":{\"id\":\"4387\"}},\"size\":{\"value\":5.477225575051661},\"tags\":[\"apply_ranges\"],\"x\":{\"field\":\"PC1\"},\"y\":{\"field\":\"PC2\"}},\"id\":\"4392\",\"type\":\"Scatter\"},{\"attributes\":{},\"id\":\"4418\",\"type\":\"LinearScale\"},{\"attributes\":{\"fill_color\":{\"field\":\"color\",\"transform\":{\"id\":\"4387\"}},\"hatch_color\":{\"field\":\"color\",\"transform\":{\"id\":\"4387\"}},\"line_color\":{\"field\":\"color\",\"transform\":{\"id\":\"4387\"}},\"size\":{\"value\":5.477225575051661},\"tags\":[\"apply_ranges\"],\"x\":{\"field\":\"PC1\"},\"y\":{\"field\":\"PC2\"}},\"id\":\"4391\",\"type\":\"Scatter\"},{\"attributes\":{\"high\":3,\"low\":0,\"palette\":[\"#b3fef5\",\"#b0fef5\",\"#adfdf5\",\"#a9fcf5\",\"#a6fbf6\",\"#a3faf6\",\"#a0faf6\",\"#9df9f6\",\"#9af8f6\",\"#97f7f6\",\"#93f7f6\",\"#90f6f6\",\"#8df5f6\",\"#8af4f7\",\"#87f3f7\",\"#83f2f7\",\"#80f2f7\",\"#7df1f7\",\"#79f0f7\",\"#76eff7\",\"#73eef7\",\"#6fedf8\",\"#6cecf8\",\"#68ecf8\",\"#65ebf8\",\"#61eaf8\",\"#5ee9f8\",\"#5ae8f8\",\"#57e7f8\",\"#53e6f8\",\"#50e5f9\",\"#4ce4f9\",\"#49e3f9\",\"#45e2f9\",\"#42e1f9\",\"#3ee0f9\",\"#3bdff9\",\"#38def9\",\"#35ddf9\",\"#32dcf9\",\"#30dbfa\",\"#2ed9fa\",\"#2dd8fa\",\"#2cd7fa\",\"#2bd6fa\",\"#2bd5fa\",\"#2ad3fa\",\"#2ad2fa\",\"#29d1fa\",\"#29d0fb\",\"#29cffb\",\"#28cdfb\",\"#28ccfb\",\"#28cbfb\",\"#28cafb\",\"#28c8fb\",\"#28c7fb\",\"#29c6fb\",\"#29c5fb\",\"#29c4fb\",\"#29c2fb\",\"#2ac1fb\",\"#2ac0fb\",\"#2bbffb\",\"#2bbdfc\",\"#2cbcfc\",\"#2dbbfc\",\"#2db9fc\",\"#2eb8fc\",\"#2fb7fc\",\"#2fb6fc\",\"#30b4fc\",\"#31b3fc\",\"#32b2fc\",\"#32b0fc\",\"#33affc\",\"#33aefc\",\"#34adfc\",\"#34abfc\",\"#34aafc\",\"#35a9fc\",\"#35a8fc\",\"#35a6fc\",\"#35a5fc\",\"#35a4fc\",\"#35a3fc\",\"#35a1fc\",\"#35a0fc\",\"#359ffc\",\"#359dfc\",\"#359cfc\",\"#359bfc\",\"#349afd\",\"#3498fd\",\"#3497fd\",\"#3396fd\",\"#3395fd\",\"#3293fd\",\"#3292fd\",\"#3191fd\",\"#3090fd\",\"#308ffd\",\"#2f8dfd\",\"#2f8cfd\",\"#2e8bfd\",\"#2e8afd\",\"#2d88fd\",\"#2d87fd\",\"#2c86fd\",\"#2c84fd\",\"#2c83fd\",\"#2c82fd\",\"#2b81fd\",\"#2b7ffd\",\"#2b7efd\",\"#2b7dfd\",\"#2b7bfd\",\"#2b7afd\",\"#2b79fd\",\"#2b77fd\",\"#2b76fd\",\"#2b75fd\",\"#2b73fd\",\"#2c72fd\",\"#2c71fd\",\"#2c6ffd\",\"#2c6efd\",\"#2d6cfd\",\"#2d6bfd\",\"#2d6afc\",\"#2e68fc\",\"#2e67fc\",\"#2e65fc\",\"#2e64fc\",\"#2f62fc\",\"#2f61fc\",\"#2f5ffc\",\"#2f5efc\",\"#2f5dfc\",\"#2f5bfc\",\"#2f5afc\",\"#2f58fb\",\"#2f57fb\",\"#2f55fb\",\"#2f53fb\",\"#2f52fb\",\"#2f50fb\",\"#2f4ffb\",\"#2f4dfb\",\"#2e4cfb\",\"#2e4afb\",\"#2e48fb\",\"#2e47fa\",\"#2d45fa\",\"#2d43fa\",\"#2d42fa\",\"#2d40fa\",\"#2c3efa\",\"#2c3dfa\",\"#2b3bf9\",\"#2b39f9\",\"#2a37f9\",\"#2a36f8\",\"#2934f8\",\"#2832f7\",\"#2831f7\",\"#272ff6\",\"#262ef5\",\"#252cf5\",\"#252af4\",\"#2429f3\",\"#2327f2\",\"#2226f1\",\"#2124f0\",\"#2023ef\",\"#1f22ee\",\"#1e20ed\",\"#1d1feb\",\"#1c1eea\",\"#1b1ce9\",\"#1a1be7\",\"#181ae6\",\"#1719e5\",\"#1618e3\",\"#1417e1\",\"#1316e0\",\"#1215de\",\"#1014dc\",\"#0f13db\",\"#0e12d9\",\"#0d11d7\",\"#0c10d5\",\"#0b0fd3\",\"#0a0ed1\",\"#090dd0\",\"#080dce\",\"#080ccc\",\"#070bca\",\"#070ac8\",\"#0709c6\",\"#0708c4\",\"#0707c2\",\"#0707bf\",\"#0806bd\",\"#0806bb\",\"#0905b9\",\"#0904b7\",\"#0a04b5\",\"#0a04b2\",\"#0b03b0\",\"#0c03ae\",\"#0d02ab\",\"#0e02a9\",\"#0e02a7\",\"#0f02a4\",\"#0f01a2\",\"#1001a0\",\"#10019d\",\"#10019b\",\"#100199\",\"#100197\",\"#100194\",\"#0f0192\",\"#0f0190\",\"#0f018e\",\"#0e018b\",\"#0e0189\",\"#0d0187\",\"#0d0185\",\"#0c0183\",\"#0b0181\",\"#0b017e\",\"#0a017c\",\"#09017a\",\"#090178\",\"#080276\",\"#070274\",\"#060272\",\"#060270\",\"#05026e\",\"#04026c\",\"#030269\",\"#030267\",\"#020265\",\"#010263\",\"#010261\",\"#00025f\",\"#00025d\",\"#00025b\",\"#000259\",\"#000257\",\"#000255\",\"#000154\",\"#000152\",\"#000150\",\"#00004e\"]},\"id\":\"4387\",\"type\":\"LinearColorMapper\"},{\"attributes\":{\"fill_color\":{\"field\":\"color\",\"transform\":{\"id\":\"4387\"}},\"hatch_color\":{\"field\":\"color\",\"transform\":{\"id\":\"4387\"}},\"line_color\":{\"field\":\"color\",\"transform\":{\"id\":\"4387\"}},\"size\":{\"value\":5.477225575051661},\"tags\":[\"apply_ranges\"],\"x\":{\"field\":\"PC1\"},\"y\":{\"field\":\"PC2\"}},\"id\":\"4394\",\"type\":\"Scatter\"},{\"attributes\":{\"coordinates\":null,\"data_source\":{\"id\":\"4444\"},\"glyph\":{\"id\":\"4447\"},\"group\":null,\"hover_glyph\":{\"id\":\"4450\"},\"muted_glyph\":{\"id\":\"4451\"},\"nonselection_glyph\":{\"id\":\"4448\"},\"selection_glyph\":{\"id\":\"4449\"},\"view\":{\"id\":\"4453\"}},\"id\":\"4452\",\"type\":\"GlyphRenderer\"},{\"attributes\":{\"bar_line_color\":\"black\",\"color_mapper\":{\"id\":\"4443\"},\"coordinates\":null,\"group\":null,\"label_standoff\":8,\"location\":[0,0],\"major_label_policy\":{\"id\":\"4484\"},\"major_tick_line_color\":\"black\",\"ticker\":{\"id\":\"4454\"}},\"id\":\"4455\",\"type\":\"ColorBar\"},{\"attributes\":{\"end\":8.785040336967517,\"reset_end\":8.785040336967517,\"reset_start\":-1.9138888371538947,\"start\":-1.9138888371538947,\"tags\":[[[\"PC2\",\"PC2\",null]]]},\"id\":\"4355\",\"type\":\"Range1d\"},{\"attributes\":{},\"id\":\"4404\",\"type\":\"BasicTickFormatter\"},{\"attributes\":{},\"id\":\"4398\",\"type\":\"BasicTicker\"},{\"attributes\":{},\"id\":\"4405\",\"type\":\"AllLabels\"},{\"attributes\":{\"bar_line_color\":\"black\",\"color_mapper\":{\"id\":\"4387\"},\"coordinates\":null,\"group\":null,\"label_standoff\":8,\"location\":[0,0],\"major_label_policy\":{\"id\":\"4472\"},\"major_tick_line_color\":\"black\",\"ticker\":{\"id\":\"4398\"}},\"id\":\"4399\",\"type\":\"ColorBar\"},{\"attributes\":{},\"id\":\"4488\",\"type\":\"UnionRenderers\"},{\"attributes\":{\"axis\":{\"id\":\"4426\"},\"coordinates\":null,\"dimension\":1,\"grid_line_color\":null,\"group\":null,\"ticker\":null},\"id\":\"4429\",\"type\":\"Grid\"},{\"attributes\":{\"toolbar\":{\"id\":\"4493\"},\"toolbar_location\":\"above\"},\"id\":\"4494\",\"type\":\"ToolbarBox\"},{\"attributes\":{\"data\":{\"coin_id\":[\"bitcoin\",\"ethereum\",\"tether\",\"ripple\",\"bitcoin-cash\",\"binancecoin\",\"chainlink\",\"cardano\",\"litecoin\",\"bitcoin-cash-sv\",\"crypto-com-chain\",\"usd-coin\",\"eos\",\"monero\",\"tron\",\"tezos\",\"okb\",\"stellar\",\"cosmos\",\"cdai\",\"neo\",\"wrapped-bitcoin\",\"leo-token\",\"huobi-token\",\"nem\",\"binance-usd\",\"iota\",\"vechain\",\"zcash\",\"theta-token\",\"dash\",\"ethereum-classic\",\"ethlend\",\"maker\",\"havven\",\"omisego\",\"celsius-degree-token\",\"ontology\",\"ftx-token\",\"true-usd\",\"digibyte\"],\"color\":{\"__ndarray__\":\"AwAAAAMAAAAAAAAAAAAAAAMAAAADAAAAAwAAAAMAAAADAAAAAAAAAAAAAAAAAAAAAAAAAAMAAAAAAAAAAwAAAAAAAAAAAAAAAwAAAAAAAAAAAAAAAwAAAAAAAAAAAAAAAAAAAAAAAAAAAAAAAAAAAAMAAAAAAAAAAAAAAAAAAAABAAAAAwAAAAAAAAAAAAAAAgAAAAAAAAAAAAAAAAAAAAAAAAA=\",\"dtype\":\"int32\",\"order\":\"little\",\"shape\":[41]},\"group_id\":{\"__ndarray__\":\"AwAAAAMAAAAAAAAAAAAAAAMAAAADAAAAAwAAAAMAAAADAAAAAAAAAAAAAAAAAAAAAAAAAAMAAAAAAAAAAwAAAAAAAAAAAAAAAwAAAAAAAAAAAAAAAwAAAAAAAAAAAAAAAAAAAAAAAAAAAAAAAAAAAAMAAAAAAAAAAAAAAAAAAAABAAAAAwAAAAAAAAAAAAAAAgAAAAAAAAAAAAAAAAAAAAAAAAA=\",\"dtype\":\"int32\",\"order\":\"little\",\"shape\":[41]},\"price_change_percentage_24h\":{\"__ndarray__\":\"DdlqYN9F4D86azDosLzHP5UiRdTpS5Y/5iURtxHfpL8wCyMArRbzP/cOjHA0iuw/1QxzqW9Xhz8zBL2hZD+6P0jbN/ba1rM/WpkZGJ+73D/9slcesDPVP/IxOp6elqE/H2STd0ruwz9Fpj8/c9DQPxo0XoR2pcA/jkB40RVnw790fnl54Irtv9XPDahDw9G/qa8st/Fh0L/6U5ZBISbHP6Olu6TDVtI/BVlpN5h+4D+njODODoCqPwjDDo/fo6q/woaukuXmy79od0yHwmevP8HhEPEMldA/ypmU5gu54j+sKNPN2lDAv1gH9WGFy/m/N7JuVBEB07/EU4GAhEGyv91nhz6W7BPA/ACFOIMFwL/DnH9IcNv2v5ezwSWNt/4/VLqXBn668D/IKcQzxy3av5WrmDyeito/Bf22eE/6sz9Y362Ir3rzPw==\",\"dtype\":\"float64\",\"order\":\"little\",\"shape\":[41]},\"price_change_percentage_7d\":{\"__ndarray__\":\"UVk8q3mQ3z9xoPpI+ebtP26UiL5Pmua/Uro8ah/z6b8wAdnT9gEAQIFpDjGZPPU/AjbpSPiTBEAmUWkixiD4P/CMI2gdZdU/EpTtp1doyL936vtUZtb5v0YZLH/ydOe/jN8GjguF7b8rMp3jf678PxhAcFxBAKW/Y2ZRGoqp5j8Udj8VbP/2vyaelkVDp9i/Wq6ZksNx/T/uJm9WzI7mvzG74lUf4tS/QXzKstaO3T85jfoETLXtv6ZqpXs9Q92/w7TyyiEu678nI2rMB53mv0wuo6Hk788/30Zrgr7Q778jzwwdV7vtP/9TV66U6fq/W2X+mWVCuD8LJ0pHuV/Nv4iFotqbIae/sLW7TleV4j/yyBNmVh+av0o8Y/5ntdc/N/03JFjJ47+Itdvf1gXtv10vihmzf9o/fX1xtwIC5r/TTlu6Y3Ljvw==\",\"dtype\":\"float64\",\"order\":\"little\",\"shape\":[41]}},\"selected\":{\"id\":\"4445\"},\"selection_policy\":{\"id\":\"4488\"}},\"id\":\"4444\",\"type\":\"ColumnDataSource\"},{\"attributes\":{\"below\":[{\"id\":\"4366\"}],\"center\":[{\"id\":\"4369\"},{\"id\":\"4373\"}],\"height\":400,\"left\":[{\"id\":\"4370\"}],\"margin\":null,\"min_border_bottom\":10,\"min_border_left\":10,\"min_border_right\":10,\"min_border_top\":10,\"output_backend\":\"webgl\",\"renderers\":[{\"id\":\"4396\"}],\"right\":[{\"id\":\"4399\"}],\"sizing_mode\":\"fixed\",\"title\":{\"id\":\"4358\"},\"toolbar\":{\"id\":\"4380\"},\"toolbar_location\":null,\"width\":800,\"x_range\":{\"id\":\"4354\"},\"x_scale\":{\"id\":\"4362\"},\"y_range\":{\"id\":\"4355\"},\"y_scale\":{\"id\":\"4364\"}},\"id\":\"4357\",\"subtype\":\"Figure\",\"type\":\"Plot\"},{\"attributes\":{},\"id\":\"4389\",\"type\":\"Selection\"},{\"attributes\":{\"axis_label\":\"price_change_percentage_24h\",\"coordinates\":null,\"formatter\":{\"id\":\"4457\"},\"group\":null,\"major_label_policy\":{\"id\":\"4458\"},\"ticker\":{\"id\":\"4423\"}},\"id\":\"4422\",\"type\":\"LinearAxis\"},{\"attributes\":{\"end\":4.671128190946977,\"reset_end\":4.671128190946977,\"reset_start\":-2.685916500722874,\"start\":-2.685916500722874,\"tags\":[[[\"PC1\",\"PC1\",null]]]},\"id\":\"4354\",\"type\":\"Range1d\"},{\"attributes\":{\"source\":{\"id\":\"4444\"}},\"id\":\"4453\",\"type\":\"CDSView\"},{\"attributes\":{},\"id\":\"4402\",\"type\":\"AllLabels\"},{\"attributes\":{\"fill_color\":{\"field\":\"color\",\"transform\":{\"id\":\"4443\"}},\"hatch_color\":{\"field\":\"color\",\"transform\":{\"id\":\"4443\"}},\"line_color\":{\"field\":\"color\",\"transform\":{\"id\":\"4443\"}},\"size\":{\"value\":5.477225575051661},\"tags\":[\"apply_ranges\"],\"x\":{\"field\":\"price_change_percentage_24h\"},\"y\":{\"field\":\"price_change_percentage_7d\"}},\"id\":\"4447\",\"type\":\"Scatter\"},{\"attributes\":{\"fill_color\":{\"field\":\"color\",\"transform\":{\"id\":\"4443\"}},\"hatch_color\":{\"field\":\"color\",\"transform\":{\"id\":\"4443\"}},\"line_color\":{\"field\":\"color\",\"transform\":{\"id\":\"4443\"}},\"size\":{\"value\":5.477225575051661},\"tags\":[\"apply_ranges\"],\"x\":{\"field\":\"price_change_percentage_24h\"},\"y\":{\"field\":\"price_change_percentage_7d\"}},\"id\":\"4450\",\"type\":\"Scatter\"},{\"attributes\":{\"children\":[[{\"id\":\"4357\"},0,0],[{\"id\":\"4413\"},0,1]]},\"id\":\"4492\",\"type\":\"GridBox\"},{\"attributes\":{},\"id\":\"4401\",\"type\":\"BasicTickFormatter\"},{\"attributes\":{\"fill_alpha\":{\"value\":0.2},\"fill_color\":{\"field\":\"color\",\"transform\":{\"id\":\"4443\"}},\"hatch_alpha\":{\"value\":0.2},\"hatch_color\":{\"field\":\"color\",\"transform\":{\"id\":\"4443\"}},\"line_alpha\":{\"value\":0.2},\"line_color\":{\"field\":\"color\",\"transform\":{\"id\":\"4443\"}},\"size\":{\"value\":5.477225575051661},\"tags\":[\"apply_ranges\"],\"x\":{\"field\":\"price_change_percentage_24h\"},\"y\":{\"field\":\"price_change_percentage_7d\"}},\"id\":\"4451\",\"type\":\"Scatter\"},{\"attributes\":{},\"id\":\"4364\",\"type\":\"LinearScale\"},{\"attributes\":{},\"id\":\"4445\",\"type\":\"Selection\"},{\"attributes\":{},\"id\":\"4476\",\"type\":\"UnionRenderers\"},{\"attributes\":{\"coordinates\":null,\"group\":null,\"text\":\"With PCA\",\"text_color\":\"black\",\"text_font_size\":\"12pt\"},\"id\":\"4358\",\"type\":\"Title\"},{\"attributes\":{\"fill_alpha\":{\"value\":0.1},\"fill_color\":{\"field\":\"color\",\"transform\":{\"id\":\"4443\"}},\"hatch_alpha\":{\"value\":0.1},\"hatch_color\":{\"field\":\"color\",\"transform\":{\"id\":\"4443\"}},\"line_alpha\":{\"value\":0.1},\"line_color\":{\"field\":\"color\",\"transform\":{\"id\":\"4443\"}},\"size\":{\"value\":5.477225575051661},\"tags\":[\"apply_ranges\"],\"x\":{\"field\":\"price_change_percentage_24h\"},\"y\":{\"field\":\"price_change_percentage_7d\"}},\"id\":\"4448\",\"type\":\"Scatter\"},{\"attributes\":{\"axis_label\":\"PC1\",\"coordinates\":null,\"formatter\":{\"id\":\"4401\"},\"group\":null,\"major_label_policy\":{\"id\":\"4402\"},\"ticker\":{\"id\":\"4367\"}},\"id\":\"4366\",\"type\":\"LinearAxis\"},{\"attributes\":{\"children\":[{\"id\":\"4494\"},{\"id\":\"4492\"}]},\"id\":\"4495\",\"type\":\"Column\"}],\"root_ids\":[\"4353\"]},\"title\":\"Bokeh Application\",\"version\":\"2.4.3\"}};\n",
       "    var render_items = [{\"docid\":\"717ef399-79f5-4a14-806b-9a583369658c\",\"root_ids\":[\"4353\"],\"roots\":{\"4353\":\"aa191dcb-d74a-41a6-b180-9da9cb1486a4\"}}];\n",
       "    root.Bokeh.embed.embed_items_notebook(docs_json, render_items);\n",
       "    for (const render_item of render_items) {\n",
       "      for (const root_id of render_item.root_ids) {\n",
       "\tconst id_el = document.getElementById(root_id)\n",
       "\tif (id_el.children.length && (id_el.children[0].className === 'bk-root')) {\n",
       "\t  const root_el = id_el.children[0]\n",
       "\t  root_el.id = root_el.id + '-rendered'\n",
       "\t}\n",
       "      }\n",
       "    }\n",
       "  }\n",
       "  if (root.Bokeh !== undefined && root.Bokeh.Panel !== undefined) {\n",
       "    embed_document(root);\n",
       "  } else {\n",
       "    var attempts = 0;\n",
       "    var timer = setInterval(function(root) {\n",
       "      if (root.Bokeh !== undefined && root.Bokeh.Panel !== undefined) {\n",
       "        clearInterval(timer);\n",
       "        embed_document(root);\n",
       "      } else if (document.readyState == \"complete\") {\n",
       "        attempts++;\n",
       "        if (attempts > 200) {\n",
       "          clearInterval(timer);\n",
       "          console.log(\"Bokeh: ERROR: Unable to run BokehJS code because BokehJS library is missing\");\n",
       "        }\n",
       "      }\n",
       "    }, 25, root)\n",
       "  }\n",
       "})(window);</script>"
      ],
      "text/plain": [
       ":Layout\n",
       "   .Scatter.I  :Scatter   [PC1]   (PC2,group_id,coin_id)\n",
       "   .Scatter.II :Scatter   [price_change_percentage_24h]   (price_change_percentage_7d,group_id,coin_id)"
      ]
     },
     "execution_count": 106,
     "metadata": {
      "application/vnd.holoviews_exec.v0+json": {
       "id": "4353"
      }
     },
     "output_type": "execute_result"
    }
   ],
   "source": [
    "# Composite plot to contrast the clusters\n",
    "# YOUR CODE HERE!\n",
    "pca_scatter = pca_ideal_k_df.hvplot.scatter(\n",
    "    # `x=\"PC1\"` and `y=\"PC2\"`. \n",
    "    x = \"PC1\",\n",
    "    y = \"PC2\",\n",
    "    # Color the graph points with the labels found using K-Means and \n",
    "    c = \"group_id\",\n",
    "    # add the crypto name in the `hover_cols` parameter to identify the cryptocurrency represented by each data point.\n",
    "    hover_cols = \"coin_id\",\n",
    "    title = \"With PCA\",\n",
    "    width=800,\n",
    "    height=400,\n",
    ")\n",
    "\n",
    "non_pca_scatter = trans_mkt_df_copy.hvplot.scatter(\n",
    "    # `x=\"price_change_percentage_24h\"` and `y=\"price_change_percentage_7d\"`.\n",
    "    x = \"price_change_percentage_24h\",\n",
    "    y = \"price_change_percentage_7d\",\n",
    "    # Color the graph points with the labels found using K-Means and \n",
    "    c = \"group_id\",\n",
    "    # add the crypto name in the `hover_cols` parameter to identify the cryptocurrency represented by each data point.\n",
    "    hover_cols = \"coin_id\",\n",
    "    title = \"Without PCA\",\n",
    "    width=800,\n",
    "    height=400\n",
    ")\n",
    "\n",
    "combined_scatter = pca_scatter+non_pca_scatter\n",
    "combined_scatter"
   ]
  },
  {
   "attachments": {},
   "cell_type": "markdown",
   "metadata": {},
   "source": [
    "#### Answer the following question: \n",
    "\n",
    "  * **Question:** After visually analyzing the cluster analysis results, what is the impact of using fewer features to cluster the data using K-Means?\n",
    "\n",
    "  * **Answer:** There is a sharper KMean elbow with the PCA data and a more clear division between the clusters when displayed on a scatter plot, implying this is the beter model to use."
   ]
  }
 ],
 "metadata": {
  "kernelspec": {
   "display_name": "Python 3 (ipykernel)",
   "language": "python",
   "name": "python3"
  },
  "language_info": {
   "codemirror_mode": {
    "name": "ipython",
    "version": 3
   },
   "file_extension": ".py",
   "mimetype": "text/x-python",
   "name": "python",
   "nbconvert_exporter": "python",
   "pygments_lexer": "ipython3",
   "version": "3.7.7"
  },
  "nteract": {
   "version": "0.28.0"
  },
  "vscode": {
   "interpreter": {
    "hash": "40d3a090f54c6569ab1632332b64b2c03c39dcf918b08424e98f38b5ae0af88f"
   }
  }
 },
 "nbformat": 4,
 "nbformat_minor": 4
}
